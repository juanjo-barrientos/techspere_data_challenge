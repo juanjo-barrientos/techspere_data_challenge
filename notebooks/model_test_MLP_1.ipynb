{
  "cells": [
    {
      "cell_type": "markdown",
      "metadata": {},
      "source": [
        "<h1>Modelo 1: Red neuronal densa (MLP)</h1>\n",
        "\n",
        "<p>Este modelo funciona bajo una idea simple: Usar el embedding medio de cada texto (title + abstract) y con este embedding medio realizar la clasificacion multiclase mediante una red neuronal de capa densa</p>\n",
        "\n",
        "<p>La arquitectura de esta red se compone de 3 capas:</p>\n",
        "\n",
        "<ol>\n",
        "    <li>Capa de entrada (768 neuronas)</li>\n",
        "    <li>Capa intermedia ((1.5 x 768) neuronas)</li>\n",
        "    <li>Capa de salida con sigmoide en cada una de las salidas individuales en vez de softmax para la clasificacion (4 neuronas)</li>\n",
        "</ol>"
      ]
    },
    {
      "cell_type": "code",
      "execution_count": null,
      "metadata": {
        "colab": {
          "base_uri": "https://localhost:8080/"
        },
        "id": "e3ed1682",
        "outputId": "70022a6a-1c8e-488f-df73-5cfd7e078649"
      },
      "outputs": [
        {
          "name": "stdout",
          "output_type": "stream",
          "text": [
            "Mounted at /content/drive\n"
          ]
        }
      ],
      "source": [
        "## Descomentar si se está trabajando desde Google Colab\n",
        "\n",
        "#from google.colab import drive\n",
        "#drive.mount('/content/drive')"
      ]
    },
    {
      "cell_type": "markdown",
      "metadata": {},
      "source": [
        "<p>Para pasar los textos a embeddings, usamos la libreria transformers con BertTokenizer para a creación de los mismos, estoo nos da una matriz de dimensiones N x d_model (siendo N el numero de tokens del texto), luego le evaluamos la media a traves de estos N vectores, dandonos al final el vector de embedding medio con dimensiones d_model</p>\n",
        "\n",
        "Nota: d_model en el caso de Bert es 768"
      ]
    },
    {
      "cell_type": "code",
      "execution_count": null,
      "metadata": {
        "collapsed": true,
        "id": "-CxemPuwXkrX"
      },
      "outputs": [],
      "source": [
        "import torch\n",
        "from transformers import BertTokenizer, BertModel\n",
        "\n",
        "# Cargar tokenizer y modelo\n",
        "tokenizer = BertTokenizer.from_pretrained(\"bert-base-uncased\")\n",
        "model = BertModel.from_pretrained(\"bert-base-uncased\")\n",
        "\n",
        "# Mover modelo a GPU (Esto solo para dispositivos que lo tengan)\n",
        "device = torch.device(\"cuda\" if torch.cuda.is_available() else \"cpu\")\n",
        "model = model.to(device)"
      ]
    },
    {
      "cell_type": "code",
      "execution_count": null,
      "metadata": {
        "id": "7oEGVH2NYIgp"
      },
      "outputs": [],
      "source": [
        "# Tokenizamos un ejemplo\n",
        "text = \"This is an example sentence.\"\n",
        "inputs = tokenizer(text, return_tensors=\"pt\").to(device)"
      ]
    },
    {
      "cell_type": "code",
      "execution_count": null,
      "metadata": {
        "id": "CeRn0CSVYmXC"
      },
      "outputs": [],
      "source": [
        "# Obtener SOLO embeddings de tokens (sin positional encoding)\n",
        "with torch.no_grad():\n",
        "    token_embeddings = model.embeddings.word_embeddings(inputs[\"input_ids\"])"
      ]
    },
    {
      "cell_type": "code",
      "execution_count": null,
      "metadata": {
        "colab": {
          "base_uri": "https://localhost:8080/"
        },
        "id": "Rt_Zgx0LYop_",
        "outputId": "a4cf421e-3de1-471b-99b1-f042ea692061"
      },
      "outputs": [
        {
          "name": "stdout",
          "output_type": "stream",
          "text": [
            "Mean embedding shape: torch.Size([768])\n"
          ]
        }
      ],
      "source": [
        "# Eliminar dimensión batch → (n_tokens, d_model)\n",
        "token_matrix = token_embeddings.squeeze(0)\n",
        "\n",
        "# Calculamos embedding promedio en GPU\n",
        "mean_embedding = token_matrix.mean(dim=0)   # (d_model,)\n",
        "print(\"Mean embedding shape:\", mean_embedding.shape)"
      ]
    },
    {
      "cell_type": "code",
      "execution_count": 10,
      "metadata": {
        "colab": {
          "base_uri": "https://localhost:8080/"
        },
        "id": "DYZCMyQEYz3u",
        "outputId": "588c213f-bbd0-4883-f6a6-ab58b68ffddc"
      },
      "outputs": [
        {
          "data": {
            "text/plain": [
              "(torch.Size([768]), torch.float32)"
            ]
          },
          "execution_count": 10,
          "metadata": {},
          "output_type": "execute_result"
        }
      ],
      "source": [
        "mean_embedding.shape, mean_embedding.dtype"
      ]
    },
    {
      "cell_type": "markdown",
      "metadata": {},
      "source": [
        "<h2>Carga del dataset</h2>\n",
        "\n",
        "Cargamos el dataset que estába en una carpeta destinada a este reto en Google drive, y se crea la columna text concatenando la columna abstract y la columna title, además, guardamos sus valores en Numpy array's, X e y de modo que sea mas facil usar estas matrices para entrenar el modelo."
      ]
    },
    {
      "cell_type": "code",
      "execution_count": null,
      "metadata": {
        "id": "JmOHKBZuaz1h"
      },
      "outputs": [],
      "source": [
        "import pandas as pd\n",
        "\n",
        "df = pd.read_csv(\"/content/drive/MyDrive/techespere/dataset.csv\", sep=\";\")\n",
        "# df = pd.read_csv(\"../data/dataset.csv\", sep=\";\") ## Descomentar al trabajar en local"
      ]
    },
    {
      "cell_type": "code",
      "execution_count": 17,
      "metadata": {
        "id": "q4nsyie1bBV_"
      },
      "outputs": [],
      "source": [
        "df[\"text\"] = (df[\"title\"].fillna(\"\") + \" \" + df[\"abstract\"].fillna(\"\")).str.strip()"
      ]
    },
    {
      "cell_type": "markdown",
      "metadata": {},
      "source": [
        "En el caso de este modelo, la idea es entrenarlo solamente con datos que clasifiquen hacia una sola clase de las 4, y luego realizar un fine - tunning del modelo, ahora si usando datos que sean multiclase"
      ]
    },
    {
      "cell_type": "code",
      "execution_count": null,
      "metadata": {
        "colab": {
          "base_uri": "https://localhost:8080/"
        },
        "id": "-bpkBfhbbjAZ",
        "outputId": "94bb68bf-1b99-4f55-8b16-5ca613aead20"
      },
      "outputs": [
        {
          "name": "stdout",
          "output_type": "stream",
          "text": [
            "Tamaño de X: (2473,)\n",
            "Tamaño de y: (2473,)\n",
            "Clases presentes: {'cardiovascular', 'hepatorenal', 'oncological', 'neurological'}\n"
          ]
        }
      ],
      "source": [
        "# Filtramos solo las filas con los grupos que nos interesan\n",
        "\n",
        "valid_groups = [\"cardiovascular\", \"neurological\", \"hepatorenal\", \"oncological\"]\n",
        "df_filtered = df[df[\"group\"].isin(valid_groups)].copy()\n",
        "\n",
        "# Definir X (texto) e y (labels)\n",
        "\n",
        "X = df_filtered[\"text\"].values\n",
        "y = df_filtered[\"group\"].values\n",
        "\n",
        "print(\"Tamaño de X:\", X.shape)\n",
        "print(\"Tamaño de y:\", y.shape)\n",
        "print(\"Clases presentes:\", set(y))"
      ]
    },
    {
      "cell_type": "code",
      "execution_count": null,
      "metadata": {
        "id": "u0kJ0QJ5cL7A"
      },
      "outputs": [],
      "source": [
        "## Función para obtener el embedding promedio de un texto\n",
        "\n",
        "def get_mean_embedding(text):\n",
        "    # Tokenización y envío a GPU\n",
        "    inputs = tokenizer(text, return_tensors=\"pt\", truncation=True, padding=True, max_length=512).to(device)\n",
        "    with torch.no_grad():\n",
        "        # SOLO token embeddings, sin positional encoding\n",
        "        token_embeddings = model.embeddings.word_embeddings(inputs[\"input_ids\"])\n",
        "        token_matrix = token_embeddings.squeeze(0)       # (n_tokens, d_model)\n",
        "        mean_embedding = token_matrix.mean(dim=0)        # (d_model,)\n",
        "    return mean_embedding.cpu().numpy()  # traer a CPU como numpy"
      ]
    },
    {
      "cell_type": "markdown",
      "metadata": {},
      "source": [
        "Convertimos X de texto a embeddings medios e y a one hot encoding"
      ]
    },
    {
      "cell_type": "code",
      "execution_count": null,
      "metadata": {
        "colab": {
          "base_uri": "https://localhost:8080/"
        },
        "id": "CLLsotBxcnFu",
        "outputId": "7b8b44c3-15a6-4f37-db35-822429403b8d"
      },
      "outputs": [
        {
          "name": "stdout",
          "output_type": "stream",
          "text": [
            "Shape de X: (2473, 768)\n",
            "Shape de y: (2473, 4)\n",
            "Clases: [array(['cardiovascular', 'hepatorenal', 'neurological', 'oncological'],\n",
            "      dtype=object)]\n"
          ]
        }
      ],
      "source": [
        "from sklearn.preprocessing import OneHotEncoder\n",
        "import numpy as np\n",
        "\n",
        "# Construir X (mean embedding)\n",
        "\n",
        "X = np.vstack([get_mean_embedding(text) for text in df_filtered[\"text\"].values])\n",
        "print(\"Shape de X:\", X.shape)  # (num_samples, d_model=768)\n",
        "\n",
        "# Construir y (one-hot encoding)\n",
        "encoder = OneHotEncoder(sparse_output=False)\n",
        "y = encoder.fit_transform(df_filtered[\"group\"].values.reshape(-1, 1))\n",
        "\n",
        "print(\"Shape de y:\", y.shape)  # (num_samples, num_classes=4)\n",
        "print(\"Clases:\", encoder.categories_)"
      ]
    },
    {
      "cell_type": "markdown",
      "metadata": {},
      "source": [
        "Garantizamos que las etiquetas ya filtradas (es decir, ya sabemos que son datos que tienen clasificacion de una sola clase) sean del mismo tamaño para evitar problemas de sesgos en el modelo."
      ]
    },
    {
      "cell_type": "code",
      "execution_count": 26,
      "metadata": {
        "colab": {
          "base_uri": "https://localhost:8080/"
        },
        "id": "lkltWX5peEoJ",
        "outputId": "67f9077e-c451-4d5b-aff0-405f6b788ec6"
      },
      "outputs": [
        {
          "name": "stdout",
          "output_type": "stream",
          "text": [
            "Shape de X original: (2473, 768)\n",
            "Shape de X balanceado: (948, 768)\n",
            "Distribución original: [ 645  533 1058  237]\n",
            "Distribución balanceada: [237 237 237 237]\n"
          ]
        }
      ],
      "source": [
        "from imblearn.under_sampling import RandomUnderSampler\n",
        "from sklearn.preprocessing import OneHotEncoder\n",
        "\n",
        "# Paso 1: convertir de one-hot a etiquetas enteras\n",
        "y_labels = np.argmax(y, axis=1)\n",
        "\n",
        "# Paso 2: aplicar submuestreo\n",
        "rus = RandomUnderSampler(random_state=42)\n",
        "X_bal, y_bal_labels = rus.fit_resample(X, y_labels)\n",
        "\n",
        "# Paso 3: volver a one-hot encoding\n",
        "encoder = OneHotEncoder(sparse_output=False)\n",
        "y_bal = encoder.fit_transform(y_bal_labels.reshape(-1, 1))\n",
        "\n",
        "print(\"Shape de X original:\", X.shape)\n",
        "print(\"Shape de X balanceado:\", X_bal.shape)\n",
        "print(\"Distribución original:\", np.bincount(y_labels))\n",
        "print(\"Distribución balanceada:\", np.bincount(y_bal_labels))"
      ]
    },
    {
      "cell_type": "markdown",
      "metadata": {},
      "source": [
        "Creamos el modelo mediante una funcion"
      ]
    },
    {
      "cell_type": "code",
      "execution_count": 28,
      "metadata": {
        "colab": {
          "base_uri": "https://localhost:8080/",
          "height": 262
        },
        "id": "PZj6hoJEeS06",
        "outputId": "150b131d-528e-4811-b896-b850271d0af8"
      },
      "outputs": [
        {
          "data": {
            "text/html": [
              "<pre style=\"white-space:pre;overflow-x:auto;line-height:normal;font-family:Menlo,'DejaVu Sans Mono',consolas,'Courier New',monospace\"><span style=\"font-weight: bold\">Model: \"functional\"</span>\n",
              "</pre>\n"
            ],
            "text/plain": [
              "\u001b[1mModel: \"functional\"\u001b[0m\n"
            ]
          },
          "metadata": {},
          "output_type": "display_data"
        },
        {
          "data": {
            "text/html": [
              "<pre style=\"white-space:pre;overflow-x:auto;line-height:normal;font-family:Menlo,'DejaVu Sans Mono',consolas,'Courier New',monospace\">┏━━━━━━━━━━━━━━━━━━━━━━━━━━━━━━━━━┳━━━━━━━━━━━━━━━━━━━━━━━━┳━━━━━━━━━━━━━━━┓\n",
              "┃<span style=\"font-weight: bold\"> Layer (type)                    </span>┃<span style=\"font-weight: bold\"> Output Shape           </span>┃<span style=\"font-weight: bold\">       Param # </span>┃\n",
              "┡━━━━━━━━━━━━━━━━━━━━━━━━━━━━━━━━━╇━━━━━━━━━━━━━━━━━━━━━━━━╇━━━━━━━━━━━━━━━┩\n",
              "│ input_layer_1 (<span style=\"color: #0087ff; text-decoration-color: #0087ff\">InputLayer</span>)      │ (<span style=\"color: #00d7ff; text-decoration-color: #00d7ff\">None</span>, <span style=\"color: #00af00; text-decoration-color: #00af00\">768</span>)            │             <span style=\"color: #00af00; text-decoration-color: #00af00\">0</span> │\n",
              "├─────────────────────────────────┼────────────────────────┼───────────────┤\n",
              "│ dense_1 (<span style=\"color: #0087ff; text-decoration-color: #0087ff\">Dense</span>)                 │ (<span style=\"color: #00d7ff; text-decoration-color: #00d7ff\">None</span>, <span style=\"color: #00af00; text-decoration-color: #00af00\">1152</span>)           │       <span style=\"color: #00af00; text-decoration-color: #00af00\">885,888</span> │\n",
              "├─────────────────────────────────┼────────────────────────┼───────────────┤\n",
              "│ dropout (<span style=\"color: #0087ff; text-decoration-color: #0087ff\">Dropout</span>)               │ (<span style=\"color: #00d7ff; text-decoration-color: #00d7ff\">None</span>, <span style=\"color: #00af00; text-decoration-color: #00af00\">1152</span>)           │             <span style=\"color: #00af00; text-decoration-color: #00af00\">0</span> │\n",
              "├─────────────────────────────────┼────────────────────────┼───────────────┤\n",
              "│ dense_2 (<span style=\"color: #0087ff; text-decoration-color: #0087ff\">Dense</span>)                 │ (<span style=\"color: #00d7ff; text-decoration-color: #00d7ff\">None</span>, <span style=\"color: #00af00; text-decoration-color: #00af00\">4</span>)              │         <span style=\"color: #00af00; text-decoration-color: #00af00\">4,612</span> │\n",
              "└─────────────────────────────────┴────────────────────────┴───────────────┘\n",
              "</pre>\n"
            ],
            "text/plain": [
              "┏━━━━━━━━━━━━━━━━━━━━━━━━━━━━━━━━━┳━━━━━━━━━━━━━━━━━━━━━━━━┳━━━━━━━━━━━━━━━┓\n",
              "┃\u001b[1m \u001b[0m\u001b[1mLayer (type)                   \u001b[0m\u001b[1m \u001b[0m┃\u001b[1m \u001b[0m\u001b[1mOutput Shape          \u001b[0m\u001b[1m \u001b[0m┃\u001b[1m \u001b[0m\u001b[1m      Param #\u001b[0m\u001b[1m \u001b[0m┃\n",
              "┡━━━━━━━━━━━━━━━━━━━━━━━━━━━━━━━━━╇━━━━━━━━━━━━━━━━━━━━━━━━╇━━━━━━━━━━━━━━━┩\n",
              "│ input_layer_1 (\u001b[38;5;33mInputLayer\u001b[0m)      │ (\u001b[38;5;45mNone\u001b[0m, \u001b[38;5;34m768\u001b[0m)            │             \u001b[38;5;34m0\u001b[0m │\n",
              "├─────────────────────────────────┼────────────────────────┼───────────────┤\n",
              "│ dense_1 (\u001b[38;5;33mDense\u001b[0m)                 │ (\u001b[38;5;45mNone\u001b[0m, \u001b[38;5;34m1152\u001b[0m)           │       \u001b[38;5;34m885,888\u001b[0m │\n",
              "├─────────────────────────────────┼────────────────────────┼───────────────┤\n",
              "│ dropout (\u001b[38;5;33mDropout\u001b[0m)               │ (\u001b[38;5;45mNone\u001b[0m, \u001b[38;5;34m1152\u001b[0m)           │             \u001b[38;5;34m0\u001b[0m │\n",
              "├─────────────────────────────────┼────────────────────────┼───────────────┤\n",
              "│ dense_2 (\u001b[38;5;33mDense\u001b[0m)                 │ (\u001b[38;5;45mNone\u001b[0m, \u001b[38;5;34m4\u001b[0m)              │         \u001b[38;5;34m4,612\u001b[0m │\n",
              "└─────────────────────────────────┴────────────────────────┴───────────────┘\n"
            ]
          },
          "metadata": {},
          "output_type": "display_data"
        },
        {
          "data": {
            "text/html": [
              "<pre style=\"white-space:pre;overflow-x:auto;line-height:normal;font-family:Menlo,'DejaVu Sans Mono',consolas,'Courier New',monospace\"><span style=\"font-weight: bold\"> Total params: </span><span style=\"color: #00af00; text-decoration-color: #00af00\">890,500</span> (3.40 MB)\n",
              "</pre>\n"
            ],
            "text/plain": [
              "\u001b[1m Total params: \u001b[0m\u001b[38;5;34m890,500\u001b[0m (3.40 MB)\n"
            ]
          },
          "metadata": {},
          "output_type": "display_data"
        },
        {
          "data": {
            "text/html": [
              "<pre style=\"white-space:pre;overflow-x:auto;line-height:normal;font-family:Menlo,'DejaVu Sans Mono',consolas,'Courier New',monospace\"><span style=\"font-weight: bold\"> Trainable params: </span><span style=\"color: #00af00; text-decoration-color: #00af00\">890,500</span> (3.40 MB)\n",
              "</pre>\n"
            ],
            "text/plain": [
              "\u001b[1m Trainable params: \u001b[0m\u001b[38;5;34m890,500\u001b[0m (3.40 MB)\n"
            ]
          },
          "metadata": {},
          "output_type": "display_data"
        },
        {
          "data": {
            "text/html": [
              "<pre style=\"white-space:pre;overflow-x:auto;line-height:normal;font-family:Menlo,'DejaVu Sans Mono',consolas,'Courier New',monospace\"><span style=\"font-weight: bold\"> Non-trainable params: </span><span style=\"color: #00af00; text-decoration-color: #00af00\">0</span> (0.00 B)\n",
              "</pre>\n"
            ],
            "text/plain": [
              "\u001b[1m Non-trainable params: \u001b[0m\u001b[38;5;34m0\u001b[0m (0.00 B)\n"
            ]
          },
          "metadata": {},
          "output_type": "display_data"
        }
      ],
      "source": [
        "import tensorflow as tf\n",
        "from tensorflow.keras import layers, models\n",
        "\n",
        "def build_multilabel_model(input_dim, n_labels):\n",
        "    inputs = layers.Input(shape=(input_dim,))\n",
        "    x = layers.Dense(int(1.5*input_dim), activation=\"relu\")(inputs)\n",
        "    x = layers.Dropout(0.3)(x)\n",
        "    outputs = layers.Dense(n_labels, activation=\"sigmoid\")(x)  # sigmoid por salida\n",
        "    return models.Model(inputs, outputs)\n",
        "\n",
        "model = build_multilabel_model(input_dim=768, n_labels=4)  # ejemplo: 100 features, 4 etiquetas\n",
        "model.summary()"
      ]
    },
    {
      "cell_type": "code",
      "execution_count": 29,
      "metadata": {
        "id": "GmcdzVfEf275"
      },
      "outputs": [],
      "source": [
        "model.compile(\n",
        "    optimizer=tf.keras.optimizers.Adam(learning_rate=1e-3),\n",
        "    loss=tf.keras.losses.CategoricalCrossentropy(),\n",
        "    metrics=[tf.keras.metrics.AUC(name=\"auc\"),\n",
        "             tf.keras.metrics.Precision(name=\"precision\"),\n",
        "             tf.keras.metrics.Recall(name=\"recall\")]\n",
        ")"
      ]
    },
    {
      "cell_type": "code",
      "execution_count": null,
      "metadata": {
        "id": "m786eu6eg3Yc"
      },
      "outputs": [],
      "source": [
        "from sklearn.model_selection import train_test_split\n",
        "\n",
        "## Separamos los datos entre entrenamiento y prueba\n",
        "# División en 80% train y 20% test\n",
        "X_train, X_test, y_train, y_test = train_test_split(\n",
        "    X_bal, y_bal,\n",
        "    test_size=0.2,        # 20% para test\n",
        "    random_state=42,      # semilla reproducible\n",
        "    stratify=y_bal        # asegura misma proporción de clases en train y test\n",
        ")"
      ]
    },
    {
      "cell_type": "code",
      "execution_count": 37,
      "metadata": {
        "colab": {
          "base_uri": "https://localhost:8080/"
        },
        "id": "q4FMPCDRkITJ",
        "outputId": "813e24be-e283-43c5-9961-6fe3934eb4d6"
      },
      "outputs": [
        {
          "data": {
            "text/plain": [
              "((190, 768), (190, 4))"
            ]
          },
          "execution_count": 37,
          "metadata": {},
          "output_type": "execute_result"
        }
      ],
      "source": [
        "X_test.shape, y_test.shape"
      ]
    },
    {
      "cell_type": "code",
      "execution_count": 32,
      "metadata": {
        "colab": {
          "base_uri": "https://localhost:8080/"
        },
        "id": "dwqaXmlThRiF",
        "outputId": "7ddf5592-6e2a-45ec-c746-1fea9c9a61ef"
      },
      "outputs": [
        {
          "name": "stdout",
          "output_type": "stream",
          "text": [
            "Epoch 1/20\n",
            "\u001b[1m24/24\u001b[0m \u001b[32m━━━━━━━━━━━━━━━━━━━━\u001b[0m\u001b[37m\u001b[0m \u001b[1m7s\u001b[0m 159ms/step - auc: 0.5276 - loss: 1.3888 - precision: 0.2666 - recall: 0.5219 - val_auc: 0.5811 - val_loss: 1.3778 - val_precision: 0.2509 - val_recall: 0.7526\n",
            "Epoch 2/20\n",
            "\u001b[1m24/24\u001b[0m \u001b[32m━━━━━━━━━━━━━━━━━━━━\u001b[0m\u001b[37m\u001b[0m \u001b[1m0s\u001b[0m 6ms/step - auc: 0.5556 - loss: 1.3778 - precision: 0.2683 - recall: 0.7387 - val_auc: 0.6376 - val_loss: 1.3587 - val_precision: 0.2851 - val_recall: 0.6632\n",
            "Epoch 3/20\n",
            "\u001b[1m24/24\u001b[0m \u001b[32m━━━━━━━━━━━━━━━━━━━━\u001b[0m\u001b[37m\u001b[0m \u001b[1m0s\u001b[0m 6ms/step - auc: 0.6001 - loss: 1.3608 - precision: 0.2748 - recall: 0.7396 - val_auc: 0.6673 - val_loss: 1.3472 - val_precision: 0.3538 - val_recall: 0.7263\n",
            "Epoch 4/20\n",
            "\u001b[1m24/24\u001b[0m \u001b[32m━━━━━━━━━━━━━━━━━━━━\u001b[0m\u001b[37m\u001b[0m \u001b[1m0s\u001b[0m 5ms/step - auc: 0.6435 - loss: 1.3473 - precision: 0.3350 - recall: 0.7301 - val_auc: 0.6837 - val_loss: 1.3233 - val_precision: 0.3283 - val_recall: 0.6842\n",
            "Epoch 5/20\n",
            "\u001b[1m24/24\u001b[0m \u001b[32m━━━━━━━━━━━━━━━━━━━━\u001b[0m\u001b[37m\u001b[0m \u001b[1m0s\u001b[0m 5ms/step - auc: 0.6870 - loss: 1.3275 - precision: 0.3437 - recall: 0.7398 - val_auc: 0.7243 - val_loss: 1.2994 - val_precision: 0.3518 - val_recall: 0.7368\n",
            "Epoch 6/20\n",
            "\u001b[1m24/24\u001b[0m \u001b[32m━━━━━━━━━━━━━━━━━━━━\u001b[0m\u001b[37m\u001b[0m \u001b[1m0s\u001b[0m 7ms/step - auc: 0.6875 - loss: 1.3144 - precision: 0.3245 - recall: 0.7407 - val_auc: 0.7242 - val_loss: 1.2769 - val_precision: 0.3527 - val_recall: 0.7684\n",
            "Epoch 7/20\n",
            "\u001b[1m24/24\u001b[0m \u001b[32m━━━━━━━━━━━━━━━━━━━━\u001b[0m\u001b[37m\u001b[0m \u001b[1m0s\u001b[0m 5ms/step - auc: 0.7110 - loss: 1.2886 - precision: 0.3513 - recall: 0.7315 - val_auc: 0.8074 - val_loss: 1.2379 - val_precision: 0.4151 - val_recall: 0.8105\n",
            "Epoch 8/20\n",
            "\u001b[1m24/24\u001b[0m \u001b[32m━━━━━━━━━━━━━━━━━━━━\u001b[0m\u001b[37m\u001b[0m \u001b[1m0s\u001b[0m 5ms/step - auc: 0.7251 - loss: 1.2656 - precision: 0.3674 - recall: 0.7638 - val_auc: 0.8103 - val_loss: 1.2107 - val_precision: 0.4344 - val_recall: 0.8895\n",
            "Epoch 9/20\n",
            "\u001b[1m24/24\u001b[0m \u001b[32m━━━━━━━━━━━━━━━━━━━━\u001b[0m\u001b[37m\u001b[0m \u001b[1m0s\u001b[0m 6ms/step - auc: 0.7744 - loss: 1.2233 - precision: 0.4050 - recall: 0.7948 - val_auc: 0.8032 - val_loss: 1.1815 - val_precision: 0.4212 - val_recall: 0.8579\n",
            "Epoch 10/20\n",
            "\u001b[1m24/24\u001b[0m \u001b[32m━━━━━━━━━━━━━━━━━━━━\u001b[0m\u001b[37m\u001b[0m \u001b[1m0s\u001b[0m 6ms/step - auc: 0.7741 - loss: 1.2024 - precision: 0.3942 - recall: 0.7925 - val_auc: 0.8481 - val_loss: 1.1371 - val_precision: 0.4425 - val_recall: 0.8105\n",
            "Epoch 11/20\n",
            "\u001b[1m24/24\u001b[0m \u001b[32m━━━━━━━━━━━━━━━━━━━━\u001b[0m\u001b[37m\u001b[0m \u001b[1m0s\u001b[0m 6ms/step - auc: 0.8058 - loss: 1.1662 - precision: 0.4266 - recall: 0.7861 - val_auc: 0.8409 - val_loss: 1.1024 - val_precision: 0.4370 - val_recall: 0.8211\n",
            "Epoch 12/20\n",
            "\u001b[1m24/24\u001b[0m \u001b[32m━━━━━━━━━━━━━━━━━━━━\u001b[0m\u001b[37m\u001b[0m \u001b[1m0s\u001b[0m 5ms/step - auc: 0.8317 - loss: 1.1122 - precision: 0.4480 - recall: 0.8250 - val_auc: 0.8164 - val_loss: 1.0931 - val_precision: 0.4160 - val_recall: 0.7684\n",
            "Epoch 13/20\n",
            "\u001b[1m24/24\u001b[0m \u001b[32m━━━━━━━━━━━━━━━━━━━━\u001b[0m\u001b[37m\u001b[0m \u001b[1m0s\u001b[0m 6ms/step - auc: 0.7742 - loss: 1.1395 - precision: 0.3922 - recall: 0.7505 - val_auc: 0.8126 - val_loss: 1.0756 - val_precision: 0.4476 - val_recall: 0.6737\n",
            "Epoch 14/20\n",
            "\u001b[1m24/24\u001b[0m \u001b[32m━━━━━━━━━━━━━━━━━━━━\u001b[0m\u001b[37m\u001b[0m \u001b[1m0s\u001b[0m 6ms/step - auc: 0.8302 - loss: 1.0636 - precision: 0.4527 - recall: 0.7990 - val_auc: 0.8766 - val_loss: 1.0075 - val_precision: 0.5405 - val_recall: 0.8421\n",
            "Epoch 15/20\n",
            "\u001b[1m24/24\u001b[0m \u001b[32m━━━━━━━━━━━━━━━━━━━━\u001b[0m\u001b[37m\u001b[0m \u001b[1m0s\u001b[0m 6ms/step - auc: 0.8410 - loss: 1.0384 - precision: 0.4636 - recall: 0.8185 - val_auc: 0.8840 - val_loss: 0.9689 - val_precision: 0.4762 - val_recall: 0.8421\n",
            "Epoch 16/20\n",
            "\u001b[1m24/24\u001b[0m \u001b[32m━━━━━━━━━━━━━━━━━━━━\u001b[0m\u001b[37m\u001b[0m \u001b[1m0s\u001b[0m 7ms/step - auc: 0.8774 - loss: 0.9679 - precision: 0.4764 - recall: 0.8470 - val_auc: 0.8831 - val_loss: 0.9458 - val_precision: 0.4969 - val_recall: 0.8316\n",
            "Epoch 17/20\n",
            "\u001b[1m24/24\u001b[0m \u001b[32m━━━━━━━━━━━━━━━━━━━━\u001b[0m\u001b[37m\u001b[0m \u001b[1m0s\u001b[0m 6ms/step - auc: 0.8858 - loss: 0.9405 - precision: 0.4996 - recall: 0.8754 - val_auc: 0.8848 - val_loss: 0.9250 - val_precision: 0.4506 - val_recall: 0.9368\n",
            "Epoch 18/20\n",
            "\u001b[1m24/24\u001b[0m \u001b[32m━━━━━━━━━━━━━━━━━━━━\u001b[0m\u001b[37m\u001b[0m \u001b[1m0s\u001b[0m 6ms/step - auc: 0.8755 - loss: 0.9443 - precision: 0.4614 - recall: 0.8841 - val_auc: 0.8843 - val_loss: 0.9109 - val_precision: 0.4799 - val_recall: 0.8789\n",
            "Epoch 19/20\n",
            "\u001b[1m24/24\u001b[0m \u001b[32m━━━━━━━━━━━━━━━━━━━━\u001b[0m\u001b[37m\u001b[0m \u001b[1m0s\u001b[0m 6ms/step - auc: 0.8853 - loss: 0.8975 - precision: 0.4714 - recall: 0.8702 - val_auc: 0.9146 - val_loss: 0.8473 - val_precision: 0.4972 - val_recall: 0.9368\n",
            "Epoch 20/20\n",
            "\u001b[1m24/24\u001b[0m \u001b[32m━━━━━━━━━━━━━━━━━━━━\u001b[0m\u001b[37m\u001b[0m \u001b[1m0s\u001b[0m 5ms/step - auc: 0.8938 - loss: 0.8726 - precision: 0.4811 - recall: 0.8759 - val_auc: 0.9176 - val_loss: 0.8233 - val_precision: 0.5262 - val_recall: 0.9000\n"
          ]
        }
      ],
      "source": [
        "history = model.fit(\n",
        "    X_train, y_train,\n",
        "    validation_data=(X_test, y_test),\n",
        "    epochs=20,\n",
        "    batch_size=32\n",
        ")"
      ]
    },
    {
      "cell_type": "markdown",
      "metadata": {},
      "source": [
        "En la ejecucion de arriba podemos ver que hay un alto accuracy tanto en entrenamiento como en validación, sin embargo, aun no hemos evaluado este modelo con multiclases, por lo que no se puede determinar aun su efectividad (esta evaluacion se hace en el notebook model_MLP_evaluation.ipynb)"
      ]
    },
    {
      "cell_type": "code",
      "execution_count": null,
      "metadata": {
        "colab": {
          "base_uri": "https://localhost:8080/",
          "height": 927
        },
        "id": "LUn5iz2khqw1",
        "outputId": "cf634b00-bf5c-4e0d-d28c-60358bdf39cf"
      },
      "outputs": [
        {
          "data": {
            "image/png": "[encoded data removed]",
            "text/plain": [
              "<Figure size 640x480 with 1 Axes>"
            ]
          },
          "metadata": {},
          "output_type": "display_data"
        },
        {
          "data": {
            "image/png": "[encoded data removed]",
            "text/plain": [
              "<Figure size 640x480 with 1 Axes>"
            ]
          },
          "metadata": {},
          "output_type": "display_data"
        }
      ],
      "source": [
        "import matplotlib.pyplot as plt\n",
        "\n",
        "\n",
        "# Plot del Loss\n",
        "plt.plot(history.history[\"loss\"], label=\"Entrenamiento\")\n",
        "plt.plot(history.history[\"val_loss\"], label=\"Validación\")\n",
        "plt.title(\"Evolución del Loss\")\n",
        "plt.xlabel(\"Epochs\")\n",
        "plt.ylabel(\"Loss\")\n",
        "plt.legend()\n",
        "plt.show()\n",
        "\n",
        "# Plot del Accuracy\n",
        "plt.plot(history.history[\"auc\"], label=\"Entrenamiento\")\n",
        "plt.plot(history.history[\"val_auc\"], label=\"Validación\")\n",
        "plt.title(\"Evolución del Accuracy\")\n",
        "plt.xlabel(\"Epochs\")\n",
        "plt.ylabel(\"Accuracy\")\n",
        "plt.legend()\n",
        "plt.show()\n"
      ]
    },
    {
      "cell_type": "code",
      "execution_count": null,
      "metadata": {
        "colab": {
          "base_uri": "https://localhost:8080/",
          "height": 525
        },
        "id": "2xTATXG-imop",
        "outputId": "8256f00c-d931-440a-f3eb-b7fa5a307029"
      },
      "outputs": [
        {
          "name": "stdout",
          "output_type": "stream",
          "text": [
            "\u001b[1m6/6\u001b[0m \u001b[32m━━━━━━━━━━━━━━━━━━━━\u001b[0m\u001b[37m\u001b[0m \u001b[1m1s\u001b[0m 55ms/step\n"
          ]
        },
        {
          "data": {
            "image/png": "[encoded data removed]",
            "text/plain": [
              "<Figure size 600x600 with 2 Axes>"
            ]
          },
          "metadata": {},
          "output_type": "display_data"
        }
      ],
      "source": [
        "from sklearn.metrics import confusion_matrix, ConfusionMatrixDisplay\n",
        "\n",
        "# Predecir con el modelo\n",
        "y_pred_prob = model.predict(X_test)\n",
        "\n",
        "# Convertir probabilidades a clases (elegir la clase con mayor probabilidad)\n",
        "y_pred = np.argmax(y_pred_prob, axis=1)\n",
        "y_true = np.argmax(y_test, axis=1)  # porque y_test está en one-hot\n",
        "\n",
        "# Construir matriz de confusión\n",
        "cm = confusion_matrix(y_true, y_pred)\n",
        "\n",
        "# Mostrar matriz de confusión con nombres de clases\n",
        "labels = [\"cardiovascular\", \"neurological\", \"hepatorenal\", \"oncological\"]\n",
        "disp = ConfusionMatrixDisplay(confusion_matrix=cm, display_labels=labels)\n",
        "\n",
        "# Plot\n",
        "fig, ax = plt.subplots(figsize=(6,6))\n",
        "disp.plot(cmap=plt.cm.Blues, ax=ax, values_format='d')\n",
        "plt.title(\"Matriz de Confusión\")\n",
        "plt.show()"
      ]
    },
    {
      "cell_type": "code",
      "execution_count": null,
      "metadata": {
        "colab": {
          "base_uri": "https://localhost:8080/"
        },
        "id": "amYIzPJvjjnp",
        "outputId": "7837ef3c-7b68-42d1-a2e7-2828f82f59fd"
      },
      "outputs": [
        {
          "name": "stderr",
          "output_type": "stream",
          "text": [
            "WARNING:absl:You are saving your model as an HDF5 file via `model.save()` or `keras.saving.save_model(model)`. This file format is considered legacy. We recommend using instead the native Keras format, e.g. `model.save('my_model.keras')` or `keras.saving.save_model(model, 'my_model.keras')`. \n"
          ]
        }
      ],
      "source": [
        "## Guardamos el modelo para su uso futuro en la evaluacion\n",
        "\n",
        "model.save(\"mlp_sigmiod_per_class.h5\")"
      ]
    },
    {
      "cell_type": "markdown",
      "metadata": {},
      "source": [
        "Guardamos los datos de testing para que el desarrollador que está realizando la visualizacion usando V0, pueda tener acceso a los mismos."
      ]
    },
    {
      "cell_type": "code",
      "execution_count": 38,
      "metadata": {
        "colab": {
          "base_uri": "https://localhost:8080/"
        },
        "id": "vMggM-Z3kX1W",
        "outputId": "8a46eddc-13e9-4a41-aceb-93e79ecb14f8"
      },
      "outputs": [
        {
          "name": "stdout",
          "output_type": "stream",
          "text": [
            "✅ Archivos guardados: X_test.pkl y y_test.pkl\n",
            "Shapes cargados: (190, 768) (190, 4)\n"
          ]
        }
      ],
      "source": [
        "import pickle\n",
        "\n",
        "# Guardar\n",
        "with open(\"X_test.pkl\", \"wb\") as f:\n",
        "    pickle.dump(X_test, f)\n",
        "\n",
        "with open(\"y_test.pkl\", \"wb\") as f:\n",
        "    pickle.dump(y_test, f)\n",
        "\n",
        "print(\"✅ Archivos guardados: X_test.pkl y y_test.pkl\")\n",
        "\n",
        "# ==========================\n",
        "# Para cargarlos nuevamente:\n",
        "# ==========================\n",
        "with open(\"X_test.pkl\", \"rb\") as f:\n",
        "    X_test_loaded = pickle.load(f)\n",
        "\n",
        "with open(\"y_test.pkl\", \"rb\") as f:\n",
        "    y_test_loaded = pickle.load(f)\n",
        "\n",
        "print(\"Shapes cargados:\", X_test_loaded.shape, y_test_loaded.shape)"
      ]
    },
    {
      "cell_type": "markdown",
      "metadata": {},
      "source": [
        "Ya tenemos el accuracy del modelo (91,76% en validacion) sin embargo, tambien es importante obtener el f1 - score, especialmente el f1 score weigthed.\n",
        "\n",
        "Recordemos que estas metricas no son definitivas, pues el modelo aun no ha sido probado contra datos con multiclases"
      ]
    },
    {
      "cell_type": "code",
      "execution_count": null,
      "metadata": {
        "colab": {
          "base_uri": "https://localhost:8080/"
        },
        "id": "gosoY94rkxUi",
        "outputId": "5f8c8329-85d6-430e-82ca-7e3696e0bea3"
      },
      "outputs": [
        {
          "name": "stdout",
          "output_type": "stream",
          "text": [
            "\u001b[1m6/6\u001b[0m \u001b[32m━━━━━━━━━━━━━━━━━━━━\u001b[0m\u001b[37m\u001b[0m \u001b[1m0s\u001b[0m 8ms/step \n",
            "F1-macro: 0.7240126620440157\n",
            "F1-micro: 0.7263157894736842\n",
            "F1-weighted: 0.724891759093241\n"
          ]
        }
      ],
      "source": [
        "from sklearn.metrics import f1_score\n",
        "\n",
        "# Predecir sobre el conjunto de prueba\n",
        "y_pred_prob = model.predict(X_test)\n",
        "\n",
        "# Pasar de probabilidades a clases\n",
        "y_pred = np.argmax(y_pred_prob, axis=1)\n",
        "y_true = np.argmax(y_test, axis=1)\n",
        "\n",
        "# Calcular F1-score\n",
        "f1_macro = f1_score(y_true, y_pred, average=\"macro\")   # Promedio por clase\n",
        "f1_micro = f1_score(y_true, y_pred, average=\"micro\")   # Promedio global\n",
        "f1_weighted = f1_score(y_true, y_pred, average=\"weighted\") # Balanceado por soporte\n",
        "\n",
        "print(\"F1-macro:\", f1_macro)\n",
        "print(\"F1-micro:\", f1_micro)\n",
        "print(\"F1-weighted:\", f1_weighted)"
      ]
    }
  ],
  "metadata": {
    "accelerator": "GPU",
    "colab": {
      "gpuType": "T4",
      "provenance": []
    },
    "kernelspec": {
      "display_name": "Python 3",
      "name": "python3"
    },
    "language_info": {
      "name": "python"
    }
  },
  "nbformat": 4,
  "nbformat_minor": 0
}
