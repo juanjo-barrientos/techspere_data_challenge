{
  "cells": [
    {
      "cell_type": "code",
      "execution_count": null,
      "metadata": {
        "id": "rGGzDg8q9f2_"
      },
      "outputs": [],
      "source": [
        "import pandas as pd\n",
        "import numpy as np\n",
        "import matplotlib.pyplot as plt\n",
        "import seaborn as sns\n",
        "from sklearn.model_selection import train_test_split\n",
        "from sklearn.metrics import (\n",
        "    accuracy_score, \n",
        "    f1_score, \n",
        "    classification_report, \n",
        "    multilabel_confusion_matrix\n",
        ")\n",
        "from sklearn.linear_model import LogisticRegression\n",
        "from sklearn.svm import LinearSVC\n",
        "from sklearn.multiclass import OneVsRestClassifier\n",
        "from sklearn.preprocessing import MultiLabelBinarizer\n",
        "import torch\n",
        "import warnings\n",
        "from transformers import BertTokenizer, BertModel\n",
        "warnings.filterwarnings(\"ignore\")"
      ]
    },
    {
      "cell_type": "markdown",
      "metadata": {},
      "source": [
        "## Carga de datos"
      ]
    },
    {
      "cell_type": "markdown",
      "metadata": {},
      "source": [
        "En esta sección se cargan los datos de la competencia y se preparan dos nuevas columnas para facilitar el trabajo posterior. La primera, `labels`, convierte los valores de la columna group en listas; por ejemplo, el texto neurological|hepatorenal pasa a ser ['neurological', 'hepatorenal'], lo que simplifica el proceso de clasificación multietiqueta. La segunda columna, `text`, combina el contenido de title y abstract en un solo texto, pensado para generar los embeddings de cada registro."
      ]
    },
    {
      "cell_type": "code",
      "execution_count": null,
      "metadata": {},
      "outputs": [],
      "source": [
        "# Cargar CSV \n",
        "df = pd.read_csv(\"../data/dataset.csv\", sep=\";\")\n",
        "\n",
        "# Crear columna de etiquetas como listas\n",
        "df['labels'] = df['group'].str.split('|')\n",
        "\n",
        "# Lista de todas las clases únicas\n",
        "all_labels = sorted(set(label for labels in df['labels'] for label in labels))\n",
        "print(all_labels)\n",
        "\n",
        "df[\"text\"] = (df[\"title\"].fillna(\"\") + \" \" + df[\"abstract\"].fillna(\"\")).str.strip()"
      ]
    },
    {
      "cell_type": "markdown",
      "metadata": {
        "id": "DjQui00-Lbhp"
      },
      "source": [
        "## Construción embbeding medio"
      ]
    },
    {
      "cell_type": "markdown",
      "metadata": {},
      "source": [
        "Siguiendo la misma lógica del proceso con el modelo de gemini_linearSVC, en esta implementación los embeddings se generan de manera local utilizando el modelo BERT en lugar de depender de una API externa. Para ello, se carga el tokenizador y el modelo preentrenado **bert-base-uncased**, y el modelo se mueve a GPU si está disponible para optimizar el rendimiento.\n",
        "\n",
        "Se implementa una función que recibe como parámetro la columna `text` de cada registro. Este texto se tokeniza y se procesa con BERT, obteniendo representaciones vectoriales para cada token. A continuación, se calcula el mean embedding, promediando los vectores de todos los tokens para obtener una representación compacta de cada registro. Los embeddings resultantes se almacenan en una nueva columna llamada **embedding**.\n",
        "\n",
        "Este enfoque elimina la dependencia de servicios externos, permitiendo un procesamiento más rápido y económico. Además, aunque los mean embeddings son de nivel intermedio, resultan adecuados para tareas de clasificación y análisis de texto sin requerir modelos más costosos o complejos."
      ]
    },
    {
      "cell_type": "code",
      "execution_count": 20,
      "metadata": {
        "colab": {
          "base_uri": "https://localhost:8080/",
          "height": 301,
          "referenced_widgets": [
            "33cd97ac5e45460886d84ee0af01ca40",
            "af85fbce90e545a89fc17ac617268bf7",
            "5d2cad0302f74290bf906463bfc685a7",
            "5c5d082868e34277aa2fe851675f210f",
            "1155b4e1818944f8a95805b82b383b05",
            "1ec5eb54284f4d8f9a67538b75c0c3d6",
            "09b82674ebed4404aa15cdb6f5a2ce4d",
            "e253398cc7884cdba89f47250db1d220",
            "4a72f7597c7e4548967f2d57a12e386a",
            "35eae670e0f54fb88d6035bf7108e6c8",
            "5a1de6b8898f40268e856c2b3dd298f4",
            "ee1d073796d142059f3c428b68f3a72e",
            "cdf6331726934af380a000b3efd0cfde",
            "e641d979602f4159b8817c0f80c5e428",
            "4127b1bf636d4a379ce7d21edd71e0ce",
            "3c834f94b54244c1924d9a5c23008339",
            "2d08dda72fc8418580854fcae24bcb59",
            "9479066def5541c08804c1027e76fb75",
            "f25453a0022d4d85b0c73cb39ebb3ede",
            "7979a2c2e99f49ddb40a99d6d3bfbf7d",
            "d1c2a00def014d6ea3ea5ee910e54a46",
            "8b6a1efe7fa347c1acf3e890e171de2f",
            "a4adf5e8e66b49839a25e41bd4ff6e7e",
            "bbf9cff877a34d08803aa8cd106842e1",
            "6eae1c3edf134cd19b2e33a1a4cc4e49",
            "330f14a4390243c9b06be76e372840dc",
            "1ceba260b7bd44a68e992c43ec4f673f",
            "a76a7ed4f86a4f0baf19ecaa35f8d3f8",
            "0d09f07e6b8e4a8abb0b14b451ae0436",
            "203d23b402304c34a16c190b8148cb0b",
            "0c17ac5269dc44dcab4eb005fa6edaa6",
            "0ab1a11e0b0f4ef6ad9b685a7a770a5d",
            "91b4ae2c21414952a2003a0a25d1ad13",
            "4f7ffc50fb494eadb0394442230fc7bc",
            "80b5ffd08cf04188a0f6fc42e6e5ca7e",
            "2c5e1300c6ee462cbf476e9777a95fb0",
            "b5e2b10af5644675aa9dc595eebfd19d",
            "14a7ed91415d4759a0c75aec1591f564",
            "583c987d4bd7409e84ed1079ec6033dd",
            "ebb0fa41fd604ba59965ff365ba02fbf",
            "310e6faab8a846d8a5d8c9d7b2e4a01b",
            "9c7418508ad94d9bb8544377c9490c76",
            "07e4230f962a4f98b8ef6fe1c8bfe3cd",
            "1391f44462864929ba2dae6db6bd0e5c",
            "7ee874d0478044ae95ea8c1833674bd6",
            "a76abed8b8c6472ea137c3cbb340be93",
            "37f65fe19da04585a723b8fd3684a459",
            "39050d1468e441b1ab740b399cf05623",
            "a701acf283a24cca96f254c349b349eb",
            "10a5a14efc8145c686823b33ba869416",
            "1318f73b4011400d89509304dfe883ff",
            "db04dc46c0d84ba48b0d8c078c74801c",
            "4d733b3e46484c059753baaeadb98e92",
            "731feb315ed74df2ba5ee7a0861f4ee5",
            "2d0c6c86fcce43cc8d2bd507657c6e1e"
          ]
        },
        "collapsed": true,
        "id": "-CxemPuwXkrX",
        "outputId": "30b1a0fa-ae5e-457c-8138-a729acb7e44b"
      },
      "outputs": [],
      "source": [
        "#Cargar tokenizer y modelo\n",
        "tokenizer = BertTokenizer.from_pretrained(\"bert-base-uncased\")\n",
        "model = BertModel.from_pretrained(\"bert-base-uncased\")\n",
        "\n",
        "#Mover modelo a GPU\n",
        "device = torch.device(\"cuda\" if torch.cuda.is_available() else \"cpu\")\n",
        "model = model.to(device)"
      ]
    },
    {
      "cell_type": "code",
      "execution_count": 21,
      "metadata": {
        "id": "7oEGVH2NYIgp"
      },
      "outputs": [],
      "source": [
        "#Tokenizar ejemplo\n",
        "text = \"This is an example sentence.\"\n",
        "inputs = tokenizer(text, return_tensors=\"pt\").to(device)"
      ]
    },
    {
      "cell_type": "code",
      "execution_count": 22,
      "metadata": {
        "id": "CeRn0CSVYmXC"
      },
      "outputs": [],
      "source": [
        "#Obtener SOLO embeddings de tokens (sin positional encoding)\n",
        "with torch.no_grad():\n",
        "    token_embeddings = model.embeddings.word_embeddings(inputs[\"input_ids\"])"
      ]
    },
    {
      "cell_type": "code",
      "execution_count": 23,
      "metadata": {
        "colab": {
          "base_uri": "https://localhost:8080/"
        },
        "id": "Rt_Zgx0LYop_",
        "outputId": "eb37f48e-37fe-45e1-807d-bd788163ccc9"
      },
      "outputs": [
        {
          "name": "stdout",
          "output_type": "stream",
          "text": [
            "Mean embedding shape: torch.Size([768])\n"
          ]
        }
      ],
      "source": [
        "# Eliminar dimensión batch → (n_tokens, d_model)\n",
        "token_matrix = token_embeddings.squeeze(0)\n",
        "\n",
        "# Calcular embedding promedio en GPU\n",
        "mean_embedding = token_matrix.mean(dim=0)   # (d_model,)\n",
        "print(\"Mean embedding shape:\", mean_embedding.shape)"
      ]
    },
    {
      "cell_type": "code",
      "execution_count": 24,
      "metadata": {
        "colab": {
          "base_uri": "https://localhost:8080/"
        },
        "id": "DYZCMyQEYz3u",
        "outputId": "32691eb0-731f-4c21-a6cb-2934a9aa8d6f"
      },
      "outputs": [
        {
          "data": {
            "text/plain": [
              "(torch.Size([768]), torch.float32)"
            ]
          },
          "execution_count": 24,
          "metadata": {},
          "output_type": "execute_result"
        }
      ],
      "source": [
        "mean_embedding.shape, mean_embedding.dtype"
      ]
    },
    {
      "cell_type": "code",
      "execution_count": 27,
      "metadata": {
        "colab": {
          "base_uri": "https://localhost:8080/"
        },
        "id": "-bpkBfhbbjAZ",
        "outputId": "d670a5d0-c1d9-41ce-91a6-1499ee6419de"
      },
      "outputs": [
        {
          "name": "stdout",
          "output_type": "stream",
          "text": [
            "Tamaño de X: (3565,)\n",
            "Tamaño de y: (3565,)\n",
            "Clases presentes: ['cardiovascular', 'hepatorenal', 'neurological', 'oncological']\n"
          ]
        }
      ],
      "source": [
        "# Supongamos que tu DataFrame se llama df\n",
        "# Filtramos solo las filas con los grupos que nos interesan\n",
        "\n",
        "\n",
        "# Definir X (texto) e y (labels)\n",
        "X = df[\"text\"].values\n",
        "y = df[\"labels\"].values\n",
        "\n",
        "print(\"Tamaño de X:\", X.shape)\n",
        "print(\"Tamaño de y:\", y.shape)\n",
        "print(\"Clases presentes:\", all_labels)\n"
      ]
    },
    {
      "cell_type": "code",
      "execution_count": 28,
      "metadata": {
        "id": "u0kJ0QJ5cL7A"
      },
      "outputs": [],
      "source": [
        "def get_mean_embedding(text):\n",
        "    # Tokenización y envío a GPU\n",
        "    inputs = tokenizer(text, return_tensors=\"pt\", truncation=True, padding=True, max_length=512).to(device)\n",
        "    with torch.no_grad():\n",
        "        # SOLO token embeddings, sin positional encoding\n",
        "        token_embeddings = model.embeddings.word_embeddings(inputs[\"input_ids\"])\n",
        "        token_matrix = token_embeddings.squeeze(0)       # (n_tokens, d_model)\n",
        "        mean_embedding = token_matrix.mean(dim=0)        # (d_model,)\n",
        "    return mean_embedding.cpu().numpy()  # traer a CPU como numpy"
      ]
    },
    {
      "cell_type": "code",
      "execution_count": null,
      "metadata": {
        "colab": {
          "base_uri": "https://localhost:8080/"
        },
        "id": "CLLsotBxcnFu",
        "outputId": "c8a2d9b4-aba9-466c-ef7c-9d826afabac6"
      },
      "outputs": [
        {
          "name": "stdout",
          "output_type": "stream",
          "text": [
            "Shape de X: (3565, 768)\n",
            "Shape de y: (3565, 4)\n",
            "Clases: ['cardiovascular', 'hepatorenal', 'neurological', 'oncological']\n"
          ]
        }
      ],
      "source": [
        "\n",
        "# Construir X (mean embedding)\n",
        "X = np.vstack([get_mean_embedding(text) for text in df[\"text\"].values])\n",
        "print(\"Shape de X:\", X.shape)  # (num_samples, d_model=768)\n",
        "\n",
        "# Construir y (one-hot encoding)\n",
        "mlb = MultiLabelBinarizer()\n",
        "y = mlb.fit_transform(df['labels'])\n",
        "\n",
        "print(\"Shape de y:\", y.shape)\n",
        "print(\"Clases:\", all_labels)"
      ]
    },
    {
      "cell_type": "markdown",
      "metadata": {
        "id": "cljK94BpLk9U"
      },
      "source": [
        "## Model"
      ]
    },
    {
      "cell_type": "markdown",
      "metadata": {},
      "source": [
        "Una vez generados los embeddings, estos se emplean para entrenar modelos de clasificación. Tras realizar diversas pruebas, los algoritmos que obtuvieron mejores resultados fueron **LogisticRegression** y **LinearSVC**.\n",
        "\n",
        "Para manejar el problema de clasificación multietiqueta, se utilizó **MultiLabelBinarizer**, una herramienta que transforma las etiquetas de cada texto en una representación binaria (matriz de ceros y unos), donde cada columna corresponde a una clase. Esta transformación permite que los modelos trabajen de manera eficiente con múltiples etiquetas por registro.\n",
        "\n",
        "Posteriormente, se aplicó **OneVsRestClassifier**, que entrena un clasificador independiente por cada clase. En este esquema, cada clasificador funciona como un modelo binario encargado de predecir si un texto pertenece o no a una categoría específica."
      ]
    },
    {
      "cell_type": "code",
      "execution_count": 30,
      "metadata": {
        "id": "Cdv0ejMJTazf"
      },
      "outputs": [],
      "source": [
        "X_train, X_test, y_train, y_test = train_test_split(X, y, test_size=0.3, random_state=42)"
      ]
    },
    {
      "cell_type": "code",
      "execution_count": null,
      "metadata": {},
      "outputs": [],
      "source": [
        "# LinearSVC es inherentemente binario, por lo que necesita el wrapper OneVsRest\n",
        "classifier = OneVsRestClassifier(\n",
        "    LinearSVC(\n",
        "        dual=True,\n",
        "        random_state=42,\n",
        "        max_iter=2000,\n",
        "        C=16,\n",
        "        tol=0.2,\n",
        "        multi_class=\"crammer_singer\",\n",
        "    )\n",
        ")\n",
        "# Entrenar el modelo\n",
        "classifier.fit(X_train, y_train)\n",
        "# Hacer predicciones en el conjunto de prueba\n",
        "y_pred = classifier.predict(X_test)"
      ]
    },
    {
      "cell_type": "code",
      "execution_count": null,
      "metadata": {},
      "outputs": [],
      "source": [
        "# Usar un clasificador que soporte multietiqueta, como OneVsRest con LogisticRegression\n",
        "# OneVsRest entrena un clasificador binario para cada clase, lo cual es ideal para resolver el problema\n",
        "classifier = OneVsRestClassifier(\n",
        "    LogisticRegression(solver='newton-cholesky', class_weight=\"balanced\", C=400,tol=1)\n",
        ")\n",
        "\n",
        "# Entrenar el modelo\n",
        "classifier.fit(X_train, y_train)\n",
        "\n",
        "# Hacer predicciones en el conjunto de prueba\n",
        "y_pred = classifier.predict(X_test)"
      ]
    },
    {
      "cell_type": "markdown",
      "metadata": {},
      "source": [
        "## Evaluacion de resultado"
      ]
    },
    {
      "cell_type": "markdown",
      "metadata": {},
      "source": [
        "Bajo el enfoque de generación de embeddings con **BERT**, se observó que el **accuracy** disminuyó ligeramente en comparación con los embeddings generados por el modelo de **Gemini**, pasando de un **68%** a un **65%**. Sin embargo, el **f1_score ponderado** se mantuvo bastante similar (**0.8337** contra **0.8502**), lo que indica que el desempeño en términos de equilibrio entre precisión y cobertura de las etiquetas no se vio afectado de manera significativa.  \n",
        "\n",
        "Además, este enfoque ofrece una **gran mejora en la velocidad de generación de embeddings**, ya que el proceso se ejecuta de forma local sin depender de servicios externos.  \n",
        "\n",
        "Con este nuevo esquema, el modelo que obtuvo los **mejores resultados** fue **LogisticRegression**, superando el desempeño de **LinearSVC** en esta configuración. Esto sugiere que, aunque el cambio de embeddings afecta ligeramente la exactitud global, el modelo logra mantener un rendimiento estable y competitivo en tareas de clasificación multietiqueta.  \n",
        "\n",
        "\n"
      ]
    },
    {
      "cell_type": "code",
      "execution_count": null,
      "metadata": {
        "colab": {
          "base_uri": "https://localhost:8080/"
        },
        "id": "KAiNyXZn9_Ho",
        "outputId": "3b3aeca1-0a1c-4e10-9793-4d41562a0454"
      },
      "outputs": [
        {
          "name": "stdout",
          "output_type": "stream",
          "text": [
            "el modelo presenta un accuracy de 0.7908% en train\n"
          ]
        }
      ],
      "source": [
        "predict=classifier.predict(X_train)\n",
        "accuracy=accuracy_score(y_train,predict)\n",
        "print(f\"el modelo presenta un accuracy de {accuracy:.4f}% en train\")"
      ]
    },
    {
      "cell_type": "code",
      "execution_count": 40,
      "metadata": {
        "colab": {
          "base_uri": "https://localhost:8080/"
        },
        "id": "cEoMV0SJ-bkW",
        "outputId": "7e0a44e5-8e0c-4952-c63a-15a8185870e3"
      },
      "outputs": [
        {
          "name": "stdout",
          "output_type": "stream",
          "text": [
            "el modelo presenta un accuracy de 0.6551% en test\n"
          ]
        }
      ],
      "source": [
        "accuracy=accuracy_score(y_pred,y_test)\n",
        "print(f\"el modelo presenta un accuracy de {accuracy:.4f}% en test\")"
      ]
    },
    {
      "cell_type": "code",
      "execution_count": 41,
      "metadata": {
        "colab": {
          "base_uri": "https://localhost:8080/"
        },
        "id": "JyXW_T4R-Gv6",
        "outputId": "7c35807e-5a34-4aa2-f0cb-539ab1c6f53f"
      },
      "outputs": [
        {
          "name": "stdout",
          "output_type": "stream",
          "text": [
            "Métrica Principal - F1 Score Ponderado (Weighted): 0.8337\n",
            "\n",
            "Reporte de Clasificación Detallado (por clase):\n",
            "                precision    recall  f1-score   support\n",
            "\n",
            "cardiovascular       0.86      0.84      0.85       375\n",
            "   hepatorenal       0.86      0.79      0.83       346\n",
            "  neurological       0.86      0.85      0.85       514\n",
            "   oncological       0.73      0.80      0.76       204\n",
            "\n",
            "     micro avg       0.84      0.83      0.83      1439\n",
            "     macro avg       0.83      0.82      0.82      1439\n",
            "  weighted avg       0.84      0.83      0.83      1439\n",
            "   samples avg       0.88      0.88      0.85      1439\n",
            "\n"
          ]
        }
      ],
      "source": [
        "# Calcular F1-Score Ponderado (métrica principal del challenge)\n",
        "weighted_f1 = f1_score(y_test, y_pred, average='weighted')\n",
        "print(f\"Métrica Principal - F1 Score Ponderado (Weighted): {weighted_f1:.4f}\\n\")\n",
        "\n",
        "# Reporte de clasificación completo (muestra métricas por cada clase)\n",
        "print(\"Reporte de Clasificación Detallado (por clase):\")\n",
        "# Usamos `target_names` para que el reporte muestre los nombres de las clases\n",
        "print(classification_report(y_test, y_pred, target_names=all_labels))\n"
      ]
    },
    {
      "cell_type": "code",
      "execution_count": 18,
      "metadata": {
        "colab": {
          "base_uri": "https://localhost:8080/",
          "height": 1000
        },
        "id": "HxHpsz6W-Hf3",
        "outputId": "86fedd33-45e1-41be-dbfd-17748667416c"
      },
      "outputs": [
        {
          "data": {
            "image/png": "[encoded data removed]",
            "text/plain": [
              "<Figure size 400x300 with 2 Axes>"
            ]
          },
          "metadata": {},
          "output_type": "display_data"
        },
        {
          "data": {
            "image/png": "[encoded data removed]",
            "text/plain": [
              "<Figure size 400x300 with 2 Axes>"
            ]
          },
          "metadata": {},
          "output_type": "display_data"
        },
        {
          "data": {
            "image/png": "[encoded data removed]",
            "text/plain": [
              "<Figure size 400x300 with 2 Axes>"
            ]
          },
          "metadata": {},
          "output_type": "display_data"
        },
        {
          "data": {
            "image/png": "[encoded data removed]",
            "text/plain": [
              "<Figure size 400x300 with 2 Axes>"
            ]
          },
          "metadata": {},
          "output_type": "display_data"
        }
      ],
      "source": [
        "mcm = multilabel_confusion_matrix(y_test,y_pred)\n",
        "for i, label in enumerate(all_labels):\n",
        "    cm = mcm[i]\n",
        "    plt.figure(figsize=(4, 3))\n",
        "    sns.heatmap(cm, annot=True, fmt=\"d\", cmap=\"Blues\", xticklabels=[\"No\", \"Yes\"], yticklabels=[\"No\", \"Yes\"])\n",
        "    plt.title(f\"Confusion Matrix for {label}\")\n",
        "    plt.ylabel(\"True\")\n",
        "    plt.xlabel(\"Predicted\")\n",
        "    plt.show()"
      ]
    },
    {
      "cell_type": "code",
      "execution_count": null,
      "metadata": {},
      "outputs": [],
      "source": [
        "y_pred=classifier.predict(X)\n",
        "#Convertir predicciones binarias a tuplas de texto\n",
        "predicted_labels_tuples = mlb.inverse_transform(y_pred)\n",
        "\n",
        "#Unir las tuplas en un solo string separado por '|'\n",
        "predicted_labels_strings = [\"|\".join(labels) for labels in predicted_labels_tuples]\n",
        "\n",
        "#Crear el DataFrame de salida final\n",
        "output_df = pd.DataFrame(predicted_labels_strings)\n",
        "output_df = df[[\"title\", \"abstract\",\"group\"]].copy()\n",
        "output_df[\"group_predicted\"] = predicted_labels_strings"
      ]
    },
    {
      "cell_type": "code",
      "execution_count": 54,
      "metadata": {},
      "outputs": [
        {
          "data": {
            "text/plain": [
              "group_predicted\n",
              "neurological                               1493\n",
              "cardiovascular                              766\n",
              "hepatorenal                                 518\n",
              "oncological                                 209\n",
              "cardiovascular|neurological                 197\n",
              "hepatorenal|neurological                    106\n",
              "                                             97\n",
              "neurological|oncological                     80\n",
              "cardiovascular|hepatorenal                   49\n",
              "hepatorenal|oncological                      29\n",
              "cardiovascular|oncological                   17\n",
              "hepatorenal|neurological|oncological          3\n",
              "cardiovascular|hepatorenal|neurological       1\n",
              "Name: count, dtype: int64"
            ]
          },
          "execution_count": 54,
          "metadata": {},
          "output_type": "execute_result"
        }
      ],
      "source": [
        "output_df[\"group_predicted\"].value_counts()"
      ]
    },
    {
      "cell_type": "markdown",
      "metadata": {
        "id": "BDpu4rt6L2l-"
      },
      "source": [
        "## Save model"
      ]
    },
    {
      "cell_type": "code",
      "execution_count": null,
      "metadata": {
        "id": "EjzX4JVuK23g"
      },
      "outputs": [],
      "source": [
        "import pickle\n",
        "\n",
        "# Guardar en un archivo .pkl\n",
        "with open(\"linearsvc_model.pkl\", \"wb\") as f:\n",
        "    pickle.dump(classifier, f)\n"
      ]
    }
  ],
  "metadata": {
    "accelerator": "GPU",
    "colab": {
      "gpuType": "T4",
      "provenance": []
    },
    "kernelspec": {
      "display_name": "venv",
      "language": "python",
      "name": "python3"
    },
    "language_info": {
      "codemirror_mode": {
        "name": "ipython",
        "version": 3
      },
      "file_extension": ".py",
      "mimetype": "text/x-python",
      "name": "python",
      "nbconvert_exporter": "python",
      "pygments_lexer": "ipython3",
      "version": "3.12.4"
    },
    "widgets": {
      "application/vnd.jupyter.widget-state+json": {
        "07e4230f962a4f98b8ef6fe1c8bfe3cd": {
          "model_module": "@jupyter-widgets/base",
          "model_module_version": "1.2.0",
          "model_name": "LayoutModel",
          "state": {
            "_model_module": "@jupyter-widgets/base",
            "_model_module_version": "1.2.0",
            "_model_name": "LayoutModel",
            "_view_count": null,
            "_view_module": "@jupyter-widgets/base",
            "_view_module_version": "1.2.0",
            "_view_name": "LayoutView",
            "align_content": null,
            "align_items": null,
            "align_self": null,
            "border": null,
            "bottom": null,
            "display": null,
            "flex": null,
            "flex_flow": null,
            "grid_area": null,
            "grid_auto_columns": null,
            "grid_auto_flow": null,
            "grid_auto_rows": null,
            "grid_column": null,
            "grid_gap": null,
            "grid_row": null,
            "grid_template_areas": null,
            "grid_template_columns": null,
            "grid_template_rows": null,
            "height": null,
            "justify_content": null,
            "justify_items": null,
            "left": null,
            "margin": null,
            "max_height": null,
            "max_width": null,
            "min_height": null,
            "min_width": null,
            "object_fit": null,
            "object_position": null,
            "order": null,
            "overflow": null,
            "overflow_x": null,
            "overflow_y": null,
            "padding": null,
            "right": null,
            "top": null,
            "visibility": null,
            "width": null
          }
        },
        "09b82674ebed4404aa15cdb6f5a2ce4d": {
          "model_module": "@jupyter-widgets/controls",
          "model_module_version": "1.5.0",
          "model_name": "DescriptionStyleModel",
          "state": {
            "_model_module": "@jupyter-widgets/controls",
            "_model_module_version": "1.5.0",
            "_model_name": "DescriptionStyleModel",
            "_view_count": null,
            "_view_module": "@jupyter-widgets/base",
            "_view_module_version": "1.2.0",
            "_view_name": "StyleView",
            "description_width": ""
          }
        },
        "0ab1a11e0b0f4ef6ad9b685a7a770a5d": {
          "model_module": "@jupyter-widgets/base",
          "model_module_version": "1.2.0",
          "model_name": "LayoutModel",
          "state": {
            "_model_module": "@jupyter-widgets/base",
            "_model_module_version": "1.2.0",
            "_model_name": "LayoutModel",
            "_view_count": null,
            "_view_module": "@jupyter-widgets/base",
            "_view_module_version": "1.2.0",
            "_view_name": "LayoutView",
            "align_content": null,
            "align_items": null,
            "align_self": null,
            "border": null,
            "bottom": null,
            "display": null,
            "flex": null,
            "flex_flow": null,
            "grid_area": null,
            "grid_auto_columns": null,
            "grid_auto_flow": null,
            "grid_auto_rows": null,
            "grid_column": null,
            "grid_gap": null,
            "grid_row": null,
            "grid_template_areas": null,
            "grid_template_columns": null,
            "grid_template_rows": null,
            "height": null,
            "justify_content": null,
            "justify_items": null,
            "left": null,
            "margin": null,
            "max_height": null,
            "max_width": null,
            "min_height": null,
            "min_width": null,
            "object_fit": null,
            "object_position": null,
            "order": null,
            "overflow": null,
            "overflow_x": null,
            "overflow_y": null,
            "padding": null,
            "right": null,
            "top": null,
            "visibility": null,
            "width": null
          }
        },
        "0c17ac5269dc44dcab4eb005fa6edaa6": {
          "model_module": "@jupyter-widgets/controls",
          "model_module_version": "1.5.0",
          "model_name": "ProgressStyleModel",
          "state": {
            "_model_module": "@jupyter-widgets/controls",
            "_model_module_version": "1.5.0",
            "_model_name": "ProgressStyleModel",
            "_view_count": null,
            "_view_module": "@jupyter-widgets/base",
            "_view_module_version": "1.2.0",
            "_view_name": "StyleView",
            "bar_color": null,
            "description_width": ""
          }
        },
        "0d09f07e6b8e4a8abb0b14b451ae0436": {
          "model_module": "@jupyter-widgets/controls",
          "model_module_version": "1.5.0",
          "model_name": "DescriptionStyleModel",
          "state": {
            "_model_module": "@jupyter-widgets/controls",
            "_model_module_version": "1.5.0",
            "_model_name": "DescriptionStyleModel",
            "_view_count": null,
            "_view_module": "@jupyter-widgets/base",
            "_view_module_version": "1.2.0",
            "_view_name": "StyleView",
            "description_width": ""
          }
        },
        "10a5a14efc8145c686823b33ba869416": {
          "model_module": "@jupyter-widgets/base",
          "model_module_version": "1.2.0",
          "model_name": "LayoutModel",
          "state": {
            "_model_module": "@jupyter-widgets/base",
            "_model_module_version": "1.2.0",
            "_model_name": "LayoutModel",
            "_view_count": null,
            "_view_module": "@jupyter-widgets/base",
            "_view_module_version": "1.2.0",
            "_view_name": "LayoutView",
            "align_content": null,
            "align_items": null,
            "align_self": null,
            "border": null,
            "bottom": null,
            "display": null,
            "flex": null,
            "flex_flow": null,
            "grid_area": null,
            "grid_auto_columns": null,
            "grid_auto_flow": null,
            "grid_auto_rows": null,
            "grid_column": null,
            "grid_gap": null,
            "grid_row": null,
            "grid_template_areas": null,
            "grid_template_columns": null,
            "grid_template_rows": null,
            "height": null,
            "justify_content": null,
            "justify_items": null,
            "left": null,
            "margin": null,
            "max_height": null,
            "max_width": null,
            "min_height": null,
            "min_width": null,
            "object_fit": null,
            "object_position": null,
            "order": null,
            "overflow": null,
            "overflow_x": null,
            "overflow_y": null,
            "padding": null,
            "right": null,
            "top": null,
            "visibility": null,
            "width": null
          }
        },
        "1155b4e1818944f8a95805b82b383b05": {
          "model_module": "@jupyter-widgets/base",
          "model_module_version": "1.2.0",
          "model_name": "LayoutModel",
          "state": {
            "_model_module": "@jupyter-widgets/base",
            "_model_module_version": "1.2.0",
            "_model_name": "LayoutModel",
            "_view_count": null,
            "_view_module": "@jupyter-widgets/base",
            "_view_module_version": "1.2.0",
            "_view_name": "LayoutView",
            "align_content": null,
            "align_items": null,
            "align_self": null,
            "border": null,
            "bottom": null,
            "display": null,
            "flex": null,
            "flex_flow": null,
            "grid_area": null,
            "grid_auto_columns": null,
            "grid_auto_flow": null,
            "grid_auto_rows": null,
            "grid_column": null,
            "grid_gap": null,
            "grid_row": null,
            "grid_template_areas": null,
            "grid_template_columns": null,
            "grid_template_rows": null,
            "height": null,
            "justify_content": null,
            "justify_items": null,
            "left": null,
            "margin": null,
            "max_height": null,
            "max_width": null,
            "min_height": null,
            "min_width": null,
            "object_fit": null,
            "object_position": null,
            "order": null,
            "overflow": null,
            "overflow_x": null,
            "overflow_y": null,
            "padding": null,
            "right": null,
            "top": null,
            "visibility": null,
            "width": null
          }
        },
        "1318f73b4011400d89509304dfe883ff": {
          "model_module": "@jupyter-widgets/controls",
          "model_module_version": "1.5.0",
          "model_name": "DescriptionStyleModel",
          "state": {
            "_model_module": "@jupyter-widgets/controls",
            "_model_module_version": "1.5.0",
            "_model_name": "DescriptionStyleModel",
            "_view_count": null,
            "_view_module": "@jupyter-widgets/base",
            "_view_module_version": "1.2.0",
            "_view_name": "StyleView",
            "description_width": ""
          }
        },
        "1391f44462864929ba2dae6db6bd0e5c": {
          "model_module": "@jupyter-widgets/controls",
          "model_module_version": "1.5.0",
          "model_name": "DescriptionStyleModel",
          "state": {
            "_model_module": "@jupyter-widgets/controls",
            "_model_module_version": "1.5.0",
            "_model_name": "DescriptionStyleModel",
            "_view_count": null,
            "_view_module": "@jupyter-widgets/base",
            "_view_module_version": "1.2.0",
            "_view_name": "StyleView",
            "description_width": ""
          }
        },
        "14a7ed91415d4759a0c75aec1591f564": {
          "model_module": "@jupyter-widgets/base",
          "model_module_version": "1.2.0",
          "model_name": "LayoutModel",
          "state": {
            "_model_module": "@jupyter-widgets/base",
            "_model_module_version": "1.2.0",
            "_model_name": "LayoutModel",
            "_view_count": null,
            "_view_module": "@jupyter-widgets/base",
            "_view_module_version": "1.2.0",
            "_view_name": "LayoutView",
            "align_content": null,
            "align_items": null,
            "align_self": null,
            "border": null,
            "bottom": null,
            "display": null,
            "flex": null,
            "flex_flow": null,
            "grid_area": null,
            "grid_auto_columns": null,
            "grid_auto_flow": null,
            "grid_auto_rows": null,
            "grid_column": null,
            "grid_gap": null,
            "grid_row": null,
            "grid_template_areas": null,
            "grid_template_columns": null,
            "grid_template_rows": null,
            "height": null,
            "justify_content": null,
            "justify_items": null,
            "left": null,
            "margin": null,
            "max_height": null,
            "max_width": null,
            "min_height": null,
            "min_width": null,
            "object_fit": null,
            "object_position": null,
            "order": null,
            "overflow": null,
            "overflow_x": null,
            "overflow_y": null,
            "padding": null,
            "right": null,
            "top": null,
            "visibility": null,
            "width": null
          }
        },
        "1ceba260b7bd44a68e992c43ec4f673f": {
          "model_module": "@jupyter-widgets/base",
          "model_module_version": "1.2.0",
          "model_name": "LayoutModel",
          "state": {
            "_model_module": "@jupyter-widgets/base",
            "_model_module_version": "1.2.0",
            "_model_name": "LayoutModel",
            "_view_count": null,
            "_view_module": "@jupyter-widgets/base",
            "_view_module_version": "1.2.0",
            "_view_name": "LayoutView",
            "align_content": null,
            "align_items": null,
            "align_self": null,
            "border": null,
            "bottom": null,
            "display": null,
            "flex": null,
            "flex_flow": null,
            "grid_area": null,
            "grid_auto_columns": null,
            "grid_auto_flow": null,
            "grid_auto_rows": null,
            "grid_column": null,
            "grid_gap": null,
            "grid_row": null,
            "grid_template_areas": null,
            "grid_template_columns": null,
            "grid_template_rows": null,
            "height": null,
            "justify_content": null,
            "justify_items": null,
            "left": null,
            "margin": null,
            "max_height": null,
            "max_width": null,
            "min_height": null,
            "min_width": null,
            "object_fit": null,
            "object_position": null,
            "order": null,
            "overflow": null,
            "overflow_x": null,
            "overflow_y": null,
            "padding": null,
            "right": null,
            "top": null,
            "visibility": null,
            "width": null
          }
        },
        "1ec5eb54284f4d8f9a67538b75c0c3d6": {
          "model_module": "@jupyter-widgets/base",
          "model_module_version": "1.2.0",
          "model_name": "LayoutModel",
          "state": {
            "_model_module": "@jupyter-widgets/base",
            "_model_module_version": "1.2.0",
            "_model_name": "LayoutModel",
            "_view_count": null,
            "_view_module": "@jupyter-widgets/base",
            "_view_module_version": "1.2.0",
            "_view_name": "LayoutView",
            "align_content": null,
            "align_items": null,
            "align_self": null,
            "border": null,
            "bottom": null,
            "display": null,
            "flex": null,
            "flex_flow": null,
            "grid_area": null,
            "grid_auto_columns": null,
            "grid_auto_flow": null,
            "grid_auto_rows": null,
            "grid_column": null,
            "grid_gap": null,
            "grid_row": null,
            "grid_template_areas": null,
            "grid_template_columns": null,
            "grid_template_rows": null,
            "height": null,
            "justify_content": null,
            "justify_items": null,
            "left": null,
            "margin": null,
            "max_height": null,
            "max_width": null,
            "min_height": null,
            "min_width": null,
            "object_fit": null,
            "object_position": null,
            "order": null,
            "overflow": null,
            "overflow_x": null,
            "overflow_y": null,
            "padding": null,
            "right": null,
            "top": null,
            "visibility": null,
            "width": null
          }
        },
        "203d23b402304c34a16c190b8148cb0b": {
          "model_module": "@jupyter-widgets/base",
          "model_module_version": "1.2.0",
          "model_name": "LayoutModel",
          "state": {
            "_model_module": "@jupyter-widgets/base",
            "_model_module_version": "1.2.0",
            "_model_name": "LayoutModel",
            "_view_count": null,
            "_view_module": "@jupyter-widgets/base",
            "_view_module_version": "1.2.0",
            "_view_name": "LayoutView",
            "align_content": null,
            "align_items": null,
            "align_self": null,
            "border": null,
            "bottom": null,
            "display": null,
            "flex": null,
            "flex_flow": null,
            "grid_area": null,
            "grid_auto_columns": null,
            "grid_auto_flow": null,
            "grid_auto_rows": null,
            "grid_column": null,
            "grid_gap": null,
            "grid_row": null,
            "grid_template_areas": null,
            "grid_template_columns": null,
            "grid_template_rows": null,
            "height": null,
            "justify_content": null,
            "justify_items": null,
            "left": null,
            "margin": null,
            "max_height": null,
            "max_width": null,
            "min_height": null,
            "min_width": null,
            "object_fit": null,
            "object_position": null,
            "order": null,
            "overflow": null,
            "overflow_x": null,
            "overflow_y": null,
            "padding": null,
            "right": null,
            "top": null,
            "visibility": null,
            "width": null
          }
        },
        "2c5e1300c6ee462cbf476e9777a95fb0": {
          "model_module": "@jupyter-widgets/controls",
          "model_module_version": "1.5.0",
          "model_name": "FloatProgressModel",
          "state": {
            "_dom_classes": [],
            "_model_module": "@jupyter-widgets/controls",
            "_model_module_version": "1.5.0",
            "_model_name": "FloatProgressModel",
            "_view_count": null,
            "_view_module": "@jupyter-widgets/controls",
            "_view_module_version": "1.5.0",
            "_view_name": "ProgressView",
            "bar_style": "success",
            "description": "",
            "description_tooltip": null,
            "layout": "IPY_MODEL_310e6faab8a846d8a5d8c9d7b2e4a01b",
            "max": 570,
            "min": 0,
            "orientation": "horizontal",
            "style": "IPY_MODEL_9c7418508ad94d9bb8544377c9490c76",
            "value": 570
          }
        },
        "2d08dda72fc8418580854fcae24bcb59": {
          "model_module": "@jupyter-widgets/base",
          "model_module_version": "1.2.0",
          "model_name": "LayoutModel",
          "state": {
            "_model_module": "@jupyter-widgets/base",
            "_model_module_version": "1.2.0",
            "_model_name": "LayoutModel",
            "_view_count": null,
            "_view_module": "@jupyter-widgets/base",
            "_view_module_version": "1.2.0",
            "_view_name": "LayoutView",
            "align_content": null,
            "align_items": null,
            "align_self": null,
            "border": null,
            "bottom": null,
            "display": null,
            "flex": null,
            "flex_flow": null,
            "grid_area": null,
            "grid_auto_columns": null,
            "grid_auto_flow": null,
            "grid_auto_rows": null,
            "grid_column": null,
            "grid_gap": null,
            "grid_row": null,
            "grid_template_areas": null,
            "grid_template_columns": null,
            "grid_template_rows": null,
            "height": null,
            "justify_content": null,
            "justify_items": null,
            "left": null,
            "margin": null,
            "max_height": null,
            "max_width": null,
            "min_height": null,
            "min_width": null,
            "object_fit": null,
            "object_position": null,
            "order": null,
            "overflow": null,
            "overflow_x": null,
            "overflow_y": null,
            "padding": null,
            "right": null,
            "top": null,
            "visibility": null,
            "width": null
          }
        },
        "2d0c6c86fcce43cc8d2bd507657c6e1e": {
          "model_module": "@jupyter-widgets/controls",
          "model_module_version": "1.5.0",
          "model_name": "DescriptionStyleModel",
          "state": {
            "_model_module": "@jupyter-widgets/controls",
            "_model_module_version": "1.5.0",
            "_model_name": "DescriptionStyleModel",
            "_view_count": null,
            "_view_module": "@jupyter-widgets/base",
            "_view_module_version": "1.2.0",
            "_view_name": "StyleView",
            "description_width": ""
          }
        },
        "310e6faab8a846d8a5d8c9d7b2e4a01b": {
          "model_module": "@jupyter-widgets/base",
          "model_module_version": "1.2.0",
          "model_name": "LayoutModel",
          "state": {
            "_model_module": "@jupyter-widgets/base",
            "_model_module_version": "1.2.0",
            "_model_name": "LayoutModel",
            "_view_count": null,
            "_view_module": "@jupyter-widgets/base",
            "_view_module_version": "1.2.0",
            "_view_name": "LayoutView",
            "align_content": null,
            "align_items": null,
            "align_self": null,
            "border": null,
            "bottom": null,
            "display": null,
            "flex": null,
            "flex_flow": null,
            "grid_area": null,
            "grid_auto_columns": null,
            "grid_auto_flow": null,
            "grid_auto_rows": null,
            "grid_column": null,
            "grid_gap": null,
            "grid_row": null,
            "grid_template_areas": null,
            "grid_template_columns": null,
            "grid_template_rows": null,
            "height": null,
            "justify_content": null,
            "justify_items": null,
            "left": null,
            "margin": null,
            "max_height": null,
            "max_width": null,
            "min_height": null,
            "min_width": null,
            "object_fit": null,
            "object_position": null,
            "order": null,
            "overflow": null,
            "overflow_x": null,
            "overflow_y": null,
            "padding": null,
            "right": null,
            "top": null,
            "visibility": null,
            "width": null
          }
        },
        "330f14a4390243c9b06be76e372840dc": {
          "model_module": "@jupyter-widgets/controls",
          "model_module_version": "1.5.0",
          "model_name": "HTMLModel",
          "state": {
            "_dom_classes": [],
            "_model_module": "@jupyter-widgets/controls",
            "_model_module_version": "1.5.0",
            "_model_name": "HTMLModel",
            "_view_count": null,
            "_view_module": "@jupyter-widgets/controls",
            "_view_module_version": "1.5.0",
            "_view_name": "HTMLView",
            "description": "",
            "description_tooltip": null,
            "layout": "IPY_MODEL_0ab1a11e0b0f4ef6ad9b685a7a770a5d",
            "placeholder": "​",
            "style": "IPY_MODEL_91b4ae2c21414952a2003a0a25d1ad13",
            "value": " 466k/466k [00:00&lt;00:00, 8.41MB/s]"
          }
        },
        "33cd97ac5e45460886d84ee0af01ca40": {
          "model_module": "@jupyter-widgets/controls",
          "model_module_version": "1.5.0",
          "model_name": "HBoxModel",
          "state": {
            "_dom_classes": [],
            "_model_module": "@jupyter-widgets/controls",
            "_model_module_version": "1.5.0",
            "_model_name": "HBoxModel",
            "_view_count": null,
            "_view_module": "@jupyter-widgets/controls",
            "_view_module_version": "1.5.0",
            "_view_name": "HBoxView",
            "box_style": "",
            "children": [
              "IPY_MODEL_af85fbce90e545a89fc17ac617268bf7",
              "IPY_MODEL_5d2cad0302f74290bf906463bfc685a7",
              "IPY_MODEL_5c5d082868e34277aa2fe851675f210f"
            ],
            "layout": "IPY_MODEL_1155b4e1818944f8a95805b82b383b05"
          }
        },
        "35eae670e0f54fb88d6035bf7108e6c8": {
          "model_module": "@jupyter-widgets/base",
          "model_module_version": "1.2.0",
          "model_name": "LayoutModel",
          "state": {
            "_model_module": "@jupyter-widgets/base",
            "_model_module_version": "1.2.0",
            "_model_name": "LayoutModel",
            "_view_count": null,
            "_view_module": "@jupyter-widgets/base",
            "_view_module_version": "1.2.0",
            "_view_name": "LayoutView",
            "align_content": null,
            "align_items": null,
            "align_self": null,
            "border": null,
            "bottom": null,
            "display": null,
            "flex": null,
            "flex_flow": null,
            "grid_area": null,
            "grid_auto_columns": null,
            "grid_auto_flow": null,
            "grid_auto_rows": null,
            "grid_column": null,
            "grid_gap": null,
            "grid_row": null,
            "grid_template_areas": null,
            "grid_template_columns": null,
            "grid_template_rows": null,
            "height": null,
            "justify_content": null,
            "justify_items": null,
            "left": null,
            "margin": null,
            "max_height": null,
            "max_width": null,
            "min_height": null,
            "min_width": null,
            "object_fit": null,
            "object_position": null,
            "order": null,
            "overflow": null,
            "overflow_x": null,
            "overflow_y": null,
            "padding": null,
            "right": null,
            "top": null,
            "visibility": null,
            "width": null
          }
        },
        "37f65fe19da04585a723b8fd3684a459": {
          "model_module": "@jupyter-widgets/controls",
          "model_module_version": "1.5.0",
          "model_name": "FloatProgressModel",
          "state": {
            "_dom_classes": [],
            "_model_module": "@jupyter-widgets/controls",
            "_model_module_version": "1.5.0",
            "_model_name": "FloatProgressModel",
            "_view_count": null,
            "_view_module": "@jupyter-widgets/controls",
            "_view_module_version": "1.5.0",
            "_view_name": "ProgressView",
            "bar_style": "success",
            "description": "",
            "description_tooltip": null,
            "layout": "IPY_MODEL_db04dc46c0d84ba48b0d8c078c74801c",
            "max": 440449768,
            "min": 0,
            "orientation": "horizontal",
            "style": "IPY_MODEL_4d733b3e46484c059753baaeadb98e92",
            "value": 440449768
          }
        },
        "39050d1468e441b1ab740b399cf05623": {
          "model_module": "@jupyter-widgets/controls",
          "model_module_version": "1.5.0",
          "model_name": "HTMLModel",
          "state": {
            "_dom_classes": [],
            "_model_module": "@jupyter-widgets/controls",
            "_model_module_version": "1.5.0",
            "_model_name": "HTMLModel",
            "_view_count": null,
            "_view_module": "@jupyter-widgets/controls",
            "_view_module_version": "1.5.0",
            "_view_name": "HTMLView",
            "description": "",
            "description_tooltip": null,
            "layout": "IPY_MODEL_731feb315ed74df2ba5ee7a0861f4ee5",
            "placeholder": "​",
            "style": "IPY_MODEL_2d0c6c86fcce43cc8d2bd507657c6e1e",
            "value": " 440M/440M [00:16&lt;00:00, 25.5MB/s]"
          }
        },
        "3c834f94b54244c1924d9a5c23008339": {
          "model_module": "@jupyter-widgets/base",
          "model_module_version": "1.2.0",
          "model_name": "LayoutModel",
          "state": {
            "_model_module": "@jupyter-widgets/base",
            "_model_module_version": "1.2.0",
            "_model_name": "LayoutModel",
            "_view_count": null,
            "_view_module": "@jupyter-widgets/base",
            "_view_module_version": "1.2.0",
            "_view_name": "LayoutView",
            "align_content": null,
            "align_items": null,
            "align_self": null,
            "border": null,
            "bottom": null,
            "display": null,
            "flex": null,
            "flex_flow": null,
            "grid_area": null,
            "grid_auto_columns": null,
            "grid_auto_flow": null,
            "grid_auto_rows": null,
            "grid_column": null,
            "grid_gap": null,
            "grid_row": null,
            "grid_template_areas": null,
            "grid_template_columns": null,
            "grid_template_rows": null,
            "height": null,
            "justify_content": null,
            "justify_items": null,
            "left": null,
            "margin": null,
            "max_height": null,
            "max_width": null,
            "min_height": null,
            "min_width": null,
            "object_fit": null,
            "object_position": null,
            "order": null,
            "overflow": null,
            "overflow_x": null,
            "overflow_y": null,
            "padding": null,
            "right": null,
            "top": null,
            "visibility": null,
            "width": null
          }
        },
        "4127b1bf636d4a379ce7d21edd71e0ce": {
          "model_module": "@jupyter-widgets/controls",
          "model_module_version": "1.5.0",
          "model_name": "HTMLModel",
          "state": {
            "_dom_classes": [],
            "_model_module": "@jupyter-widgets/controls",
            "_model_module_version": "1.5.0",
            "_model_name": "HTMLModel",
            "_view_count": null,
            "_view_module": "@jupyter-widgets/controls",
            "_view_module_version": "1.5.0",
            "_view_name": "HTMLView",
            "description": "",
            "description_tooltip": null,
            "layout": "IPY_MODEL_d1c2a00def014d6ea3ea5ee910e54a46",
            "placeholder": "​",
            "style": "IPY_MODEL_8b6a1efe7fa347c1acf3e890e171de2f",
            "value": " 232k/232k [00:00&lt;00:00, 4.85MB/s]"
          }
        },
        "4a72f7597c7e4548967f2d57a12e386a": {
          "model_module": "@jupyter-widgets/controls",
          "model_module_version": "1.5.0",
          "model_name": "ProgressStyleModel",
          "state": {
            "_model_module": "@jupyter-widgets/controls",
            "_model_module_version": "1.5.0",
            "_model_name": "ProgressStyleModel",
            "_view_count": null,
            "_view_module": "@jupyter-widgets/base",
            "_view_module_version": "1.2.0",
            "_view_name": "StyleView",
            "bar_color": null,
            "description_width": ""
          }
        },
        "4d733b3e46484c059753baaeadb98e92": {
          "model_module": "@jupyter-widgets/controls",
          "model_module_version": "1.5.0",
          "model_name": "ProgressStyleModel",
          "state": {
            "_model_module": "@jupyter-widgets/controls",
            "_model_module_version": "1.5.0",
            "_model_name": "ProgressStyleModel",
            "_view_count": null,
            "_view_module": "@jupyter-widgets/base",
            "_view_module_version": "1.2.0",
            "_view_name": "StyleView",
            "bar_color": null,
            "description_width": ""
          }
        },
        "4f7ffc50fb494eadb0394442230fc7bc": {
          "model_module": "@jupyter-widgets/controls",
          "model_module_version": "1.5.0",
          "model_name": "HBoxModel",
          "state": {
            "_dom_classes": [],
            "_model_module": "@jupyter-widgets/controls",
            "_model_module_version": "1.5.0",
            "_model_name": "HBoxModel",
            "_view_count": null,
            "_view_module": "@jupyter-widgets/controls",
            "_view_module_version": "1.5.0",
            "_view_name": "HBoxView",
            "box_style": "",
            "children": [
              "IPY_MODEL_80b5ffd08cf04188a0f6fc42e6e5ca7e",
              "IPY_MODEL_2c5e1300c6ee462cbf476e9777a95fb0",
              "IPY_MODEL_b5e2b10af5644675aa9dc595eebfd19d"
            ],
            "layout": "IPY_MODEL_14a7ed91415d4759a0c75aec1591f564"
          }
        },
        "583c987d4bd7409e84ed1079ec6033dd": {
          "model_module": "@jupyter-widgets/base",
          "model_module_version": "1.2.0",
          "model_name": "LayoutModel",
          "state": {
            "_model_module": "@jupyter-widgets/base",
            "_model_module_version": "1.2.0",
            "_model_name": "LayoutModel",
            "_view_count": null,
            "_view_module": "@jupyter-widgets/base",
            "_view_module_version": "1.2.0",
            "_view_name": "LayoutView",
            "align_content": null,
            "align_items": null,
            "align_self": null,
            "border": null,
            "bottom": null,
            "display": null,
            "flex": null,
            "flex_flow": null,
            "grid_area": null,
            "grid_auto_columns": null,
            "grid_auto_flow": null,
            "grid_auto_rows": null,
            "grid_column": null,
            "grid_gap": null,
            "grid_row": null,
            "grid_template_areas": null,
            "grid_template_columns": null,
            "grid_template_rows": null,
            "height": null,
            "justify_content": null,
            "justify_items": null,
            "left": null,
            "margin": null,
            "max_height": null,
            "max_width": null,
            "min_height": null,
            "min_width": null,
            "object_fit": null,
            "object_position": null,
            "order": null,
            "overflow": null,
            "overflow_x": null,
            "overflow_y": null,
            "padding": null,
            "right": null,
            "top": null,
            "visibility": null,
            "width": null
          }
        },
        "5a1de6b8898f40268e856c2b3dd298f4": {
          "model_module": "@jupyter-widgets/controls",
          "model_module_version": "1.5.0",
          "model_name": "DescriptionStyleModel",
          "state": {
            "_model_module": "@jupyter-widgets/controls",
            "_model_module_version": "1.5.0",
            "_model_name": "DescriptionStyleModel",
            "_view_count": null,
            "_view_module": "@jupyter-widgets/base",
            "_view_module_version": "1.2.0",
            "_view_name": "StyleView",
            "description_width": ""
          }
        },
        "5c5d082868e34277aa2fe851675f210f": {
          "model_module": "@jupyter-widgets/controls",
          "model_module_version": "1.5.0",
          "model_name": "HTMLModel",
          "state": {
            "_dom_classes": [],
            "_model_module": "@jupyter-widgets/controls",
            "_model_module_version": "1.5.0",
            "_model_name": "HTMLModel",
            "_view_count": null,
            "_view_module": "@jupyter-widgets/controls",
            "_view_module_version": "1.5.0",
            "_view_name": "HTMLView",
            "description": "",
            "description_tooltip": null,
            "layout": "IPY_MODEL_35eae670e0f54fb88d6035bf7108e6c8",
            "placeholder": "​",
            "style": "IPY_MODEL_5a1de6b8898f40268e856c2b3dd298f4",
            "value": " 48.0/48.0 [00:00&lt;00:00, 4.04kB/s]"
          }
        },
        "5d2cad0302f74290bf906463bfc685a7": {
          "model_module": "@jupyter-widgets/controls",
          "model_module_version": "1.5.0",
          "model_name": "FloatProgressModel",
          "state": {
            "_dom_classes": [],
            "_model_module": "@jupyter-widgets/controls",
            "_model_module_version": "1.5.0",
            "_model_name": "FloatProgressModel",
            "_view_count": null,
            "_view_module": "@jupyter-widgets/controls",
            "_view_module_version": "1.5.0",
            "_view_name": "ProgressView",
            "bar_style": "success",
            "description": "",
            "description_tooltip": null,
            "layout": "IPY_MODEL_e253398cc7884cdba89f47250db1d220",
            "max": 48,
            "min": 0,
            "orientation": "horizontal",
            "style": "IPY_MODEL_4a72f7597c7e4548967f2d57a12e386a",
            "value": 48
          }
        },
        "6eae1c3edf134cd19b2e33a1a4cc4e49": {
          "model_module": "@jupyter-widgets/controls",
          "model_module_version": "1.5.0",
          "model_name": "FloatProgressModel",
          "state": {
            "_dom_classes": [],
            "_model_module": "@jupyter-widgets/controls",
            "_model_module_version": "1.5.0",
            "_model_name": "FloatProgressModel",
            "_view_count": null,
            "_view_module": "@jupyter-widgets/controls",
            "_view_module_version": "1.5.0",
            "_view_name": "ProgressView",
            "bar_style": "success",
            "description": "",
            "description_tooltip": null,
            "layout": "IPY_MODEL_203d23b402304c34a16c190b8148cb0b",
            "max": 466062,
            "min": 0,
            "orientation": "horizontal",
            "style": "IPY_MODEL_0c17ac5269dc44dcab4eb005fa6edaa6",
            "value": 466062
          }
        },
        "731feb315ed74df2ba5ee7a0861f4ee5": {
          "model_module": "@jupyter-widgets/base",
          "model_module_version": "1.2.0",
          "model_name": "LayoutModel",
          "state": {
            "_model_module": "@jupyter-widgets/base",
            "_model_module_version": "1.2.0",
            "_model_name": "LayoutModel",
            "_view_count": null,
            "_view_module": "@jupyter-widgets/base",
            "_view_module_version": "1.2.0",
            "_view_name": "LayoutView",
            "align_content": null,
            "align_items": null,
            "align_self": null,
            "border": null,
            "bottom": null,
            "display": null,
            "flex": null,
            "flex_flow": null,
            "grid_area": null,
            "grid_auto_columns": null,
            "grid_auto_flow": null,
            "grid_auto_rows": null,
            "grid_column": null,
            "grid_gap": null,
            "grid_row": null,
            "grid_template_areas": null,
            "grid_template_columns": null,
            "grid_template_rows": null,
            "height": null,
            "justify_content": null,
            "justify_items": null,
            "left": null,
            "margin": null,
            "max_height": null,
            "max_width": null,
            "min_height": null,
            "min_width": null,
            "object_fit": null,
            "object_position": null,
            "order": null,
            "overflow": null,
            "overflow_x": null,
            "overflow_y": null,
            "padding": null,
            "right": null,
            "top": null,
            "visibility": null,
            "width": null
          }
        },
        "7979a2c2e99f49ddb40a99d6d3bfbf7d": {
          "model_module": "@jupyter-widgets/controls",
          "model_module_version": "1.5.0",
          "model_name": "ProgressStyleModel",
          "state": {
            "_model_module": "@jupyter-widgets/controls",
            "_model_module_version": "1.5.0",
            "_model_name": "ProgressStyleModel",
            "_view_count": null,
            "_view_module": "@jupyter-widgets/base",
            "_view_module_version": "1.2.0",
            "_view_name": "StyleView",
            "bar_color": null,
            "description_width": ""
          }
        },
        "7ee874d0478044ae95ea8c1833674bd6": {
          "model_module": "@jupyter-widgets/controls",
          "model_module_version": "1.5.0",
          "model_name": "HBoxModel",
          "state": {
            "_dom_classes": [],
            "_model_module": "@jupyter-widgets/controls",
            "_model_module_version": "1.5.0",
            "_model_name": "HBoxModel",
            "_view_count": null,
            "_view_module": "@jupyter-widgets/controls",
            "_view_module_version": "1.5.0",
            "_view_name": "HBoxView",
            "box_style": "",
            "children": [
              "IPY_MODEL_a76abed8b8c6472ea137c3cbb340be93",
              "IPY_MODEL_37f65fe19da04585a723b8fd3684a459",
              "IPY_MODEL_39050d1468e441b1ab740b399cf05623"
            ],
            "layout": "IPY_MODEL_a701acf283a24cca96f254c349b349eb"
          }
        },
        "80b5ffd08cf04188a0f6fc42e6e5ca7e": {
          "model_module": "@jupyter-widgets/controls",
          "model_module_version": "1.5.0",
          "model_name": "HTMLModel",
          "state": {
            "_dom_classes": [],
            "_model_module": "@jupyter-widgets/controls",
            "_model_module_version": "1.5.0",
            "_model_name": "HTMLModel",
            "_view_count": null,
            "_view_module": "@jupyter-widgets/controls",
            "_view_module_version": "1.5.0",
            "_view_name": "HTMLView",
            "description": "",
            "description_tooltip": null,
            "layout": "IPY_MODEL_583c987d4bd7409e84ed1079ec6033dd",
            "placeholder": "​",
            "style": "IPY_MODEL_ebb0fa41fd604ba59965ff365ba02fbf",
            "value": "config.json: 100%"
          }
        },
        "8b6a1efe7fa347c1acf3e890e171de2f": {
          "model_module": "@jupyter-widgets/controls",
          "model_module_version": "1.5.0",
          "model_name": "DescriptionStyleModel",
          "state": {
            "_model_module": "@jupyter-widgets/controls",
            "_model_module_version": "1.5.0",
            "_model_name": "DescriptionStyleModel",
            "_view_count": null,
            "_view_module": "@jupyter-widgets/base",
            "_view_module_version": "1.2.0",
            "_view_name": "StyleView",
            "description_width": ""
          }
        },
        "91b4ae2c21414952a2003a0a25d1ad13": {
          "model_module": "@jupyter-widgets/controls",
          "model_module_version": "1.5.0",
          "model_name": "DescriptionStyleModel",
          "state": {
            "_model_module": "@jupyter-widgets/controls",
            "_model_module_version": "1.5.0",
            "_model_name": "DescriptionStyleModel",
            "_view_count": null,
            "_view_module": "@jupyter-widgets/base",
            "_view_module_version": "1.2.0",
            "_view_name": "StyleView",
            "description_width": ""
          }
        },
        "9479066def5541c08804c1027e76fb75": {
          "model_module": "@jupyter-widgets/controls",
          "model_module_version": "1.5.0",
          "model_name": "DescriptionStyleModel",
          "state": {
            "_model_module": "@jupyter-widgets/controls",
            "_model_module_version": "1.5.0",
            "_model_name": "DescriptionStyleModel",
            "_view_count": null,
            "_view_module": "@jupyter-widgets/base",
            "_view_module_version": "1.2.0",
            "_view_name": "StyleView",
            "description_width": ""
          }
        },
        "9c7418508ad94d9bb8544377c9490c76": {
          "model_module": "@jupyter-widgets/controls",
          "model_module_version": "1.5.0",
          "model_name": "ProgressStyleModel",
          "state": {
            "_model_module": "@jupyter-widgets/controls",
            "_model_module_version": "1.5.0",
            "_model_name": "ProgressStyleModel",
            "_view_count": null,
            "_view_module": "@jupyter-widgets/base",
            "_view_module_version": "1.2.0",
            "_view_name": "StyleView",
            "bar_color": null,
            "description_width": ""
          }
        },
        "a4adf5e8e66b49839a25e41bd4ff6e7e": {
          "model_module": "@jupyter-widgets/controls",
          "model_module_version": "1.5.0",
          "model_name": "HBoxModel",
          "state": {
            "_dom_classes": [],
            "_model_module": "@jupyter-widgets/controls",
            "_model_module_version": "1.5.0",
            "_model_name": "HBoxModel",
            "_view_count": null,
            "_view_module": "@jupyter-widgets/controls",
            "_view_module_version": "1.5.0",
            "_view_name": "HBoxView",
            "box_style": "",
            "children": [
              "IPY_MODEL_bbf9cff877a34d08803aa8cd106842e1",
              "IPY_MODEL_6eae1c3edf134cd19b2e33a1a4cc4e49",
              "IPY_MODEL_330f14a4390243c9b06be76e372840dc"
            ],
            "layout": "IPY_MODEL_1ceba260b7bd44a68e992c43ec4f673f"
          }
        },
        "a701acf283a24cca96f254c349b349eb": {
          "model_module": "@jupyter-widgets/base",
          "model_module_version": "1.2.0",
          "model_name": "LayoutModel",
          "state": {
            "_model_module": "@jupyter-widgets/base",
            "_model_module_version": "1.2.0",
            "_model_name": "LayoutModel",
            "_view_count": null,
            "_view_module": "@jupyter-widgets/base",
            "_view_module_version": "1.2.0",
            "_view_name": "LayoutView",
            "align_content": null,
            "align_items": null,
            "align_self": null,
            "border": null,
            "bottom": null,
            "display": null,
            "flex": null,
            "flex_flow": null,
            "grid_area": null,
            "grid_auto_columns": null,
            "grid_auto_flow": null,
            "grid_auto_rows": null,
            "grid_column": null,
            "grid_gap": null,
            "grid_row": null,
            "grid_template_areas": null,
            "grid_template_columns": null,
            "grid_template_rows": null,
            "height": null,
            "justify_content": null,
            "justify_items": null,
            "left": null,
            "margin": null,
            "max_height": null,
            "max_width": null,
            "min_height": null,
            "min_width": null,
            "object_fit": null,
            "object_position": null,
            "order": null,
            "overflow": null,
            "overflow_x": null,
            "overflow_y": null,
            "padding": null,
            "right": null,
            "top": null,
            "visibility": null,
            "width": null
          }
        },
        "a76a7ed4f86a4f0baf19ecaa35f8d3f8": {
          "model_module": "@jupyter-widgets/base",
          "model_module_version": "1.2.0",
          "model_name": "LayoutModel",
          "state": {
            "_model_module": "@jupyter-widgets/base",
            "_model_module_version": "1.2.0",
            "_model_name": "LayoutModel",
            "_view_count": null,
            "_view_module": "@jupyter-widgets/base",
            "_view_module_version": "1.2.0",
            "_view_name": "LayoutView",
            "align_content": null,
            "align_items": null,
            "align_self": null,
            "border": null,
            "bottom": null,
            "display": null,
            "flex": null,
            "flex_flow": null,
            "grid_area": null,
            "grid_auto_columns": null,
            "grid_auto_flow": null,
            "grid_auto_rows": null,
            "grid_column": null,
            "grid_gap": null,
            "grid_row": null,
            "grid_template_areas": null,
            "grid_template_columns": null,
            "grid_template_rows": null,
            "height": null,
            "justify_content": null,
            "justify_items": null,
            "left": null,
            "margin": null,
            "max_height": null,
            "max_width": null,
            "min_height": null,
            "min_width": null,
            "object_fit": null,
            "object_position": null,
            "order": null,
            "overflow": null,
            "overflow_x": null,
            "overflow_y": null,
            "padding": null,
            "right": null,
            "top": null,
            "visibility": null,
            "width": null
          }
        },
        "a76abed8b8c6472ea137c3cbb340be93": {
          "model_module": "@jupyter-widgets/controls",
          "model_module_version": "1.5.0",
          "model_name": "HTMLModel",
          "state": {
            "_dom_classes": [],
            "_model_module": "@jupyter-widgets/controls",
            "_model_module_version": "1.5.0",
            "_model_name": "HTMLModel",
            "_view_count": null,
            "_view_module": "@jupyter-widgets/controls",
            "_view_module_version": "1.5.0",
            "_view_name": "HTMLView",
            "description": "",
            "description_tooltip": null,
            "layout": "IPY_MODEL_10a5a14efc8145c686823b33ba869416",
            "placeholder": "​",
            "style": "IPY_MODEL_1318f73b4011400d89509304dfe883ff",
            "value": "model.safetensors: 100%"
          }
        },
        "af85fbce90e545a89fc17ac617268bf7": {
          "model_module": "@jupyter-widgets/controls",
          "model_module_version": "1.5.0",
          "model_name": "HTMLModel",
          "state": {
            "_dom_classes": [],
            "_model_module": "@jupyter-widgets/controls",
            "_model_module_version": "1.5.0",
            "_model_name": "HTMLModel",
            "_view_count": null,
            "_view_module": "@jupyter-widgets/controls",
            "_view_module_version": "1.5.0",
            "_view_name": "HTMLView",
            "description": "",
            "description_tooltip": null,
            "layout": "IPY_MODEL_1ec5eb54284f4d8f9a67538b75c0c3d6",
            "placeholder": "​",
            "style": "IPY_MODEL_09b82674ebed4404aa15cdb6f5a2ce4d",
            "value": "tokenizer_config.json: 100%"
          }
        },
        "b5e2b10af5644675aa9dc595eebfd19d": {
          "model_module": "@jupyter-widgets/controls",
          "model_module_version": "1.5.0",
          "model_name": "HTMLModel",
          "state": {
            "_dom_classes": [],
            "_model_module": "@jupyter-widgets/controls",
            "_model_module_version": "1.5.0",
            "_model_name": "HTMLModel",
            "_view_count": null,
            "_view_module": "@jupyter-widgets/controls",
            "_view_module_version": "1.5.0",
            "_view_name": "HTMLView",
            "description": "",
            "description_tooltip": null,
            "layout": "IPY_MODEL_07e4230f962a4f98b8ef6fe1c8bfe3cd",
            "placeholder": "​",
            "style": "IPY_MODEL_1391f44462864929ba2dae6db6bd0e5c",
            "value": " 570/570 [00:00&lt;00:00, 20.5kB/s]"
          }
        },
        "bbf9cff877a34d08803aa8cd106842e1": {
          "model_module": "@jupyter-widgets/controls",
          "model_module_version": "1.5.0",
          "model_name": "HTMLModel",
          "state": {
            "_dom_classes": [],
            "_model_module": "@jupyter-widgets/controls",
            "_model_module_version": "1.5.0",
            "_model_name": "HTMLModel",
            "_view_count": null,
            "_view_module": "@jupyter-widgets/controls",
            "_view_module_version": "1.5.0",
            "_view_name": "HTMLView",
            "description": "",
            "description_tooltip": null,
            "layout": "IPY_MODEL_a76a7ed4f86a4f0baf19ecaa35f8d3f8",
            "placeholder": "​",
            "style": "IPY_MODEL_0d09f07e6b8e4a8abb0b14b451ae0436",
            "value": "tokenizer.json: 100%"
          }
        },
        "cdf6331726934af380a000b3efd0cfde": {
          "model_module": "@jupyter-widgets/controls",
          "model_module_version": "1.5.0",
          "model_name": "HTMLModel",
          "state": {
            "_dom_classes": [],
            "_model_module": "@jupyter-widgets/controls",
            "_model_module_version": "1.5.0",
            "_model_name": "HTMLModel",
            "_view_count": null,
            "_view_module": "@jupyter-widgets/controls",
            "_view_module_version": "1.5.0",
            "_view_name": "HTMLView",
            "description": "",
            "description_tooltip": null,
            "layout": "IPY_MODEL_2d08dda72fc8418580854fcae24bcb59",
            "placeholder": "​",
            "style": "IPY_MODEL_9479066def5541c08804c1027e76fb75",
            "value": "vocab.txt: 100%"
          }
        },
        "d1c2a00def014d6ea3ea5ee910e54a46": {
          "model_module": "@jupyter-widgets/base",
          "model_module_version": "1.2.0",
          "model_name": "LayoutModel",
          "state": {
            "_model_module": "@jupyter-widgets/base",
            "_model_module_version": "1.2.0",
            "_model_name": "LayoutModel",
            "_view_count": null,
            "_view_module": "@jupyter-widgets/base",
            "_view_module_version": "1.2.0",
            "_view_name": "LayoutView",
            "align_content": null,
            "align_items": null,
            "align_self": null,
            "border": null,
            "bottom": null,
            "display": null,
            "flex": null,
            "flex_flow": null,
            "grid_area": null,
            "grid_auto_columns": null,
            "grid_auto_flow": null,
            "grid_auto_rows": null,
            "grid_column": null,
            "grid_gap": null,
            "grid_row": null,
            "grid_template_areas": null,
            "grid_template_columns": null,
            "grid_template_rows": null,
            "height": null,
            "justify_content": null,
            "justify_items": null,
            "left": null,
            "margin": null,
            "max_height": null,
            "max_width": null,
            "min_height": null,
            "min_width": null,
            "object_fit": null,
            "object_position": null,
            "order": null,
            "overflow": null,
            "overflow_x": null,
            "overflow_y": null,
            "padding": null,
            "right": null,
            "top": null,
            "visibility": null,
            "width": null
          }
        },
        "db04dc46c0d84ba48b0d8c078c74801c": {
          "model_module": "@jupyter-widgets/base",
          "model_module_version": "1.2.0",
          "model_name": "LayoutModel",
          "state": {
            "_model_module": "@jupyter-widgets/base",
            "_model_module_version": "1.2.0",
            "_model_name": "LayoutModel",
            "_view_count": null,
            "_view_module": "@jupyter-widgets/base",
            "_view_module_version": "1.2.0",
            "_view_name": "LayoutView",
            "align_content": null,
            "align_items": null,
            "align_self": null,
            "border": null,
            "bottom": null,
            "display": null,
            "flex": null,
            "flex_flow": null,
            "grid_area": null,
            "grid_auto_columns": null,
            "grid_auto_flow": null,
            "grid_auto_rows": null,
            "grid_column": null,
            "grid_gap": null,
            "grid_row": null,
            "grid_template_areas": null,
            "grid_template_columns": null,
            "grid_template_rows": null,
            "height": null,
            "justify_content": null,
            "justify_items": null,
            "left": null,
            "margin": null,
            "max_height": null,
            "max_width": null,
            "min_height": null,
            "min_width": null,
            "object_fit": null,
            "object_position": null,
            "order": null,
            "overflow": null,
            "overflow_x": null,
            "overflow_y": null,
            "padding": null,
            "right": null,
            "top": null,
            "visibility": null,
            "width": null
          }
        },
        "e253398cc7884cdba89f47250db1d220": {
          "model_module": "@jupyter-widgets/base",
          "model_module_version": "1.2.0",
          "model_name": "LayoutModel",
          "state": {
            "_model_module": "@jupyter-widgets/base",
            "_model_module_version": "1.2.0",
            "_model_name": "LayoutModel",
            "_view_count": null,
            "_view_module": "@jupyter-widgets/base",
            "_view_module_version": "1.2.0",
            "_view_name": "LayoutView",
            "align_content": null,
            "align_items": null,
            "align_self": null,
            "border": null,
            "bottom": null,
            "display": null,
            "flex": null,
            "flex_flow": null,
            "grid_area": null,
            "grid_auto_columns": null,
            "grid_auto_flow": null,
            "grid_auto_rows": null,
            "grid_column": null,
            "grid_gap": null,
            "grid_row": null,
            "grid_template_areas": null,
            "grid_template_columns": null,
            "grid_template_rows": null,
            "height": null,
            "justify_content": null,
            "justify_items": null,
            "left": null,
            "margin": null,
            "max_height": null,
            "max_width": null,
            "min_height": null,
            "min_width": null,
            "object_fit": null,
            "object_position": null,
            "order": null,
            "overflow": null,
            "overflow_x": null,
            "overflow_y": null,
            "padding": null,
            "right": null,
            "top": null,
            "visibility": null,
            "width": null
          }
        },
        "e641d979602f4159b8817c0f80c5e428": {
          "model_module": "@jupyter-widgets/controls",
          "model_module_version": "1.5.0",
          "model_name": "FloatProgressModel",
          "state": {
            "_dom_classes": [],
            "_model_module": "@jupyter-widgets/controls",
            "_model_module_version": "1.5.0",
            "_model_name": "FloatProgressModel",
            "_view_count": null,
            "_view_module": "@jupyter-widgets/controls",
            "_view_module_version": "1.5.0",
            "_view_name": "ProgressView",
            "bar_style": "success",
            "description": "",
            "description_tooltip": null,
            "layout": "IPY_MODEL_f25453a0022d4d85b0c73cb39ebb3ede",
            "max": 231508,
            "min": 0,
            "orientation": "horizontal",
            "style": "IPY_MODEL_7979a2c2e99f49ddb40a99d6d3bfbf7d",
            "value": 231508
          }
        },
        "ebb0fa41fd604ba59965ff365ba02fbf": {
          "model_module": "@jupyter-widgets/controls",
          "model_module_version": "1.5.0",
          "model_name": "DescriptionStyleModel",
          "state": {
            "_model_module": "@jupyter-widgets/controls",
            "_model_module_version": "1.5.0",
            "_model_name": "DescriptionStyleModel",
            "_view_count": null,
            "_view_module": "@jupyter-widgets/base",
            "_view_module_version": "1.2.0",
            "_view_name": "StyleView",
            "description_width": ""
          }
        },
        "ee1d073796d142059f3c428b68f3a72e": {
          "model_module": "@jupyter-widgets/controls",
          "model_module_version": "1.5.0",
          "model_name": "HBoxModel",
          "state": {
            "_dom_classes": [],
            "_model_module": "@jupyter-widgets/controls",
            "_model_module_version": "1.5.0",
            "_model_name": "HBoxModel",
            "_view_count": null,
            "_view_module": "@jupyter-widgets/controls",
            "_view_module_version": "1.5.0",
            "_view_name": "HBoxView",
            "box_style": "",
            "children": [
              "IPY_MODEL_cdf6331726934af380a000b3efd0cfde",
              "IPY_MODEL_e641d979602f4159b8817c0f80c5e428",
              "IPY_MODEL_4127b1bf636d4a379ce7d21edd71e0ce"
            ],
            "layout": "IPY_MODEL_3c834f94b54244c1924d9a5c23008339"
          }
        },
        "f25453a0022d4d85b0c73cb39ebb3ede": {
          "model_module": "@jupyter-widgets/base",
          "model_module_version": "1.2.0",
          "model_name": "LayoutModel",
          "state": {
            "_model_module": "@jupyter-widgets/base",
            "_model_module_version": "1.2.0",
            "_model_name": "LayoutModel",
            "_view_count": null,
            "_view_module": "@jupyter-widgets/base",
            "_view_module_version": "1.2.0",
            "_view_name": "LayoutView",
            "align_content": null,
            "align_items": null,
            "align_self": null,
            "border": null,
            "bottom": null,
            "display": null,
            "flex": null,
            "flex_flow": null,
            "grid_area": null,
            "grid_auto_columns": null,
            "grid_auto_flow": null,
            "grid_auto_rows": null,
            "grid_column": null,
            "grid_gap": null,
            "grid_row": null,
            "grid_template_areas": null,
            "grid_template_columns": null,
            "grid_template_rows": null,
            "height": null,
            "justify_content": null,
            "justify_items": null,
            "left": null,
            "margin": null,
            "max_height": null,
            "max_width": null,
            "min_height": null,
            "min_width": null,
            "object_fit": null,
            "object_position": null,
            "order": null,
            "overflow": null,
            "overflow_x": null,
            "overflow_y": null,
            "padding": null,
            "right": null,
            "top": null,
            "visibility": null,
            "width": null
          }
        }
      }
    }
  },
  "nbformat": 4,
  "nbformat_minor": 0
}
