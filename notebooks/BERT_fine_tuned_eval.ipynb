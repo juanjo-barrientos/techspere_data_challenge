{
  "cells": [
    {
      "cell_type": "markdown",
      "metadata": {},
      "source": [
        "<h1>Evaluacion del Modelo BERT + FINE TUNNING</h1>\n",
        "\n",
        "En el notebook <i>BERT_fine_tining.ipynb</i> realizamos el ajuste de este modelo para que resolviera el problema de clasificacion multiclase del reto que tenemos, ahora debemos evaluarlo."
      ]
    },
    {
      "cell_type": "code",
      "execution_count": null,
      "metadata": {
        "colab": {
          "base_uri": "https://localhost:8080/"
        },
        "id": "8mnu2tkDQuiP",
        "outputId": "41a7dc98-bbd5-4328-e477-e6d869f026f8"
      },
      "outputs": [
        {
          "name": "stdout",
          "output_type": "stream",
          "text": [
            "Mounted at /content/drive\n"
          ]
        }
      ],
      "source": [
        "## Descomentar si esta trabajando en Google Colab\n",
        "#from google.colab import drive\n",
        "#drive.mount('/content/drive')"
      ]
    },
    {
      "cell_type": "code",
      "execution_count": null,
      "metadata": {
        "colab": {
          "base_uri": "https://localhost:8080/",
          "height": 247,
          "referenced_widgets": [
            "a7aa4ceb6b5e469cae932b057f345428",
            "759c7f34b26d4c7c88a882e0a766260d",
            "a469598b374a4e198106d89a6478e044",
            "7d2490ba0ef24ce68d9744f0c684cc0a",
            "86452380fb74475eb8054e4e08676bbd",
            "bb1e8c6079a9436cbcc5e099d070349f",
            "6e17849d1d5f422b83e496333b11a4d5",
            "68b5e456e7a04156a059a6d2d2db910f",
            "039dcbcd9418432cb260682295581d79",
            "fbabbeb4291e4a4e9f59e99e30c1630e",
            "47af9fd854614b78880372de651988b4",
            "5cd3a7e4db9949188405d870b0c335bd",
            "66ea1bf2499a4128bd3c3924c8273626",
            "ccc2af2a019f42409cf48a763a713732",
            "2ed4c28676a7429488b656858d3a2369",
            "444d2fc9e77c4dddac9e1f21e5ebb7c5",
            "ed4c7b86e9a347fa9bad5a2bd47a38c1",
            "d2f69e2e25ca437d88b51df041fb07d9",
            "6a26638b9b3645a3b0574cd08a59c515",
            "1adc86ad9c7a4b0d9833dbbcaacfbfd4",
            "973c9576e6954f81bb41ea2113ec4d51",
            "c89dd698b5ca4fc4a304f291aa6509fd"
          ]
        },
        "id": "iltPUUPCPwWk",
        "outputId": "5dbc8ac0-573b-4d5a-f8b3-b5ca461bcd28"
      },
      "outputs": [
        {
          "name": "stdout",
          "output_type": "stream",
          "text": [
            "Device: cpu\n"
          ]
        },
        {
          "name": "stderr",
          "output_type": "stream",
          "text": [
            "/usr/local/lib/python3.12/dist-packages/huggingface_hub/utils/_auth.py:94: UserWarning: \n",
            "The secret `HF_TOKEN` does not exist in your Colab secrets.\n",
            "To authenticate with the Hugging Face Hub, create a token in your settings tab (https://huggingface.co/settings/tokens), set it as secret in your Google Colab and restart your session.\n",
            "You will be able to reuse this secret in all of your notebooks.\n",
            "Please note that authentication is recommended but still optional to access public models or datasets.\n",
            "  warnings.warn(\n"
          ]
        },
        {
          "data": {
            "application/vnd.jupyter.widget-view+json": {
              "model_id": "a7aa4ceb6b5e469cae932b057f345428",
              "version_major": 2,
              "version_minor": 0
            },
            "text/plain": [
              "config.json:   0%|          | 0.00/570 [00:00<?, ?B/s]"
            ]
          },
          "metadata": {},
          "output_type": "display_data"
        },
        {
          "data": {
            "application/vnd.jupyter.widget-view+json": {
              "model_id": "5cd3a7e4db9949188405d870b0c335bd",
              "version_major": 2,
              "version_minor": 0
            },
            "text/plain": [
              "model.safetensors:   0%|          | 0.00/440M [00:00<?, ?B/s]"
            ]
          },
          "metadata": {},
          "output_type": "display_data"
        },
        {
          "name": "stdout",
          "output_type": "stream",
          "text": [
            "Modelo y tokenizer cargados correctamente.\n"
          ]
        }
      ],
      "source": [
        "import torch\n",
        "from transformers import AutoTokenizer, BertModel\n",
        "import numpy as np\n",
        "import torch.nn as nn\n",
        "\n",
        "# Definimos aquí la misma clase que usaste en entrenamiento \n",
        "\n",
        "class BertForMultiLabel(nn.Module):\n",
        "    def __init__(self, model_name: str, num_labels: int, dropout_prob: float = 0.1):\n",
        "        super().__init__()\n",
        "        self.bert = BertModel.from_pretrained(model_name)\n",
        "        hidden_size = self.bert.config.hidden_size\n",
        "        self.dropout = nn.Dropout(dropout_prob)\n",
        "        self.classifier = nn.Linear(hidden_size, num_labels)\n",
        "\n",
        "    def forward(self, input_ids=None, attention_mask=None, token_type_ids=None):\n",
        "        outputs = self.bert(input_ids=input_ids,\n",
        "                            attention_mask=attention_mask,\n",
        "                            token_type_ids=token_type_ids,\n",
        "                            return_dict=True)\n",
        "        pooled = outputs.pooler_output\n",
        "        x = self.dropout(pooled)\n",
        "        logits = self.classifier(x)\n",
        "        return logits\n",
        "\n",
        "# Ruta del modelo\n",
        "output_dir = \"/content/drive/MyDrive/techespere/bert_multilabel_model\"\n",
        "#output_dir = \"models/bert_multilabel_model\" ## Descomentar si se trabaja en local\n",
        "state_path = f\"{output_dir}/model_state.pth\"\n",
        "\n",
        "# Device (usar GPU si está disponible)\n",
        "device = torch.device(\"cuda\" if torch.cuda.is_available() else \"cpu\")\n",
        "print(\"Device:\", device)\n",
        "\n",
        "# Carga del tokenizer\n",
        "tokenizer = AutoTokenizer.from_pretrained(output_dir)\n",
        "\n",
        "# Carga del checkpoint\n",
        "ckpt = torch.load(state_path, map_location=device)  # map_location maneja CPU/GPU automáticamente\n",
        "config = ckpt.get(\"config\", {})\n",
        "model_name = config.get(\"model_name\", \"bert-base-uncased\")\n",
        "num_labels = config.get(\"num_labels\", 4)\n",
        "\n",
        "# Instanciar modelo y cargar pesos\n",
        "model = BertForMultiLabel(model_name=model_name, num_labels=num_labels)\n",
        "model.load_state_dict(ckpt[\"model_state_dict\"])\n",
        "model.to(device)\n",
        "model.eval()\n",
        "\n",
        "print(\"Modelo y tokenizer cargados correctamente.\")"
      ]
    },
    {
      "cell_type": "markdown",
      "metadata": {},
      "source": [
        "Nuevamente cargamos el dataset, en este caso creamos una funcion que se encargara de hacer la prediccion de los textos, de este modo la evaluacion se puede hacer mas efectiva."
      ]
    },
    {
      "cell_type": "code",
      "execution_count": 14,
      "metadata": {
        "colab": {
          "base_uri": "https://localhost:8080/"
        },
        "id": "G1TjqejKR7uZ",
        "outputId": "fd6b41af-62f7-45c9-ec2c-651b9744182b"
      },
      "outputs": [
        {
          "name": "stdout",
          "output_type": "stream",
          "text": [
            "Probabilidades:\n",
            " [[0.18593067 0.8039122  0.31287816 0.06447028]\n",
            " [0.30795282 0.6924851  0.27417547 0.09687209]]\n",
            "Predicciones (binary):\n",
            " [[0 1 0 0]\n",
            " [0 1 0 0]]\n"
          ]
        }
      ],
      "source": [
        "from torch.utils.data import DataLoader\n",
        "\n",
        "def predict_texts(model, tokenizer, texts, device, max_length=128, threshold=0.5):\n",
        "    model.eval()\n",
        "    enc = tokenizer(texts, padding=True, truncation=True, max_length=max_length, return_tensors=\"pt\")\n",
        "    input_ids = enc[\"input_ids\"].to(device)\n",
        "    attention_mask = enc[\"attention_mask\"].to(device)\n",
        "    token_type_ids = enc.get(\"token_type_ids\")\n",
        "    if token_type_ids is not None:\n",
        "        token_type_ids = token_type_ids.to(device)\n",
        "\n",
        "    with torch.no_grad():\n",
        "        logits = model(input_ids=input_ids, attention_mask=attention_mask, token_type_ids=token_type_ids)\n",
        "        probs = torch.sigmoid(logits).cpu().numpy()   # shape (n_texts, num_labels)\n",
        "        preds = (probs >= threshold).astype(int)\n",
        "    return probs, preds\n",
        "\n",
        "# Ejemplo de uso:\n",
        "texts = [\"This is a test sentence.\", \"Another sample text to classify.\"]\n",
        "probs, preds = predict_texts(model, tokenizer, texts, device, max_length=128, threshold=0.5)\n",
        "print(\"Probabilidades:\\n\", probs)\n",
        "print(\"Predicciones (binary):\\n\", preds)"
      ]
    },
    {
      "cell_type": "code",
      "execution_count": null,
      "metadata": {
        "colab": {
          "base_uri": "https://localhost:8080/"
        },
        "id": "SLSfRxdzSNWx",
        "outputId": "f14ffa63-42b7-4a5f-a175-5a933fd7b361"
      },
      "outputs": [
        {
          "name": "stdout",
          "output_type": "stream",
          "text": [
            "Orden de columnas: ['cardiovascular' 'neurological' 'hepatorenal' 'oncological']\n"
          ]
        }
      ],
      "source": [
        "import pandas as pd\n",
        "from sklearn.preprocessing import MultiLabelBinarizer\n",
        "\n",
        "df = pd.read_csv(\"/content/drive/MyDrive/techespere/dataset.csv\", sep=\";\")\n",
        "#df = pd.read_csv(\"../data/dataset.csv\", sep=\";\") ## Descomentar si se trabaja en local\n",
        "df[\"text\"] = (df[\"title\"].fillna(\"\") + \" \" + df[\"abstract\"].fillna(\"\")).str.strip()\n",
        "\n",
        "X = df[\"text\"].values\n",
        "y = df[\"group\"].values\n",
        "\n",
        "# Define el orden fijo de las clases (columnas):\n",
        "CLASSES = ['cardiovascular', 'neurological', 'hepatorenal', 'oncological']\n",
        "\n",
        "# Parseo simple: split por '|'\n",
        "y_lists = [s.split('|') if isinstance(s, str) and s else [] for s in y]\n",
        "\n",
        "mlb = MultiLabelBinarizer(classes=CLASSES)\n",
        "y = mlb.fit_transform(y_lists)  # shape: (n_samples, 4)\n",
        "\n",
        "# Opcional: verificar orden\n",
        "print(\"Orden de columnas:\", mlb.classes_)  # ['cardiovascular','neurological','hepatorenal','oncological']"
      ]
    },
    {
      "cell_type": "code",
      "execution_count": 8,
      "metadata": {
        "colab": {
          "base_uri": "https://localhost:8080/"
        },
        "id": "0X4fWxrySuVa",
        "outputId": "00a1c38e-2f4d-474e-9c06-4046506a962c"
      },
      "outputs": [
        {
          "data": {
            "text/plain": [
              "((3565,), (3565, 4))"
            ]
          },
          "execution_count": 8,
          "metadata": {},
          "output_type": "execute_result"
        }
      ],
      "source": [
        "X.shape, y.shape"
      ]
    },
    {
      "cell_type": "markdown",
      "metadata": {},
      "source": [
        "En este caso, solamente usaremos el 10% del dataset destinado a test para as pruebas del mismo."
      ]
    },
    {
      "cell_type": "code",
      "execution_count": null,
      "metadata": {
        "id": "tt9GAJuCS8OH"
      },
      "outputs": [],
      "source": [
        "from sklearn.model_selection import train_test_split\n",
        "\n",
        "# División en 90% train y 10% test\n",
        "X_train, X_test, y_train, y_test = train_test_split(\n",
        "    X, y,\n",
        "    test_size=0.1,        # 10% para test\n",
        "    random_state=42,      # semilla reproducible\n",
        "    stratify=y           # asegura misma proporción de clases en train y test\n",
        ")"
      ]
    },
    {
      "cell_type": "code",
      "execution_count": null,
      "metadata": {
        "colab": {
          "base_uri": "https://localhost:8080/"
        },
        "id": "Qutwd3GyTEgD",
        "outputId": "ffadba1f-d0bc-49f3-ff58-7503135831b0"
      },
      "outputs": [
        {
          "name": "stdout",
          "output_type": "stream",
          "text": [
            "F1-macro: 0.8881917372046468\n",
            "F1-micro: 0.9187675070028011\n",
            "F1-weighted: 0.919928619180211\n"
          ]
        }
      ],
      "source": [
        "from sklearn.metrics import f1_score\n",
        "\n",
        "# 1. Predecir sobre el conjunto de prueba\n",
        "y_preds = predict_texts(model, tokenizer, X_test.tolist(), device, max_length=128, threshold=0.5)[1]\n",
        "\n",
        "# 2. Pasar de probabilidades a clases\n",
        "y_pred = np.argmax(y_preds, axis=1)\n",
        "y_true = np.argmax(y_test, axis=1)\n",
        "\n",
        "# 3. Calcular F1-score\n",
        "f1_macro = f1_score(y_true, y_pred, average=\"macro\")   # Promedio por clase\n",
        "f1_micro = f1_score(y_true, y_pred, average=\"micro\")   # Promedio global\n",
        "f1_weighted = f1_score(y_true, y_pred, average=\"weighted\") # Balanceado por soporte\n",
        "\n",
        "print(\"F1-macro:\", f1_macro)\n",
        "print(\"F1-micro:\", f1_micro)\n",
        "print(\"F1-weighted:\", f1_weighted)"
      ]
    },
    {
      "cell_type": "markdown",
      "metadata": {},
      "source": [
        "El F1 - Scrore Weigthed en esta preba dió un valor del 91%, una calificacion excelente para el modelo."
      ]
    },
    {
      "cell_type": "code",
      "execution_count": 16,
      "metadata": {
        "id": "k4302AmQV1az"
      },
      "outputs": [],
      "source": [
        "from sklearn.metrics import f1_score, classification_report, multilabel_confusion_matrix"
      ]
    },
    {
      "cell_type": "markdown",
      "metadata": {},
      "source": [
        "Evaluamos las matrices de confusion POR CLASE, de esta manera podemos garantizar que las predicciones por clase estan bien realizadas, sin fijarnos en las demás clases debido a que es un problema Multiclase."
      ]
    },
    {
      "cell_type": "code",
      "execution_count": 18,
      "metadata": {
        "colab": {
          "base_uri": "https://localhost:8080/",
          "height": 1000
        },
        "id": "Ps_7AZ60V1Rd",
        "outputId": "9d8e5371-0bfa-46c4-af14-0fd49bcf7382"
      },
      "outputs": [
        {
          "data": {
            "image/png": "[encoded data removed]",
            "text/plain": [
              "<Figure size 400x300 with 2 Axes>"
            ]
          },
          "metadata": {},
          "output_type": "display_data"
        },
        {
          "data": {
            "image/png": "[encoded data removed]",
            "text/plain": [
              "<Figure size 400x300 with 2 Axes>"
            ]
          },
          "metadata": {},
          "output_type": "display_data"
        },
        {
          "data": {
            "image/png": "[encoded data removed]",
            "text/plain": [
              "<Figure size 400x300 with 2 Axes>"
            ]
          },
          "metadata": {},
          "output_type": "display_data"
        },
        {
          "data": {
            "image/png": "[encoded data removed]",
            "text/plain": [
              "<Figure size 400x300 with 2 Axes>"
            ]
          },
          "metadata": {},
          "output_type": "display_data"
        }
      ],
      "source": [
        "import matplotlib.pyplot as plt\n",
        "import seaborn as sns\n",
        "\n",
        "mcm = multilabel_confusion_matrix(y_true, y_pred)\n",
        "all_labels = ['cardiovascular', 'neurological' ,'hepatorenal' ,'oncological']\n",
        "\n",
        "for i, label in enumerate(all_labels):\n",
        "    cm = mcm[i]\n",
        "    plt.figure(figsize=(4, 3))\n",
        "    sns.heatmap(cm, annot=True, fmt=\"d\", cmap=\"Blues\", xticklabels=[\"No\", \"Yes\"], yticklabels=[\"No\", \"Yes\"])\n",
        "    plt.title(f\"Confusion Matrix for {label}\")\n",
        "    plt.ylabel(\"True\")\n",
        "    plt.xlabel(\"Predicted\")\n",
        "    plt.show()"
      ]
    },
    {
      "cell_type": "markdown",
      "metadata": {},
      "source": [
        "Las matrices de confusion muestran un rendimiento excelente en este caso, pues si vemos los falsos positivos o los falsos negativos, son un porcentaje muy pequeño del total de predicciones por cada clase."
      ]
    },
    {
      "cell_type": "code",
      "execution_count": 25,
      "metadata": {
        "colab": {
          "base_uri": "https://localhost:8080/"
        },
        "id": "RB8LIrafXg8Z",
        "outputId": "56f76621-2490-4b65-9bdd-4d1c8ed295fb"
      },
      "outputs": [
        {
          "name": "stdout",
          "output_type": "stream",
          "text": [
            "Subset accuracy (exact match): 0.8263 (82.63%)\n"
          ]
        }
      ],
      "source": [
        "# Accuracy exacta (exact match / subset accuracy): proporción de muestras donde todas las etiquetas coinciden\n",
        "subset_accuracy = np.mean(np.all(y_preds == y_test, axis=1))\n",
        "\n",
        "print(f\"Subset accuracy (exact match): {subset_accuracy:.4f} ({subset_accuracy*100:.2f}%)\")"
      ]
    },
    {
      "cell_type": "markdown",
      "metadata": {},
      "source": [
        "Con un accuracy del 82,63% podemos concluir que este es un modelo ideal para ser desplegado en el pipeline a produccion"
      ]
    },
    {
      "cell_type": "code",
      "execution_count": 30,
      "metadata": {
        "colab": {
          "base_uri": "https://localhost:8080/"
        },
        "id": "zgfIZ9iqZlVo",
        "outputId": "1a646eca-1ca5-40d5-bc9e-d23ed4b14325"
      },
      "outputs": [
        {
          "data": {
            "text/plain": [
              "(array([1, 0, 1, 0]), array([1, 0, 1, 0]))"
            ]
          },
          "execution_count": 30,
          "metadata": {},
          "output_type": "execute_result"
        }
      ],
      "source": [
        "y_preds[39], y_test[39]"
      ]
    }
  ],
  "metadata": {
    "accelerator": "GPU",
    "colab": {
      "gpuType": "T4",
      "provenance": []
    },
    "kernelspec": {
      "display_name": "Python 3",
      "name": "python3"
    },
    "language_info": {
      "name": "python"
    },
    "widgets": {
      "application/vnd.jupyter.widget-state+json": {
        "039dcbcd9418432cb260682295581d79": {
          "model_module": "@jupyter-widgets/controls",
          "model_module_version": "1.5.0",
          "model_name": "ProgressStyleModel",
          "state": {
            "_model_module": "@jupyter-widgets/controls",
            "_model_module_version": "1.5.0",
            "_model_name": "ProgressStyleModel",
            "_view_count": null,
            "_view_module": "@jupyter-widgets/base",
            "_view_module_version": "1.2.0",
            "_view_name": "StyleView",
            "bar_color": null,
            "description_width": ""
          }
        },
        "1adc86ad9c7a4b0d9833dbbcaacfbfd4": {
          "model_module": "@jupyter-widgets/controls",
          "model_module_version": "1.5.0",
          "model_name": "ProgressStyleModel",
          "state": {
            "_model_module": "@jupyter-widgets/controls",
            "_model_module_version": "1.5.0",
            "_model_name": "ProgressStyleModel",
            "_view_count": null,
            "_view_module": "@jupyter-widgets/base",
            "_view_module_version": "1.2.0",
            "_view_name": "StyleView",
            "bar_color": null,
            "description_width": ""
          }
        },
        "2ed4c28676a7429488b656858d3a2369": {
          "model_module": "@jupyter-widgets/controls",
          "model_module_version": "1.5.0",
          "model_name": "HTMLModel",
          "state": {
            "_dom_classes": [],
            "_model_module": "@jupyter-widgets/controls",
            "_model_module_version": "1.5.0",
            "_model_name": "HTMLModel",
            "_view_count": null,
            "_view_module": "@jupyter-widgets/controls",
            "_view_module_version": "1.5.0",
            "_view_name": "HTMLView",
            "description": "",
            "description_tooltip": null,
            "layout": "IPY_MODEL_973c9576e6954f81bb41ea2113ec4d51",
            "placeholder": "​",
            "style": "IPY_MODEL_c89dd698b5ca4fc4a304f291aa6509fd",
            "value": " 440M/440M [00:08&lt;00:00, 70.5MB/s]"
          }
        },
        "444d2fc9e77c4dddac9e1f21e5ebb7c5": {
          "model_module": "@jupyter-widgets/base",
          "model_module_version": "1.2.0",
          "model_name": "LayoutModel",
          "state": {
            "_model_module": "@jupyter-widgets/base",
            "_model_module_version": "1.2.0",
            "_model_name": "LayoutModel",
            "_view_count": null,
            "_view_module": "@jupyter-widgets/base",
            "_view_module_version": "1.2.0",
            "_view_name": "LayoutView",
            "align_content": null,
            "align_items": null,
            "align_self": null,
            "border": null,
            "bottom": null,
            "display": null,
            "flex": null,
            "flex_flow": null,
            "grid_area": null,
            "grid_auto_columns": null,
            "grid_auto_flow": null,
            "grid_auto_rows": null,
            "grid_column": null,
            "grid_gap": null,
            "grid_row": null,
            "grid_template_areas": null,
            "grid_template_columns": null,
            "grid_template_rows": null,
            "height": null,
            "justify_content": null,
            "justify_items": null,
            "left": null,
            "margin": null,
            "max_height": null,
            "max_width": null,
            "min_height": null,
            "min_width": null,
            "object_fit": null,
            "object_position": null,
            "order": null,
            "overflow": null,
            "overflow_x": null,
            "overflow_y": null,
            "padding": null,
            "right": null,
            "top": null,
            "visibility": null,
            "width": null
          }
        },
        "47af9fd854614b78880372de651988b4": {
          "model_module": "@jupyter-widgets/controls",
          "model_module_version": "1.5.0",
          "model_name": "DescriptionStyleModel",
          "state": {
            "_model_module": "@jupyter-widgets/controls",
            "_model_module_version": "1.5.0",
            "_model_name": "DescriptionStyleModel",
            "_view_count": null,
            "_view_module": "@jupyter-widgets/base",
            "_view_module_version": "1.2.0",
            "_view_name": "StyleView",
            "description_width": ""
          }
        },
        "5cd3a7e4db9949188405d870b0c335bd": {
          "model_module": "@jupyter-widgets/controls",
          "model_module_version": "1.5.0",
          "model_name": "HBoxModel",
          "state": {
            "_dom_classes": [],
            "_model_module": "@jupyter-widgets/controls",
            "_model_module_version": "1.5.0",
            "_model_name": "HBoxModel",
            "_view_count": null,
            "_view_module": "@jupyter-widgets/controls",
            "_view_module_version": "1.5.0",
            "_view_name": "HBoxView",
            "box_style": "",
            "children": [
              "IPY_MODEL_66ea1bf2499a4128bd3c3924c8273626",
              "IPY_MODEL_ccc2af2a019f42409cf48a763a713732",
              "IPY_MODEL_2ed4c28676a7429488b656858d3a2369"
            ],
            "layout": "IPY_MODEL_444d2fc9e77c4dddac9e1f21e5ebb7c5"
          }
        },
        "66ea1bf2499a4128bd3c3924c8273626": {
          "model_module": "@jupyter-widgets/controls",
          "model_module_version": "1.5.0",
          "model_name": "HTMLModel",
          "state": {
            "_dom_classes": [],
            "_model_module": "@jupyter-widgets/controls",
            "_model_module_version": "1.5.0",
            "_model_name": "HTMLModel",
            "_view_count": null,
            "_view_module": "@jupyter-widgets/controls",
            "_view_module_version": "1.5.0",
            "_view_name": "HTMLView",
            "description": "",
            "description_tooltip": null,
            "layout": "IPY_MODEL_ed4c7b86e9a347fa9bad5a2bd47a38c1",
            "placeholder": "​",
            "style": "IPY_MODEL_d2f69e2e25ca437d88b51df041fb07d9",
            "value": "model.safetensors: 100%"
          }
        },
        "68b5e456e7a04156a059a6d2d2db910f": {
          "model_module": "@jupyter-widgets/base",
          "model_module_version": "1.2.0",
          "model_name": "LayoutModel",
          "state": {
            "_model_module": "@jupyter-widgets/base",
            "_model_module_version": "1.2.0",
            "_model_name": "LayoutModel",
            "_view_count": null,
            "_view_module": "@jupyter-widgets/base",
            "_view_module_version": "1.2.0",
            "_view_name": "LayoutView",
            "align_content": null,
            "align_items": null,
            "align_self": null,
            "border": null,
            "bottom": null,
            "display": null,
            "flex": null,
            "flex_flow": null,
            "grid_area": null,
            "grid_auto_columns": null,
            "grid_auto_flow": null,
            "grid_auto_rows": null,
            "grid_column": null,
            "grid_gap": null,
            "grid_row": null,
            "grid_template_areas": null,
            "grid_template_columns": null,
            "grid_template_rows": null,
            "height": null,
            "justify_content": null,
            "justify_items": null,
            "left": null,
            "margin": null,
            "max_height": null,
            "max_width": null,
            "min_height": null,
            "min_width": null,
            "object_fit": null,
            "object_position": null,
            "order": null,
            "overflow": null,
            "overflow_x": null,
            "overflow_y": null,
            "padding": null,
            "right": null,
            "top": null,
            "visibility": null,
            "width": null
          }
        },
        "6a26638b9b3645a3b0574cd08a59c515": {
          "model_module": "@jupyter-widgets/base",
          "model_module_version": "1.2.0",
          "model_name": "LayoutModel",
          "state": {
            "_model_module": "@jupyter-widgets/base",
            "_model_module_version": "1.2.0",
            "_model_name": "LayoutModel",
            "_view_count": null,
            "_view_module": "@jupyter-widgets/base",
            "_view_module_version": "1.2.0",
            "_view_name": "LayoutView",
            "align_content": null,
            "align_items": null,
            "align_self": null,
            "border": null,
            "bottom": null,
            "display": null,
            "flex": null,
            "flex_flow": null,
            "grid_area": null,
            "grid_auto_columns": null,
            "grid_auto_flow": null,
            "grid_auto_rows": null,
            "grid_column": null,
            "grid_gap": null,
            "grid_row": null,
            "grid_template_areas": null,
            "grid_template_columns": null,
            "grid_template_rows": null,
            "height": null,
            "justify_content": null,
            "justify_items": null,
            "left": null,
            "margin": null,
            "max_height": null,
            "max_width": null,
            "min_height": null,
            "min_width": null,
            "object_fit": null,
            "object_position": null,
            "order": null,
            "overflow": null,
            "overflow_x": null,
            "overflow_y": null,
            "padding": null,
            "right": null,
            "top": null,
            "visibility": null,
            "width": null
          }
        },
        "6e17849d1d5f422b83e496333b11a4d5": {
          "model_module": "@jupyter-widgets/controls",
          "model_module_version": "1.5.0",
          "model_name": "DescriptionStyleModel",
          "state": {
            "_model_module": "@jupyter-widgets/controls",
            "_model_module_version": "1.5.0",
            "_model_name": "DescriptionStyleModel",
            "_view_count": null,
            "_view_module": "@jupyter-widgets/base",
            "_view_module_version": "1.2.0",
            "_view_name": "StyleView",
            "description_width": ""
          }
        },
        "759c7f34b26d4c7c88a882e0a766260d": {
          "model_module": "@jupyter-widgets/controls",
          "model_module_version": "1.5.0",
          "model_name": "HTMLModel",
          "state": {
            "_dom_classes": [],
            "_model_module": "@jupyter-widgets/controls",
            "_model_module_version": "1.5.0",
            "_model_name": "HTMLModel",
            "_view_count": null,
            "_view_module": "@jupyter-widgets/controls",
            "_view_module_version": "1.5.0",
            "_view_name": "HTMLView",
            "description": "",
            "description_tooltip": null,
            "layout": "IPY_MODEL_bb1e8c6079a9436cbcc5e099d070349f",
            "placeholder": "​",
            "style": "IPY_MODEL_6e17849d1d5f422b83e496333b11a4d5",
            "value": "config.json: 100%"
          }
        },
        "7d2490ba0ef24ce68d9744f0c684cc0a": {
          "model_module": "@jupyter-widgets/controls",
          "model_module_version": "1.5.0",
          "model_name": "HTMLModel",
          "state": {
            "_dom_classes": [],
            "_model_module": "@jupyter-widgets/controls",
            "_model_module_version": "1.5.0",
            "_model_name": "HTMLModel",
            "_view_count": null,
            "_view_module": "@jupyter-widgets/controls",
            "_view_module_version": "1.5.0",
            "_view_name": "HTMLView",
            "description": "",
            "description_tooltip": null,
            "layout": "IPY_MODEL_fbabbeb4291e4a4e9f59e99e30c1630e",
            "placeholder": "​",
            "style": "IPY_MODEL_47af9fd854614b78880372de651988b4",
            "value": " 570/570 [00:00&lt;00:00, 50.1kB/s]"
          }
        },
        "86452380fb74475eb8054e4e08676bbd": {
          "model_module": "@jupyter-widgets/base",
          "model_module_version": "1.2.0",
          "model_name": "LayoutModel",
          "state": {
            "_model_module": "@jupyter-widgets/base",
            "_model_module_version": "1.2.0",
            "_model_name": "LayoutModel",
            "_view_count": null,
            "_view_module": "@jupyter-widgets/base",
            "_view_module_version": "1.2.0",
            "_view_name": "LayoutView",
            "align_content": null,
            "align_items": null,
            "align_self": null,
            "border": null,
            "bottom": null,
            "display": null,
            "flex": null,
            "flex_flow": null,
            "grid_area": null,
            "grid_auto_columns": null,
            "grid_auto_flow": null,
            "grid_auto_rows": null,
            "grid_column": null,
            "grid_gap": null,
            "grid_row": null,
            "grid_template_areas": null,
            "grid_template_columns": null,
            "grid_template_rows": null,
            "height": null,
            "justify_content": null,
            "justify_items": null,
            "left": null,
            "margin": null,
            "max_height": null,
            "max_width": null,
            "min_height": null,
            "min_width": null,
            "object_fit": null,
            "object_position": null,
            "order": null,
            "overflow": null,
            "overflow_x": null,
            "overflow_y": null,
            "padding": null,
            "right": null,
            "top": null,
            "visibility": null,
            "width": null
          }
        },
        "973c9576e6954f81bb41ea2113ec4d51": {
          "model_module": "@jupyter-widgets/base",
          "model_module_version": "1.2.0",
          "model_name": "LayoutModel",
          "state": {
            "_model_module": "@jupyter-widgets/base",
            "_model_module_version": "1.2.0",
            "_model_name": "LayoutModel",
            "_view_count": null,
            "_view_module": "@jupyter-widgets/base",
            "_view_module_version": "1.2.0",
            "_view_name": "LayoutView",
            "align_content": null,
            "align_items": null,
            "align_self": null,
            "border": null,
            "bottom": null,
            "display": null,
            "flex": null,
            "flex_flow": null,
            "grid_area": null,
            "grid_auto_columns": null,
            "grid_auto_flow": null,
            "grid_auto_rows": null,
            "grid_column": null,
            "grid_gap": null,
            "grid_row": null,
            "grid_template_areas": null,
            "grid_template_columns": null,
            "grid_template_rows": null,
            "height": null,
            "justify_content": null,
            "justify_items": null,
            "left": null,
            "margin": null,
            "max_height": null,
            "max_width": null,
            "min_height": null,
            "min_width": null,
            "object_fit": null,
            "object_position": null,
            "order": null,
            "overflow": null,
            "overflow_x": null,
            "overflow_y": null,
            "padding": null,
            "right": null,
            "top": null,
            "visibility": null,
            "width": null
          }
        },
        "a469598b374a4e198106d89a6478e044": {
          "model_module": "@jupyter-widgets/controls",
          "model_module_version": "1.5.0",
          "model_name": "FloatProgressModel",
          "state": {
            "_dom_classes": [],
            "_model_module": "@jupyter-widgets/controls",
            "_model_module_version": "1.5.0",
            "_model_name": "FloatProgressModel",
            "_view_count": null,
            "_view_module": "@jupyter-widgets/controls",
            "_view_module_version": "1.5.0",
            "_view_name": "ProgressView",
            "bar_style": "success",
            "description": "",
            "description_tooltip": null,
            "layout": "IPY_MODEL_68b5e456e7a04156a059a6d2d2db910f",
            "max": 570,
            "min": 0,
            "orientation": "horizontal",
            "style": "IPY_MODEL_039dcbcd9418432cb260682295581d79",
            "value": 570
          }
        },
        "a7aa4ceb6b5e469cae932b057f345428": {
          "model_module": "@jupyter-widgets/controls",
          "model_module_version": "1.5.0",
          "model_name": "HBoxModel",
          "state": {
            "_dom_classes": [],
            "_model_module": "@jupyter-widgets/controls",
            "_model_module_version": "1.5.0",
            "_model_name": "HBoxModel",
            "_view_count": null,
            "_view_module": "@jupyter-widgets/controls",
            "_view_module_version": "1.5.0",
            "_view_name": "HBoxView",
            "box_style": "",
            "children": [
              "IPY_MODEL_759c7f34b26d4c7c88a882e0a766260d",
              "IPY_MODEL_a469598b374a4e198106d89a6478e044",
              "IPY_MODEL_7d2490ba0ef24ce68d9744f0c684cc0a"
            ],
            "layout": "IPY_MODEL_86452380fb74475eb8054e4e08676bbd"
          }
        },
        "bb1e8c6079a9436cbcc5e099d070349f": {
          "model_module": "@jupyter-widgets/base",
          "model_module_version": "1.2.0",
          "model_name": "LayoutModel",
          "state": {
            "_model_module": "@jupyter-widgets/base",
            "_model_module_version": "1.2.0",
            "_model_name": "LayoutModel",
            "_view_count": null,
            "_view_module": "@jupyter-widgets/base",
            "_view_module_version": "1.2.0",
            "_view_name": "LayoutView",
            "align_content": null,
            "align_items": null,
            "align_self": null,
            "border": null,
            "bottom": null,
            "display": null,
            "flex": null,
            "flex_flow": null,
            "grid_area": null,
            "grid_auto_columns": null,
            "grid_auto_flow": null,
            "grid_auto_rows": null,
            "grid_column": null,
            "grid_gap": null,
            "grid_row": null,
            "grid_template_areas": null,
            "grid_template_columns": null,
            "grid_template_rows": null,
            "height": null,
            "justify_content": null,
            "justify_items": null,
            "left": null,
            "margin": null,
            "max_height": null,
            "max_width": null,
            "min_height": null,
            "min_width": null,
            "object_fit": null,
            "object_position": null,
            "order": null,
            "overflow": null,
            "overflow_x": null,
            "overflow_y": null,
            "padding": null,
            "right": null,
            "top": null,
            "visibility": null,
            "width": null
          }
        },
        "c89dd698b5ca4fc4a304f291aa6509fd": {
          "model_module": "@jupyter-widgets/controls",
          "model_module_version": "1.5.0",
          "model_name": "DescriptionStyleModel",
          "state": {
            "_model_module": "@jupyter-widgets/controls",
            "_model_module_version": "1.5.0",
            "_model_name": "DescriptionStyleModel",
            "_view_count": null,
            "_view_module": "@jupyter-widgets/base",
            "_view_module_version": "1.2.0",
            "_view_name": "StyleView",
            "description_width": ""
          }
        },
        "ccc2af2a019f42409cf48a763a713732": {
          "model_module": "@jupyter-widgets/controls",
          "model_module_version": "1.5.0",
          "model_name": "FloatProgressModel",
          "state": {
            "_dom_classes": [],
            "_model_module": "@jupyter-widgets/controls",
            "_model_module_version": "1.5.0",
            "_model_name": "FloatProgressModel",
            "_view_count": null,
            "_view_module": "@jupyter-widgets/controls",
            "_view_module_version": "1.5.0",
            "_view_name": "ProgressView",
            "bar_style": "success",
            "description": "",
            "description_tooltip": null,
            "layout": "IPY_MODEL_6a26638b9b3645a3b0574cd08a59c515",
            "max": 440449768,
            "min": 0,
            "orientation": "horizontal",
            "style": "IPY_MODEL_1adc86ad9c7a4b0d9833dbbcaacfbfd4",
            "value": 440449768
          }
        },
        "d2f69e2e25ca437d88b51df041fb07d9": {
          "model_module": "@jupyter-widgets/controls",
          "model_module_version": "1.5.0",
          "model_name": "DescriptionStyleModel",
          "state": {
            "_model_module": "@jupyter-widgets/controls",
            "_model_module_version": "1.5.0",
            "_model_name": "DescriptionStyleModel",
            "_view_count": null,
            "_view_module": "@jupyter-widgets/base",
            "_view_module_version": "1.2.0",
            "_view_name": "StyleView",
            "description_width": ""
          }
        },
        "ed4c7b86e9a347fa9bad5a2bd47a38c1": {
          "model_module": "@jupyter-widgets/base",
          "model_module_version": "1.2.0",
          "model_name": "LayoutModel",
          "state": {
            "_model_module": "@jupyter-widgets/base",
            "_model_module_version": "1.2.0",
            "_model_name": "LayoutModel",
            "_view_count": null,
            "_view_module": "@jupyter-widgets/base",
            "_view_module_version": "1.2.0",
            "_view_name": "LayoutView",
            "align_content": null,
            "align_items": null,
            "align_self": null,
            "border": null,
            "bottom": null,
            "display": null,
            "flex": null,
            "flex_flow": null,
            "grid_area": null,
            "grid_auto_columns": null,
            "grid_auto_flow": null,
            "grid_auto_rows": null,
            "grid_column": null,
            "grid_gap": null,
            "grid_row": null,
            "grid_template_areas": null,
            "grid_template_columns": null,
            "grid_template_rows": null,
            "height": null,
            "justify_content": null,
            "justify_items": null,
            "left": null,
            "margin": null,
            "max_height": null,
            "max_width": null,
            "min_height": null,
            "min_width": null,
            "object_fit": null,
            "object_position": null,
            "order": null,
            "overflow": null,
            "overflow_x": null,
            "overflow_y": null,
            "padding": null,
            "right": null,
            "top": null,
            "visibility": null,
            "width": null
          }
        },
        "fbabbeb4291e4a4e9f59e99e30c1630e": {
          "model_module": "@jupyter-widgets/base",
          "model_module_version": "1.2.0",
          "model_name": "LayoutModel",
          "state": {
            "_model_module": "@jupyter-widgets/base",
            "_model_module_version": "1.2.0",
            "_model_name": "LayoutModel",
            "_view_count": null,
            "_view_module": "@jupyter-widgets/base",
            "_view_module_version": "1.2.0",
            "_view_name": "LayoutView",
            "align_content": null,
            "align_items": null,
            "align_self": null,
            "border": null,
            "bottom": null,
            "display": null,
            "flex": null,
            "flex_flow": null,
            "grid_area": null,
            "grid_auto_columns": null,
            "grid_auto_flow": null,
            "grid_auto_rows": null,
            "grid_column": null,
            "grid_gap": null,
            "grid_row": null,
            "grid_template_areas": null,
            "grid_template_columns": null,
            "grid_template_rows": null,
            "height": null,
            "justify_content": null,
            "justify_items": null,
            "left": null,
            "margin": null,
            "max_height": null,
            "max_width": null,
            "min_height": null,
            "min_width": null,
            "object_fit": null,
            "object_position": null,
            "order": null,
            "overflow": null,
            "overflow_x": null,
            "overflow_y": null,
            "padding": null,
            "right": null,
            "top": null,
            "visibility": null,
            "width": null
          }
        }
      }
    }
  },
  "nbformat": 4,
  "nbformat_minor": 0
}
