{
 "cells": [
  {
   "cell_type": "code",
   "execution_count": 1,
   "id": "b41e1ba0",
   "metadata": {},
   "outputs": [
    {
     "name": "stderr",
     "output_type": "stream",
     "text": [
      "c:\\Users\\Juan Felipe\\Documents\\GitHub\\techspere_data_challenge\\venv\\Lib\\site-packages\\tqdm\\auto.py:21: TqdmWarning: IProgress not found. Please update jupyter and ipywidgets. See https://ipywidgets.readthedocs.io/en/stable/user_install.html\n",
      "  from .autonotebook import tqdm as notebook_tqdm\n"
     ]
    }
   ],
   "source": [
    "import os\n",
    "from dotenv import load_dotenv\n",
    "import google.generativeai as genai\n",
    "import pandas as pd\n",
    "import numpy as np\n",
    "from sklearn.metrics.pairwise import cosine_similarity\n",
    "import matplotlib.pyplot as plt\n",
    "import seaborn as sns\n",
    "from sklearn.metrics import f1_score, classification_report, multilabel_confusion_matrix,accuracy_score\n",
    "from sklearn.preprocessing import MultiLabelBinarizer \n",
    "from sklearn.model_selection import train_test_split\n",
    "from sklearn.linear_model import LogisticRegression\n",
    "from sklearn.multiclass import OneVsRestClassifier"
   ]
  },
  {
   "cell_type": "markdown",
   "id": "dcfb6547",
   "metadata": {},
   "source": [
    "## data adapted"
   ]
  },
  {
   "cell_type": "code",
   "execution_count": 2,
   "id": "b09dc48b",
   "metadata": {},
   "outputs": [
    {
     "name": "stdout",
     "output_type": "stream",
     "text": [
      "['cardiovascular', 'hepatorenal', 'neurological', 'oncological']\n"
     ]
    }
   ],
   "source": [
    "# Cargar CSV (usa sep=';' porque tu dataset está separado por punto y coma)\n",
    "df = pd.read_csv(\"../data/dataset.csv\", sep=\";\")\n",
    "\n",
    "# Crear columna de etiquetas como listas\n",
    "df['labels'] = df['group'].str.split('|')\n",
    "\n",
    "# Lista de todas las clases únicas\n",
    "all_labels = sorted(set(label for labels in df['labels'] for label in labels))\n",
    "print(all_labels)\n",
    "df.drop(\"group\",inplace=True,axis=1)\n"
   ]
  },
  {
   "cell_type": "markdown",
   "id": "2c96e535",
   "metadata": {},
   "source": [
    "## Gemini model"
   ]
  },
  {
   "cell_type": "code",
   "execution_count": 3,
   "id": "0ebf63c9",
   "metadata": {},
   "outputs": [],
   "source": [
    "\n",
    "\n",
    "# Cargar variables desde .env\n",
    "load_dotenv()\n",
    "\n",
    "# Configurar Gemini con la API Key\n",
    "genai.configure(api_key=os.getenv(\"GEMINI_API_KEY\"))\n"
   ]
  },
  {
   "cell_type": "code",
   "execution_count": 4,
   "id": "647c3348",
   "metadata": {},
   "outputs": [],
   "source": [
    "\n",
    "# Función para generar embeddings con Gemini\n",
    "def get_gemini_embedding(text):\n",
    "    model = \"models/text-embedding-004\"\n",
    "    if not text or not isinstance(text, str):\n",
    "        return [0.0] * 768 # Tamaño del embedding para este modelo\n",
    "    try:\n",
    "        response = genai.embed_content(model=model, content=text, task_type=\"classification\")\n",
    "        return response[\"embedding\"]\n",
    "    except Exception as e:\n",
    "        print(f\"Error generando embedding para el texto: {text[:50]}... Error: {e}\")\n",
    "        return [0.0] * 768\n"
   ]
  },
  {
   "cell_type": "code",
   "execution_count": 5,
   "id": "f352f3ba",
   "metadata": {},
   "outputs": [
    {
     "name": "stdout",
     "output_type": "stream",
     "text": [
      "Generando embeddings para las etiquetas...\n",
      "Generando embeddings para los artículos... (esto puede tardar)\n"
     ]
    }
   ],
   "source": [
    "\n",
    "# --- PASO 1: GENERAR EMBEDDINGS ---\n",
    "print(\"Generando embeddings para las etiquetas...\")\n",
    "# Convertir a minúsculas para consistencia\n",
    "label_embeddings = {label: get_gemini_embedding(label) for label in all_labels}\n",
    "\n",
    "# Crear texto combinado y manejar nulos\n",
    "df[\"text\"] = df[\"title\"].fillna('') + \" \" + df[\"abstract\"].fillna('')\n",
    "\n",
    "print(\"Generando embeddings para los artículos... (esto puede tardar)\")\n",
    "df[\"embedding\"] = df[\"text\"].apply(get_gemini_embedding)\n",
    "\n",
    "\n",
    "\n",
    "\n"
   ]
  },
  {
   "cell_type": "code",
   "execution_count": 6,
   "id": "b4f7a4a9",
   "metadata": {},
   "outputs": [],
   "source": [
    "df.to_csv(\"pruebas.csv\",index=False)"
   ]
  },
  {
   "cell_type": "code",
   "execution_count": 364,
   "id": "6f016f96",
   "metadata": {},
   "outputs": [],
   "source": [
    "mlb = MultiLabelBinarizer(classes=all_labels)\n",
    "y= mlb.fit_transform(df['labels'])"
   ]
  },
  {
   "cell_type": "markdown",
   "id": "d7d015b7",
   "metadata": {},
   "source": [
    "## Umbrales"
   ]
  },
  {
   "cell_type": "code",
   "execution_count": 282,
   "id": "0d735d0e",
   "metadata": {},
   "outputs": [
    {
     "name": "stdout",
     "output_type": "stream",
     "text": [
      "Mejor umbral para cardiovascular: 0.54 (F1: 0.6466)\n",
      "Mejor umbral para hepatorenal: 0.53 (F1: 0.7083)\n",
      "Mejor umbral para neurological: 0.30 (F1: 0.6673)\n",
      "Mejor umbral para oncological: 0.58 (F1: 0.4801)\n"
     ]
    }
   ],
   "source": [
    "# --- PASO 2: CALCULAR SIMILITUD Y APLICAR LÓGICA MULTIETIQUETA ---\n",
    "X = np.array(df[\"embedding\"].to_list())\n",
    "label_matrix = np.array(list(label_embeddings.values()))\n",
    "\n",
    "# Calcular similitudes\n",
    "similarities = cosine_similarity(X, label_matrix)\n",
    "\n",
    "best_thresholds = {}\n",
    "y_pred = np.zeros_like(similarities)\n",
    "\n",
    "# Iterar sobre cada clase (columna)\n",
    "for i, label in enumerate(all_labels):\n",
    "    best_f1_class = -1\n",
    "    best_threshold_class = 0\n",
    "    \n",
    "    # Extraer las etiquetas verdaderas y las similitudes para esta clase\n",
    "    y_true_class = y_test[:, i]\n",
    "    similarities_class = similarities[:, i]\n",
    "    \n",
    "    # Buscar el mejor umbral solo para esta clase\n",
    "    for threshold in np.arange(0.3, 0.7, 0.01):\n",
    "        y_pred_class = (similarities_class >= threshold).astype(int)\n",
    "        f1 = f1_score(y_true_class, y_pred_class, zero_division=0)\n",
    "        if f1 > best_f1_class:\n",
    "            best_f1_class = f1\n",
    "            best_threshold_class = threshold\n",
    "            \n",
    "    best_thresholds[label] = best_threshold_class\n",
    "    print(f\"Mejor umbral para {label}: {best_threshold_class:.2f} (F1: {best_f1_class:.4f})\")\n",
    "    \n",
    "    # Aplicar el mejor umbral encontrado para esta clase en la matriz de predicción final\n",
    "    y_pred[:, i] = (similarities_class >= best_thresholds[label]).astype(int)\n",
    "\n",
    "# Ahora evalúa y genera el CSV usando 'y_pred_binarized_final'"
   ]
  },
  {
   "cell_type": "markdown",
   "id": "8802b055",
   "metadata": {},
   "source": [
    "## Modelo"
   ]
  },
  {
   "cell_type": "code",
   "execution_count": 394,
   "id": "34663dfb",
   "metadata": {},
   "outputs": [],
   "source": [
    "X_train, X_test, y_train, y_test = train_test_split(X, y, test_size=0.3, random_state=42)"
   ]
  },
  {
   "cell_type": "code",
   "execution_count": null,
   "id": "12be635b",
   "metadata": {},
   "outputs": [],
   "source": [
    "X = np.array(df[\"embedding\"].to_list())\n",
    "\n",
    "# Dividir los datos\n",
    "\n",
    "\n",
    "# Usar un clasificador que soporte multietiqueta, como OneVsRest con LogisticRegression\n",
    "# OneVsRest entrena un clasificador binario para cada clase, lo cual es perfecto para tu problema\n",
    "clf = OneVsRestClassifier(LogisticRegression(solver='liblinear',class_weight='balanced',C=150))\n",
    "clf.fit(X_train, y_train)\n",
    "\n",
    "# Hacer predicciones en el conjunto de prueba\n",
    "y_pred = clf.predict(X_test)"
   ]
  },
  {
   "cell_type": "code",
   "execution_count": null,
   "id": "a8f30756",
   "metadata": {},
   "outputs": [],
   "source": [
    "from sklearn.svm import LinearSVC\n",
    "from sklearn.multiclass import OneVsRestClassifier\n",
    "\n",
    "# LinearSVC es inherentemente binario, por lo que necesita el wrapper OneVsRest\n",
    "# El parámetro 'C' también controla la regularización, similar a LogisticRegression\n",
    "# 'dual=True' es a menudo recomendado cuando n_samples > n_features, pero prueba con ambos.\n",
    "svc_clf = OneVsRestClassifier(LinearSVC(dual=True, random_state=42, max_iter=2000,C=16,tol=0.2,multi_class=\"crammer_singer\"))\n",
    "\n",
    "# Entrenar el modelo\n",
    "svc_clf.fit(X_train, y_train)\n",
    "\n",
    "# Predecir y evaluar\n",
    "y_pred = svc_clf.predict(X_test)\n"
   ]
  },
  {
   "cell_type": "markdown",
   "id": "506a0690",
   "metadata": {},
   "source": [
    "## Evaluacion de resultado"
   ]
  },
  {
   "cell_type": "code",
   "execution_count": 392,
   "id": "5e2f0484",
   "metadata": {},
   "outputs": [
    {
     "name": "stdout",
     "output_type": "stream",
     "text": [
      "el modelo presenta un accuracy de 0.8369% en train\n"
     ]
    }
   ],
   "source": [
    "predict=svc_clf.predict(X_train)\n",
    "accuracy=accuracy_score(y_train,predict)\n",
    "print(f\"el modelo presenta un accuracy de {accuracy:.4f}% en train\")"
   ]
  },
  {
   "cell_type": "code",
   "execution_count": 395,
   "id": "92d4f55d",
   "metadata": {},
   "outputs": [
    {
     "name": "stdout",
     "output_type": "stream",
     "text": [
      "el modelo presenta un accuracy de 0.6813% en test\n"
     ]
    }
   ],
   "source": [
    "accuracy=accuracy_score(y_pred,y_test)\n",
    "print(f\"el modelo presenta un accuracy de {accuracy:.4f}% en test\")"
   ]
  },
  {
   "cell_type": "code",
   "execution_count": 396,
   "id": "e7c36eed",
   "metadata": {},
   "outputs": [
    {
     "name": "stdout",
     "output_type": "stream",
     "text": [
      "Métrica Principal - F1 Score Ponderado (Weighted): 0.8502\n",
      "\n",
      "Reporte de Clasificación Detallado (por clase):\n",
      "                precision    recall  f1-score   support\n",
      "\n",
      "cardiovascular       0.89      0.85      0.87       375\n",
      "   hepatorenal       0.90      0.80      0.84       346\n",
      "  neurological       0.85      0.86      0.85       514\n",
      "   oncological       0.93      0.73      0.81       204\n",
      "\n",
      "     micro avg       0.88      0.82      0.85      1439\n",
      "     macro avg       0.89      0.81      0.85      1439\n",
      "  weighted avg       0.88      0.82      0.85      1439\n",
      "   samples avg       0.90      0.87      0.86      1439\n",
      "\n"
     ]
    },
    {
     "name": "stderr",
     "output_type": "stream",
     "text": [
      "c:\\Users\\Juan Felipe\\Documents\\GitHub\\techspere_data_challenge\\venv\\Lib\\site-packages\\sklearn\\metrics\\_classification.py:1731: UndefinedMetricWarning: Precision is ill-defined and being set to 0.0 in samples with no predicted labels. Use `zero_division` parameter to control this behavior.\n",
      "  _warn_prf(average, modifier, f\"{metric.capitalize()} is\", result.shape[0])\n"
     ]
    }
   ],
   "source": [
    "# Calcular F1-Score Ponderado (métrica principal del challenge)\n",
    "weighted_f1 = f1_score(y_test, y_pred, average='weighted')\n",
    "print(f\"Métrica Principal - F1 Score Ponderado (Weighted): {weighted_f1:.4f}\\n\")\n",
    "\n",
    "# Reporte de clasificación completo (muestra métricas por cada clase)\n",
    "print(\"Reporte de Clasificación Detallado (por clase):\")\n",
    "# Usamos `target_names` para que el reporte muestre los nombres de las clases\n",
    "print(classification_report(y_test, y_pred, target_names=all_labels))\n"
   ]
  },
  {
   "cell_type": "code",
   "execution_count": 389,
   "id": "7945b2a4",
   "metadata": {},
   "outputs": [
    {
     "data": {
      "image/png": "[encoded data removed]",
      "text/plain": [
       "<Figure size 400x300 with 2 Axes>"
      ]
     },
     "metadata": {},
     "output_type": "display_data"
    },
    {
     "data": {
      "image/png": "[encoded data removed]",
      "text/plain": [
       "<Figure size 400x300 with 2 Axes>"
      ]
     },
     "metadata": {},
     "output_type": "display_data"
    },
    {
     "data": {
      "image/png": "[encoded data removed]",
      "text/plain": [
       "<Figure size 400x300 with 2 Axes>"
      ]
     },
     "metadata": {},
     "output_type": "display_data"
    },
    {
     "data": {
      "image/png": "[encoded data removed]",
      "text/plain": [
       "<Figure size 400x300 with 2 Axes>"
      ]
     },
     "metadata": {},
     "output_type": "display_data"
    }
   ],
   "source": [
    "mcm = multilabel_confusion_matrix(y_test,y_pred)\n",
    "for i, label in enumerate(all_labels):\n",
    "    cm = mcm[i]\n",
    "    plt.figure(figsize=(4, 3))\n",
    "    sns.heatmap(cm, annot=True, fmt=\"d\", cmap=\"Blues\", xticklabels=[\"No\", \"Yes\"], yticklabels=[\"No\", \"Yes\"])\n",
    "    plt.title(f\"Confusion Matrix for {label}\")\n",
    "    plt.ylabel(\"True\")\n",
    "    plt.xlabel(\"Predicted\")\n",
    "    plt.show()"
   ]
  },
  {
   "cell_type": "markdown",
   "id": "448025b7",
   "metadata": {},
   "source": [
    "## Guardar resultado"
   ]
  },
  {
   "cell_type": "code",
   "execution_count": 386,
   "id": "e7eed0d4",
   "metadata": {},
   "outputs": [],
   "source": [
    "y_pred=clf.predict(X)\n",
    "y_test=y"
   ]
  },
  {
   "cell_type": "code",
   "execution_count": 387,
   "id": "75a59d1c",
   "metadata": {},
   "outputs": [
    {
     "data": {
      "text/plain": [
       "' output_df.to_csv(\"predict.csv\",index=False) '"
      ]
     },
     "execution_count": 387,
     "metadata": {},
     "output_type": "execute_result"
    }
   ],
   "source": [
    "# 1. Convertir predicciones binarias a tuplas de texto\n",
    "predicted_labels_tuples = mlb.inverse_transform(y_pred)\n",
    "\n",
    "# 2. Unir las tuplas en un solo string separado por '|'\n",
    "predicted_labels_strings = ['|'.join(labels) for labels in predicted_labels_tuples]\n",
    "\n",
    "# 3. Crear el DataFrame de salida final\n",
    "# Usamos el 'test_df' que guardamos al principio para tener acceso a 'title' y 'abstract'\n",
    "output_df=pd.DataFrame(predicted_labels_strings)\n",
    "output_df = df[['title', 'abstract']].copy()\n",
    "output_df['group_predicted'] = predicted_labels_strings\n",
    "\"\"\" output_df.to_csv(\"predict.csv\",index=False) \"\"\""
   ]
  },
  {
   "cell_type": "code",
   "execution_count": 388,
   "id": "795049af",
   "metadata": {},
   "outputs": [
    {
     "data": {
      "text/html": [
       "<div>\n",
       "<style scoped>\n",
       "    .dataframe tbody tr th:only-of-type {\n",
       "        vertical-align: middle;\n",
       "    }\n",
       "\n",
       "    .dataframe tbody tr th {\n",
       "        vertical-align: top;\n",
       "    }\n",
       "\n",
       "    .dataframe thead th {\n",
       "        text-align: right;\n",
       "    }\n",
       "</style>\n",
       "<table border=\"1\" class=\"dataframe\">\n",
       "  <thead>\n",
       "    <tr style=\"text-align: right;\">\n",
       "      <th></th>\n",
       "      <th>title</th>\n",
       "      <th>abstract</th>\n",
       "      <th>group_predicted</th>\n",
       "    </tr>\n",
       "  </thead>\n",
       "  <tbody>\n",
       "    <tr>\n",
       "      <th>0</th>\n",
       "      <td>Adrenoleukodystrophy: survey of 303 cases: bio...</td>\n",
       "      <td>Adrenoleukodystrophy ( ALD ) is a genetically ...</td>\n",
       "      <td>hepatorenal|neurological</td>\n",
       "    </tr>\n",
       "    <tr>\n",
       "      <th>1</th>\n",
       "      <td>endoscopy reveals ventricular tachycardia secrets</td>\n",
       "      <td>Research question: How does metformin affect c...</td>\n",
       "      <td>neurological|oncological</td>\n",
       "    </tr>\n",
       "    <tr>\n",
       "      <th>2</th>\n",
       "      <td>dementia and cholecystitis: organ interplay</td>\n",
       "      <td>Purpose: This randomized controlled study exam...</td>\n",
       "      <td>hepatorenal</td>\n",
       "    </tr>\n",
       "    <tr>\n",
       "      <th>3</th>\n",
       "      <td>The interpeduncular nucleus regulates nicotine...</td>\n",
       "      <td>Partial lesions were made with kainic acid in ...</td>\n",
       "      <td>neurological</td>\n",
       "    </tr>\n",
       "    <tr>\n",
       "      <th>4</th>\n",
       "      <td>guillain-barre syndrome pathways in leukemia</td>\n",
       "      <td>Hypothesis: statins improves stroke outcomes v...</td>\n",
       "      <td>neurological</td>\n",
       "    </tr>\n",
       "    <tr>\n",
       "      <th>...</th>\n",
       "      <td>...</td>\n",
       "      <td>...</td>\n",
       "      <td>...</td>\n",
       "    </tr>\n",
       "    <tr>\n",
       "      <th>3560</th>\n",
       "      <td>The effect of recombinant human insulin-like g...</td>\n",
       "      <td>We recently demonstrated that recombinant hGH ...</td>\n",
       "      <td>cardiovascular|hepatorenal</td>\n",
       "    </tr>\n",
       "    <tr>\n",
       "      <th>3561</th>\n",
       "      <td>EEG reveals leukemia secrets</td>\n",
       "      <td>Hypothesis: metformin improves dementia outcom...</td>\n",
       "      <td>neurological</td>\n",
       "    </tr>\n",
       "    <tr>\n",
       "      <th>3562</th>\n",
       "      <td>venous pathways in angina pectoris</td>\n",
       "      <td>Hypothesis: metformin improves heart disease o...</td>\n",
       "      <td>cardiovascular</td>\n",
       "    </tr>\n",
       "    <tr>\n",
       "      <th>3563</th>\n",
       "      <td>Thyroxine abuse: an unusual case of thyrotoxic...</td>\n",
       "      <td>Eating disorders and the associated behavioura...</td>\n",
       "      <td>neurological</td>\n",
       "    </tr>\n",
       "    <tr>\n",
       "      <th>3564</th>\n",
       "      <td>hepatitis and hypertensive: cardiac connections</td>\n",
       "      <td>Aim: To investigate aspirin effects on heart d...</td>\n",
       "      <td>cardiovascular|hepatorenal|oncological</td>\n",
       "    </tr>\n",
       "  </tbody>\n",
       "</table>\n",
       "<p>3565 rows × 3 columns</p>\n",
       "</div>"
      ],
      "text/plain": [
       "                                                  title  \\\n",
       "0     Adrenoleukodystrophy: survey of 303 cases: bio...   \n",
       "1     endoscopy reveals ventricular tachycardia secrets   \n",
       "2           dementia and cholecystitis: organ interplay   \n",
       "3     The interpeduncular nucleus regulates nicotine...   \n",
       "4          guillain-barre syndrome pathways in leukemia   \n",
       "...                                                 ...   \n",
       "3560  The effect of recombinant human insulin-like g...   \n",
       "3561                       EEG reveals leukemia secrets   \n",
       "3562                 venous pathways in angina pectoris   \n",
       "3563  Thyroxine abuse: an unusual case of thyrotoxic...   \n",
       "3564    hepatitis and hypertensive: cardiac connections   \n",
       "\n",
       "                                               abstract  \\\n",
       "0     Adrenoleukodystrophy ( ALD ) is a genetically ...   \n",
       "1     Research question: How does metformin affect c...   \n",
       "2     Purpose: This randomized controlled study exam...   \n",
       "3     Partial lesions were made with kainic acid in ...   \n",
       "4     Hypothesis: statins improves stroke outcomes v...   \n",
       "...                                                 ...   \n",
       "3560  We recently demonstrated that recombinant hGH ...   \n",
       "3561  Hypothesis: metformin improves dementia outcom...   \n",
       "3562  Hypothesis: metformin improves heart disease o...   \n",
       "3563  Eating disorders and the associated behavioura...   \n",
       "3564  Aim: To investigate aspirin effects on heart d...   \n",
       "\n",
       "                             group_predicted  \n",
       "0                   hepatorenal|neurological  \n",
       "1                   neurological|oncological  \n",
       "2                                hepatorenal  \n",
       "3                               neurological  \n",
       "4                               neurological  \n",
       "...                                      ...  \n",
       "3560              cardiovascular|hepatorenal  \n",
       "3561                            neurological  \n",
       "3562                          cardiovascular  \n",
       "3563                            neurological  \n",
       "3564  cardiovascular|hepatorenal|oncological  \n",
       "\n",
       "[3565 rows x 3 columns]"
      ]
     },
     "execution_count": 388,
     "metadata": {},
     "output_type": "execute_result"
    }
   ],
   "source": [
    "output_df"
   ]
  },
  {
   "cell_type": "code",
   "execution_count": 390,
   "id": "fcec0008",
   "metadata": {},
   "outputs": [
    {
     "data": {
      "text/html": [
       "<div>\n",
       "<style scoped>\n",
       "    .dataframe tbody tr th:only-of-type {\n",
       "        vertical-align: middle;\n",
       "    }\n",
       "\n",
       "    .dataframe tbody tr th {\n",
       "        vertical-align: top;\n",
       "    }\n",
       "\n",
       "    .dataframe thead th {\n",
       "        text-align: right;\n",
       "    }\n",
       "</style>\n",
       "<table border=\"1\" class=\"dataframe\">\n",
       "  <thead>\n",
       "    <tr style=\"text-align: right;\">\n",
       "      <th></th>\n",
       "      <th>title</th>\n",
       "      <th>abstract</th>\n",
       "      <th>labels</th>\n",
       "      <th>text</th>\n",
       "      <th>embedding</th>\n",
       "    </tr>\n",
       "  </thead>\n",
       "  <tbody>\n",
       "    <tr>\n",
       "      <th>0</th>\n",
       "      <td>Adrenoleukodystrophy: survey of 303 cases: bio...</td>\n",
       "      <td>Adrenoleukodystrophy ( ALD ) is a genetically ...</td>\n",
       "      <td>[neurological, hepatorenal]</td>\n",
       "      <td>Adrenoleukodystrophy: survey of 303 cases: bio...</td>\n",
       "      <td>[0.021172656, 0.02166997, -0.07572977, 0.03088...</td>\n",
       "    </tr>\n",
       "    <tr>\n",
       "      <th>1</th>\n",
       "      <td>endoscopy reveals ventricular tachycardia secrets</td>\n",
       "      <td>Research question: How does metformin affect c...</td>\n",
       "      <td>[neurological]</td>\n",
       "      <td>endoscopy reveals ventricular tachycardia secr...</td>\n",
       "      <td>[-0.0076657785, 0.0049243052, -0.006806211, 0....</td>\n",
       "    </tr>\n",
       "    <tr>\n",
       "      <th>2</th>\n",
       "      <td>dementia and cholecystitis: organ interplay</td>\n",
       "      <td>Purpose: This randomized controlled study exam...</td>\n",
       "      <td>[hepatorenal]</td>\n",
       "      <td>dementia and cholecystitis: organ interplay Pu...</td>\n",
       "      <td>[0.033523977, 0.011269818, -0.016054638, 0.043...</td>\n",
       "    </tr>\n",
       "    <tr>\n",
       "      <th>3</th>\n",
       "      <td>The interpeduncular nucleus regulates nicotine...</td>\n",
       "      <td>Partial lesions were made with kainic acid in ...</td>\n",
       "      <td>[neurological]</td>\n",
       "      <td>The interpeduncular nucleus regulates nicotine...</td>\n",
       "      <td>[-0.014952425, -0.0024394898, -0.06930734, 0.0...</td>\n",
       "    </tr>\n",
       "    <tr>\n",
       "      <th>4</th>\n",
       "      <td>guillain-barre syndrome pathways in leukemia</td>\n",
       "      <td>Hypothesis: statins improves stroke outcomes v...</td>\n",
       "      <td>[neurological]</td>\n",
       "      <td>guillain-barre syndrome pathways in leukemia H...</td>\n",
       "      <td>[-0.012434283, -0.021041708, -0.030554863, 0.0...</td>\n",
       "    </tr>\n",
       "    <tr>\n",
       "      <th>...</th>\n",
       "      <td>...</td>\n",
       "      <td>...</td>\n",
       "      <td>...</td>\n",
       "      <td>...</td>\n",
       "      <td>...</td>\n",
       "    </tr>\n",
       "    <tr>\n",
       "      <th>3560</th>\n",
       "      <td>The effect of recombinant human insulin-like g...</td>\n",
       "      <td>We recently demonstrated that recombinant hGH ...</td>\n",
       "      <td>[neurological, cardiovascular, hepatorenal]</td>\n",
       "      <td>The effect of recombinant human insulin-like g...</td>\n",
       "      <td>[-0.01876637, 0.0017719191, -0.0585729, 0.0454...</td>\n",
       "    </tr>\n",
       "    <tr>\n",
       "      <th>3561</th>\n",
       "      <td>EEG reveals leukemia secrets</td>\n",
       "      <td>Hypothesis: metformin improves dementia outcom...</td>\n",
       "      <td>[neurological]</td>\n",
       "      <td>EEG reveals leukemia secrets Hypothesis: metfo...</td>\n",
       "      <td>[-0.00372124, 0.0057042106, -0.021371147, 0.04...</td>\n",
       "    </tr>\n",
       "    <tr>\n",
       "      <th>3562</th>\n",
       "      <td>venous pathways in angina pectoris</td>\n",
       "      <td>Hypothesis: metformin improves heart disease o...</td>\n",
       "      <td>[neurological, cardiovascular]</td>\n",
       "      <td>venous pathways in angina pectoris Hypothesis:...</td>\n",
       "      <td>[0.0072260806, -0.01196728, -0.033628248, 0.07...</td>\n",
       "    </tr>\n",
       "    <tr>\n",
       "      <th>3563</th>\n",
       "      <td>Thyroxine abuse: an unusual case of thyrotoxic...</td>\n",
       "      <td>Eating disorders and the associated behavioura...</td>\n",
       "      <td>[neurological]</td>\n",
       "      <td>Thyroxine abuse: an unusual case of thyrotoxic...</td>\n",
       "      <td>[0.030975027, -0.010566159, -0.066937014, 0.04...</td>\n",
       "    </tr>\n",
       "    <tr>\n",
       "      <th>3564</th>\n",
       "      <td>hepatitis and hypertensive: cardiac connections</td>\n",
       "      <td>Aim: To investigate aspirin effects on heart d...</td>\n",
       "      <td>[cardiovascular, oncological]</td>\n",
       "      <td>hepatitis and hypertensive: cardiac connection...</td>\n",
       "      <td>[-0.010330523, -0.0050388467, -0.047239594, 0....</td>\n",
       "    </tr>\n",
       "  </tbody>\n",
       "</table>\n",
       "<p>3565 rows × 5 columns</p>\n",
       "</div>"
      ],
      "text/plain": [
       "                                                  title  \\\n",
       "0     Adrenoleukodystrophy: survey of 303 cases: bio...   \n",
       "1     endoscopy reveals ventricular tachycardia secrets   \n",
       "2           dementia and cholecystitis: organ interplay   \n",
       "3     The interpeduncular nucleus regulates nicotine...   \n",
       "4          guillain-barre syndrome pathways in leukemia   \n",
       "...                                                 ...   \n",
       "3560  The effect of recombinant human insulin-like g...   \n",
       "3561                       EEG reveals leukemia secrets   \n",
       "3562                 venous pathways in angina pectoris   \n",
       "3563  Thyroxine abuse: an unusual case of thyrotoxic...   \n",
       "3564    hepatitis and hypertensive: cardiac connections   \n",
       "\n",
       "                                               abstract  \\\n",
       "0     Adrenoleukodystrophy ( ALD ) is a genetically ...   \n",
       "1     Research question: How does metformin affect c...   \n",
       "2     Purpose: This randomized controlled study exam...   \n",
       "3     Partial lesions were made with kainic acid in ...   \n",
       "4     Hypothesis: statins improves stroke outcomes v...   \n",
       "...                                                 ...   \n",
       "3560  We recently demonstrated that recombinant hGH ...   \n",
       "3561  Hypothesis: metformin improves dementia outcom...   \n",
       "3562  Hypothesis: metformin improves heart disease o...   \n",
       "3563  Eating disorders and the associated behavioura...   \n",
       "3564  Aim: To investigate aspirin effects on heart d...   \n",
       "\n",
       "                                           labels  \\\n",
       "0                     [neurological, hepatorenal]   \n",
       "1                                  [neurological]   \n",
       "2                                   [hepatorenal]   \n",
       "3                                  [neurological]   \n",
       "4                                  [neurological]   \n",
       "...                                           ...   \n",
       "3560  [neurological, cardiovascular, hepatorenal]   \n",
       "3561                               [neurological]   \n",
       "3562               [neurological, cardiovascular]   \n",
       "3563                               [neurological]   \n",
       "3564                [cardiovascular, oncological]   \n",
       "\n",
       "                                                   text  \\\n",
       "0     Adrenoleukodystrophy: survey of 303 cases: bio...   \n",
       "1     endoscopy reveals ventricular tachycardia secr...   \n",
       "2     dementia and cholecystitis: organ interplay Pu...   \n",
       "3     The interpeduncular nucleus regulates nicotine...   \n",
       "4     guillain-barre syndrome pathways in leukemia H...   \n",
       "...                                                 ...   \n",
       "3560  The effect of recombinant human insulin-like g...   \n",
       "3561  EEG reveals leukemia secrets Hypothesis: metfo...   \n",
       "3562  venous pathways in angina pectoris Hypothesis:...   \n",
       "3563  Thyroxine abuse: an unusual case of thyrotoxic...   \n",
       "3564  hepatitis and hypertensive: cardiac connection...   \n",
       "\n",
       "                                              embedding  \n",
       "0     [0.021172656, 0.02166997, -0.07572977, 0.03088...  \n",
       "1     [-0.0076657785, 0.0049243052, -0.006806211, 0....  \n",
       "2     [0.033523977, 0.011269818, -0.016054638, 0.043...  \n",
       "3     [-0.014952425, -0.0024394898, -0.06930734, 0.0...  \n",
       "4     [-0.012434283, -0.021041708, -0.030554863, 0.0...  \n",
       "...                                                 ...  \n",
       "3560  [-0.01876637, 0.0017719191, -0.0585729, 0.0454...  \n",
       "3561  [-0.00372124, 0.0057042106, -0.021371147, 0.04...  \n",
       "3562  [0.0072260806, -0.01196728, -0.033628248, 0.07...  \n",
       "3563  [0.030975027, -0.010566159, -0.066937014, 0.04...  \n",
       "3564  [-0.010330523, -0.0050388467, -0.047239594, 0....  \n",
       "\n",
       "[3565 rows x 5 columns]"
      ]
     },
     "execution_count": 390,
     "metadata": {},
     "output_type": "execute_result"
    }
   ],
   "source": [
    "df"
   ]
  }
 ],
 "metadata": {
  "kernelspec": {
   "display_name": "venv",
   "language": "python",
   "name": "python3"
  },
  "language_info": {
   "codemirror_mode": {
    "name": "ipython",
    "version": 3
   },
   "file_extension": ".py",
   "mimetype": "text/x-python",
   "name": "python",
   "nbconvert_exporter": "python",
   "pygments_lexer": "ipython3",
   "version": "3.12.4"
  }
 },
 "nbformat": 4,
 "nbformat_minor": 5
}
