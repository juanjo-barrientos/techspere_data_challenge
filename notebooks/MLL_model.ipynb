{
 "cells": [
  {
   "cell_type": "code",
   "execution_count": null,
   "id": "b41e1ba0",
   "metadata": {},
   "outputs": [],
   "source": [
    "import os\n",
    "from dotenv import load_dotenv\n",
    "import google.generativeai as genai\n",
    "import pandas as pd\n",
    "import numpy as np\n",
    "from sklearn.metrics.pairwise import cosine_similarity\n",
    "import matplotlib.pyplot as plt\n",
    "import seaborn as sns\n",
    "from sklearn.metrics import f1_score, classification_report, multilabel_confusion_matrix\n",
    "from sklearn.preprocessing import MultiLabelBinarizer \n",
    "from sklearn.model_selection import train_test_split\n",
    "from sklearn.linear_model import LogisticRegression\n",
    "from sklearn.multiclass import OneVsRestClassifier"
   ]
  },
  {
   "cell_type": "markdown",
   "id": "dcfb6547",
   "metadata": {},
   "source": [
    "## data adapted"
   ]
  },
  {
   "cell_type": "code",
   "execution_count": 202,
   "id": "b09dc48b",
   "metadata": {},
   "outputs": [
    {
     "name": "stdout",
     "output_type": "stream",
     "text": [
      "['cardiovascular', 'hepatorenal', 'neurological', 'oncological']\n"
     ]
    }
   ],
   "source": [
    "\n",
    "\n",
    "# Cargar CSV (usa sep=';' porque tu dataset está separado por punto y coma)\n",
    "df = pd.read_csv(\"../data/dataset.csv\", sep=\";\")\n",
    "\n",
    "# Crear columna de etiquetas como listas\n",
    "df['labels'] = df['group'].str.split('|')\n",
    "\n",
    "# Lista de todas las clases únicas\n",
    "all_labels = sorted(set(label for labels in df['labels'] for label in labels))\n",
    "print(all_labels)\n",
    "df.drop(\"group\",inplace=True,axis=1)\n"
   ]
  },
  {
   "cell_type": "markdown",
   "id": "2c96e535",
   "metadata": {},
   "source": [
    "## Gemini model"
   ]
  },
  {
   "cell_type": "code",
   "execution_count": 205,
   "id": "0ebf63c9",
   "metadata": {},
   "outputs": [],
   "source": [
    "\n",
    "\n",
    "# Cargar variables desde .env\n",
    "load_dotenv()\n",
    "\n",
    "# Configurar Gemini con la API Key\n",
    "genai.configure(api_key=os.getenv(\"GEMINI_API_KEY\"))\n"
   ]
  },
  {
   "cell_type": "code",
   "execution_count": 206,
   "id": "647c3348",
   "metadata": {},
   "outputs": [],
   "source": [
    "\n",
    "# Función para generar embeddings con Gemini\n",
    "def get_gemini_embedding(text):\n",
    "    model = \"models/text-embedding-004\"\n",
    "    if not text or not isinstance(text, str):\n",
    "        return [0.0] * 768 # Tamaño del embedding para este modelo\n",
    "    try:\n",
    "        response = genai.embed_content(model=model, content=text, task_type=\"classification\")\n",
    "        return response[\"embedding\"]\n",
    "    except Exception as e:\n",
    "        print(f\"Error generando embedding para el texto: {text[:50]}... Error: {e}\")\n",
    "        return [0.0] * 768\n"
   ]
  },
  {
   "cell_type": "code",
   "execution_count": null,
   "id": "f352f3ba",
   "metadata": {},
   "outputs": [
    {
     "name": "stdout",
     "output_type": "stream",
     "text": [
      "Generando embeddings para las etiquetas...\n",
      "Generando embeddings para los artículos... (esto puede tardar)\n"
     ]
    }
   ],
   "source": [
    "\n",
    "# --- PASO 1: GENERAR EMBEDDINGS ---\n",
    "print(\"Generando embeddings para las etiquetas...\")\n",
    "# Convertir a minúsculas para consistencia\n",
    "label_embeddings = {label: get_gemini_embedding(label) for label in all_labels}\n",
    "\n",
    "# Crear texto combinado y manejar nulos\n",
    "df[\"text\"] = df[\"title\"].fillna('') + \" \" + df[\"abstract\"].fillna('')\n",
    "\n",
    "print(\"Generando embeddings para los artículos... (esto puede tardar)\")\n",
    "df[\"embedding\"] = df[\"text\"].apply(get_gemini_embedding)\n",
    "\n",
    "# --- PASO 2: CALCULAR SIMILITUD Y APLICAR LÓGICA MULTIETIQUETA ---\n",
    "X = np.array(df[\"embedding\"].to_list())\n",
    "label_matrix = np.array(list(label_embeddings.values()))\n",
    "\n",
    "# Calcular similitudes\n",
    "similarities = cosine_similarity(X, label_matrix)\n",
    "\n",
    "mlb = MultiLabelBinarizer(classes=all_labels)\n",
    "y_test= mlb.fit_transform(df['labels'])\n"
   ]
  },
  {
   "cell_type": "markdown",
   "id": "d7d015b7",
   "metadata": {},
   "source": [
    "## Umbrales"
   ]
  },
  {
   "cell_type": "code",
   "execution_count": null,
   "id": "0d735d0e",
   "metadata": {},
   "outputs": [
    {
     "name": "stdout",
     "output_type": "stream",
     "text": [
      "Mejor umbral para cardiovascular: 0.54 (F1: 0.6466)\n",
      "Mejor umbral para hepatorenal: 0.53 (F1: 0.7083)\n",
      "Mejor umbral para neurological: 0.40 (F1: 0.6673)\n",
      "Mejor umbral para oncological: 0.58 (F1: 0.4801)\n"
     ]
    }
   ],
   "source": [
    "from sklearn.metrics import f1_score\n",
    "\n",
    "best_thresholds = {}\n",
    "y_pred = np.zeros_like(similarities)\n",
    "\n",
    "# Iterar sobre cada clase (columna)\n",
    "for i, label in enumerate(all_labels):\n",
    "    best_f1_class = -1\n",
    "    best_threshold_class = 0\n",
    "    \n",
    "    # Extraer las etiquetas verdaderas y las similitudes para esta clase\n",
    "    y_true_class = y_true_binarized[:, i]\n",
    "    similarities_class = similarities[:, i]\n",
    "    \n",
    "    # Buscar el mejor umbral solo para esta clase\n",
    "    for threshold in np.arange(0.4, 0.7, 0.01):\n",
    "        y_pred_class = (similarities_class >= threshold).astype(int)\n",
    "        f1 = f1_score(y_true_class, y_pred_class, zero_division=0)\n",
    "        if f1 > best_f1_class:\n",
    "            best_f1_class = f1\n",
    "            best_threshold_class = threshold\n",
    "            \n",
    "    best_thresholds[label] = best_threshold_class\n",
    "    print(f\"Mejor umbral para {label}: {best_threshold_class:.2f} (F1: {best_f1_class:.4f})\")\n",
    "    \n",
    "    # Aplicar el mejor umbral encontrado para esta clase en la matriz de predicción final\n",
    "    y_pred[:, i] = (similarities_class >= best_thresholds[label]).astype(int)\n",
    "\n",
    "# Ahora evalúa y genera el CSV usando 'y_pred_binarized_final'"
   ]
  },
  {
   "cell_type": "markdown",
   "id": "8802b055",
   "metadata": {},
   "source": [
    "## Modelo"
   ]
  },
  {
   "cell_type": "code",
   "execution_count": null,
   "id": "12be635b",
   "metadata": {},
   "outputs": [
    {
     "ename": "KeyError",
     "evalue": "'embedding'",
     "output_type": "error",
     "traceback": [
      "\u001b[31m---------------------------------------------------------------------------\u001b[39m",
      "\u001b[31mKeyError\u001b[39m                                  Traceback (most recent call last)",
      "\u001b[36mFile \u001b[39m\u001b[32mc:\\Users\\Juan Felipe\\Documents\\GitHub\\techspere_data_challenge\\venv\\Lib\\site-packages\\pandas\\core\\indexes\\base.py:3812\u001b[39m, in \u001b[36mIndex.get_loc\u001b[39m\u001b[34m(self, key)\u001b[39m\n\u001b[32m   3811\u001b[39m \u001b[38;5;28;01mtry\u001b[39;00m:\n\u001b[32m-> \u001b[39m\u001b[32m3812\u001b[39m     \u001b[38;5;28;01mreturn\u001b[39;00m \u001b[38;5;28;43mself\u001b[39;49m\u001b[43m.\u001b[49m\u001b[43m_engine\u001b[49m\u001b[43m.\u001b[49m\u001b[43mget_loc\u001b[49m\u001b[43m(\u001b[49m\u001b[43mcasted_key\u001b[49m\u001b[43m)\u001b[49m\n\u001b[32m   3813\u001b[39m \u001b[38;5;28;01mexcept\u001b[39;00m \u001b[38;5;167;01mKeyError\u001b[39;00m \u001b[38;5;28;01mas\u001b[39;00m err:\n",
      "\u001b[36mFile \u001b[39m\u001b[32mpandas/_libs/index.pyx:167\u001b[39m, in \u001b[36mpandas._libs.index.IndexEngine.get_loc\u001b[39m\u001b[34m()\u001b[39m\n",
      "\u001b[36mFile \u001b[39m\u001b[32mpandas/_libs/index.pyx:196\u001b[39m, in \u001b[36mpandas._libs.index.IndexEngine.get_loc\u001b[39m\u001b[34m()\u001b[39m\n",
      "\u001b[36mFile \u001b[39m\u001b[32mpandas/_libs/hashtable_class_helper.pxi:7088\u001b[39m, in \u001b[36mpandas._libs.hashtable.PyObjectHashTable.get_item\u001b[39m\u001b[34m()\u001b[39m\n",
      "\u001b[36mFile \u001b[39m\u001b[32mpandas/_libs/hashtable_class_helper.pxi:7096\u001b[39m, in \u001b[36mpandas._libs.hashtable.PyObjectHashTable.get_item\u001b[39m\u001b[34m()\u001b[39m\n",
      "\u001b[31mKeyError\u001b[39m: 'embedding'",
      "\nThe above exception was the direct cause of the following exception:\n",
      "\u001b[31mKeyError\u001b[39m                                  Traceback (most recent call last)",
      "\u001b[36mCell\u001b[39m\u001b[36m \u001b[39m\u001b[32mIn[203]\u001b[39m\u001b[32m, line 6\u001b[39m\n\u001b[32m      3\u001b[39m \u001b[38;5;28;01mfrom\u001b[39;00m\u001b[38;5;250m \u001b[39m\u001b[34;01msklearn\u001b[39;00m\u001b[34;01m.\u001b[39;00m\u001b[34;01mmulticlass\u001b[39;00m\u001b[38;5;250m \u001b[39m\u001b[38;5;28;01mimport\u001b[39;00m OneVsRestClassifier\n\u001b[32m      5\u001b[39m \u001b[38;5;66;03m# Tus embeddings son las características (X) y las etiquetas binarizadas son el objetivo (y)\u001b[39;00m\n\u001b[32m----> \u001b[39m\u001b[32m6\u001b[39m X = np.array(\u001b[43mdf\u001b[49m\u001b[43m[\u001b[49m\u001b[33;43m\"\u001b[39;49m\u001b[33;43membedding\u001b[39;49m\u001b[33;43m\"\u001b[39;49m\u001b[43m]\u001b[49m.to_list())\n\u001b[32m      7\u001b[39m y = y_true_binarized\n\u001b[32m      9\u001b[39m \u001b[38;5;66;03m# Dividir los datos\u001b[39;00m\n",
      "\u001b[36mFile \u001b[39m\u001b[32mc:\\Users\\Juan Felipe\\Documents\\GitHub\\techspere_data_challenge\\venv\\Lib\\site-packages\\pandas\\core\\frame.py:4107\u001b[39m, in \u001b[36mDataFrame.__getitem__\u001b[39m\u001b[34m(self, key)\u001b[39m\n\u001b[32m   4105\u001b[39m \u001b[38;5;28;01mif\u001b[39;00m \u001b[38;5;28mself\u001b[39m.columns.nlevels > \u001b[32m1\u001b[39m:\n\u001b[32m   4106\u001b[39m     \u001b[38;5;28;01mreturn\u001b[39;00m \u001b[38;5;28mself\u001b[39m._getitem_multilevel(key)\n\u001b[32m-> \u001b[39m\u001b[32m4107\u001b[39m indexer = \u001b[38;5;28;43mself\u001b[39;49m\u001b[43m.\u001b[49m\u001b[43mcolumns\u001b[49m\u001b[43m.\u001b[49m\u001b[43mget_loc\u001b[49m\u001b[43m(\u001b[49m\u001b[43mkey\u001b[49m\u001b[43m)\u001b[49m\n\u001b[32m   4108\u001b[39m \u001b[38;5;28;01mif\u001b[39;00m is_integer(indexer):\n\u001b[32m   4109\u001b[39m     indexer = [indexer]\n",
      "\u001b[36mFile \u001b[39m\u001b[32mc:\\Users\\Juan Felipe\\Documents\\GitHub\\techspere_data_challenge\\venv\\Lib\\site-packages\\pandas\\core\\indexes\\base.py:3819\u001b[39m, in \u001b[36mIndex.get_loc\u001b[39m\u001b[34m(self, key)\u001b[39m\n\u001b[32m   3814\u001b[39m     \u001b[38;5;28;01mif\u001b[39;00m \u001b[38;5;28misinstance\u001b[39m(casted_key, \u001b[38;5;28mslice\u001b[39m) \u001b[38;5;129;01mor\u001b[39;00m (\n\u001b[32m   3815\u001b[39m         \u001b[38;5;28misinstance\u001b[39m(casted_key, abc.Iterable)\n\u001b[32m   3816\u001b[39m         \u001b[38;5;129;01mand\u001b[39;00m \u001b[38;5;28many\u001b[39m(\u001b[38;5;28misinstance\u001b[39m(x, \u001b[38;5;28mslice\u001b[39m) \u001b[38;5;28;01mfor\u001b[39;00m x \u001b[38;5;129;01min\u001b[39;00m casted_key)\n\u001b[32m   3817\u001b[39m     ):\n\u001b[32m   3818\u001b[39m         \u001b[38;5;28;01mraise\u001b[39;00m InvalidIndexError(key)\n\u001b[32m-> \u001b[39m\u001b[32m3819\u001b[39m     \u001b[38;5;28;01mraise\u001b[39;00m \u001b[38;5;167;01mKeyError\u001b[39;00m(key) \u001b[38;5;28;01mfrom\u001b[39;00m\u001b[38;5;250m \u001b[39m\u001b[34;01merr\u001b[39;00m\n\u001b[32m   3820\u001b[39m \u001b[38;5;28;01mexcept\u001b[39;00m \u001b[38;5;167;01mTypeError\u001b[39;00m:\n\u001b[32m   3821\u001b[39m     \u001b[38;5;66;03m# If we have a listlike key, _check_indexing_error will raise\u001b[39;00m\n\u001b[32m   3822\u001b[39m     \u001b[38;5;66;03m#  InvalidIndexError. Otherwise we fall through and re-raise\u001b[39;00m\n\u001b[32m   3823\u001b[39m     \u001b[38;5;66;03m#  the TypeError.\u001b[39;00m\n\u001b[32m   3824\u001b[39m     \u001b[38;5;28mself\u001b[39m._check_indexing_error(key)\n",
      "\u001b[31mKeyError\u001b[39m: 'embedding'"
     ]
    }
   ],
   "source": [
    "\n",
    "\n",
    "# Tus embeddings son las características (X) y las etiquetas binarizadas son el objetivo (y)\n",
    "X = np.array(df[\"embedding\"].to_list())\n",
    "y = y_test\n",
    "\n",
    "# Dividir los datos\n",
    "X_train, X_test, y_train, y_test = train_test_split(X, y, test_size=0.3, random_state=42)\n",
    "\n",
    "# Usar un clasificador que soporte multietiqueta, como OneVsRest con LogisticRegression\n",
    "# OneVsRest entrena un clasificador binario para cada clase, lo cual es perfecto para tu problema\n",
    "clf = OneVsRestClassifier(LogisticRegression(solver='liblinear',class_weight='balanced'))\n",
    "clf.fit(X_train, y_train)\n",
    "\n",
    "# Hacer predicciones en el conjunto de prueba\n",
    "y_pred = clf.predict(X_test)"
   ]
  },
  {
   "cell_type": "markdown",
   "id": "506a0690",
   "metadata": {},
   "source": [
    "## Evaluacion de resultado"
   ]
  },
  {
   "cell_type": "code",
   "execution_count": null,
   "id": "e7c36eed",
   "metadata": {},
   "outputs": [
    {
     "name": "stdout",
     "output_type": "stream",
     "text": [
      "Métrica Principal - F1 Score Ponderado (Weighted): 0.6475\n",
      "\n",
      "Reporte de Clasificación Detallado (por clase):\n",
      "                precision    recall  f1-score   support\n",
      "\n",
      "cardiovascular       0.50      0.93      0.65      1268\n",
      "   hepatorenal       0.68      0.74      0.71      1091\n",
      "  neurological       0.50      1.00      0.67      1785\n",
      "   oncological       0.34      0.80      0.48       601\n",
      "\n",
      "     micro avg       0.50      0.90      0.64      4745\n",
      "     macro avg       0.50      0.87      0.63      4745\n",
      "  weighted avg       0.52      0.90      0.65      4745\n",
      "   samples avg       0.57      0.92      0.66      4745\n",
      "\n"
     ]
    }
   ],
   "source": [
    "# Calcular F1-Score Ponderado (métrica principal del challenge)\n",
    "weighted_f1 = f1_score(y_test, y_pred, average='weighted')\n",
    "print(f\"Métrica Principal - F1 Score Ponderado (Weighted): {weighted_f1:.4f}\\n\")\n",
    "\n",
    "# Reporte de clasificación completo (muestra métricas por cada clase)\n",
    "print(\"Reporte de Clasificación Detallado (por clase):\")\n",
    "# Usamos `target_names` para que el reporte muestre los nombres de las clases\n",
    "print(classification_report(y_true_binarized, y_pred_binarized, target_names=all_labels))\n"
   ]
  },
  {
   "cell_type": "code",
   "execution_count": null,
   "id": "7945b2a4",
   "metadata": {},
   "outputs": [],
   "source": [
    "mcm = multilabel_confusion_matrix(y_test,y_pred)\n",
    "for i, label in enumerate(all_labels):\n",
    "    cm = mcm[i]\n",
    "    plt.figure(figsize=(4, 3))\n",
    "    sns.heatmap(cm, annot=True, fmt=\"d\", cmap=\"Blues\", xticklabels=[\"No\", \"Yes\"], yticklabels=[\"No\", \"Yes\"])\n",
    "    plt.title(f\"Confusion Matrix for {label}\")\n",
    "    plt.ylabel(\"True\")\n",
    "    plt.xlabel(\"Predicted\")\n",
    "    plt.show()"
   ]
  },
  {
   "cell_type": "markdown",
   "id": "448025b7",
   "metadata": {},
   "source": [
    "## guardar resultado"
   ]
  },
  {
   "cell_type": "code",
   "execution_count": null,
   "id": "33ea86cb",
   "metadata": {},
   "outputs": [],
   "source": [
    "print(\"\\n--- GENERANDO ARCHIVO DE SALIDA ---\")\n",
    "\n",
    "# 1. Convertir predicciones binarias a tuplas de texto\n",
    "predicted_labels_tuples = mlb.inverse_transform(y_pred_binarized)\n",
    "\n",
    "# 2. Unir las tuplas en un solo string separado por '|'\n",
    "predicted_labels_strings = ['|'.join(labels) for labels in predicted_labels_tuples]\n",
    "\n",
    "# 3. Crear el DataFrame de salida final\n",
    "# Usamos el 'test_df' que guardamos al principio para tener acceso a 'title' y 'abstract'\n",
    "output_df = df[['title', 'abstract',\"labels\"]].copy()\n",
    "output_df['group_predicted'] = predicted_labels_strings\n",
    "\n",
    "\"\"\" # 4. Guardar en un archivo CSV con el formato requerido\n",
    "output_df.to_csv('predictions_ml_model.csv', index=False, sep=';')\n",
    " \"\"\""
   ]
  },
  {
   "cell_type": "code",
   "execution_count": 181,
   "id": "69d6ef7f",
   "metadata": {},
   "outputs": [
    {
     "data": {
      "text/html": [
       "<div>\n",
       "<style scoped>\n",
       "    .dataframe tbody tr th:only-of-type {\n",
       "        vertical-align: middle;\n",
       "    }\n",
       "\n",
       "    .dataframe tbody tr th {\n",
       "        vertical-align: top;\n",
       "    }\n",
       "\n",
       "    .dataframe thead th {\n",
       "        text-align: right;\n",
       "    }\n",
       "</style>\n",
       "<table border=\"1\" class=\"dataframe\">\n",
       "  <thead>\n",
       "    <tr style=\"text-align: right;\">\n",
       "      <th></th>\n",
       "      <th>title</th>\n",
       "      <th>abstract</th>\n",
       "      <th>group_predicted</th>\n",
       "      <th>labels</th>\n",
       "    </tr>\n",
       "  </thead>\n",
       "  <tbody>\n",
       "    <tr>\n",
       "      <th>0</th>\n",
       "      <td>Adrenoleukodystrophy: survey of 303 cases: bio...</td>\n",
       "      <td>Adrenoleukodystrophy ( ALD ) is a genetically ...</td>\n",
       "      <td>oncological</td>\n",
       "      <td>[neurological, hepatorenal]</td>\n",
       "    </tr>\n",
       "    <tr>\n",
       "      <th>1</th>\n",
       "      <td>endoscopy reveals ventricular tachycardia secrets</td>\n",
       "      <td>Research question: How does metformin affect c...</td>\n",
       "      <td>cardiovascular|oncological</td>\n",
       "      <td>[neurological]</td>\n",
       "    </tr>\n",
       "    <tr>\n",
       "      <th>2</th>\n",
       "      <td>dementia and cholecystitis: organ interplay</td>\n",
       "      <td>Purpose: This randomized controlled study exam...</td>\n",
       "      <td>cardiovascular|hepatorenal|neurological|oncolo...</td>\n",
       "      <td>[hepatorenal]</td>\n",
       "    </tr>\n",
       "    <tr>\n",
       "      <th>3</th>\n",
       "      <td>The interpeduncular nucleus regulates nicotine...</td>\n",
       "      <td>Partial lesions were made with kainic acid in ...</td>\n",
       "      <td>cardiovascular|neurological|oncological</td>\n",
       "      <td>[neurological]</td>\n",
       "    </tr>\n",
       "    <tr>\n",
       "      <th>4</th>\n",
       "      <td>guillain-barre syndrome pathways in leukemia</td>\n",
       "      <td>Hypothesis: statins improves stroke outcomes v...</td>\n",
       "      <td>cardiovascular|neurological|oncological</td>\n",
       "      <td>[neurological]</td>\n",
       "    </tr>\n",
       "    <tr>\n",
       "      <th>...</th>\n",
       "      <td>...</td>\n",
       "      <td>...</td>\n",
       "      <td>...</td>\n",
       "      <td>...</td>\n",
       "    </tr>\n",
       "    <tr>\n",
       "      <th>3560</th>\n",
       "      <td>The effect of recombinant human insulin-like g...</td>\n",
       "      <td>We recently demonstrated that recombinant hGH ...</td>\n",
       "      <td>hepatorenal|oncological</td>\n",
       "      <td>[neurological, cardiovascular, hepatorenal]</td>\n",
       "    </tr>\n",
       "    <tr>\n",
       "      <th>3561</th>\n",
       "      <td>EEG reveals leukemia secrets</td>\n",
       "      <td>Hypothesis: metformin improves dementia outcom...</td>\n",
       "      <td>cardiovascular|neurological|oncological</td>\n",
       "      <td>[neurological]</td>\n",
       "    </tr>\n",
       "    <tr>\n",
       "      <th>3562</th>\n",
       "      <td>venous pathways in angina pectoris</td>\n",
       "      <td>Hypothesis: metformin improves heart disease o...</td>\n",
       "      <td>cardiovascular|oncological</td>\n",
       "      <td>[neurological, cardiovascular]</td>\n",
       "    </tr>\n",
       "    <tr>\n",
       "      <th>3563</th>\n",
       "      <td>Thyroxine abuse: an unusual case of thyrotoxic...</td>\n",
       "      <td>Eating disorders and the associated behavioura...</td>\n",
       "      <td>oncological</td>\n",
       "      <td>[neurological]</td>\n",
       "    </tr>\n",
       "    <tr>\n",
       "      <th>3564</th>\n",
       "      <td>hepatitis and hypertensive: cardiac connections</td>\n",
       "      <td>Aim: To investigate aspirin effects on heart d...</td>\n",
       "      <td>cardiovascular|hepatorenal|oncological</td>\n",
       "      <td>[cardiovascular, oncological]</td>\n",
       "    </tr>\n",
       "  </tbody>\n",
       "</table>\n",
       "<p>3565 rows × 4 columns</p>\n",
       "</div>"
      ],
      "text/plain": [
       "                                                  title  \\\n",
       "0     Adrenoleukodystrophy: survey of 303 cases: bio...   \n",
       "1     endoscopy reveals ventricular tachycardia secrets   \n",
       "2           dementia and cholecystitis: organ interplay   \n",
       "3     The interpeduncular nucleus regulates nicotine...   \n",
       "4          guillain-barre syndrome pathways in leukemia   \n",
       "...                                                 ...   \n",
       "3560  The effect of recombinant human insulin-like g...   \n",
       "3561                       EEG reveals leukemia secrets   \n",
       "3562                 venous pathways in angina pectoris   \n",
       "3563  Thyroxine abuse: an unusual case of thyrotoxic...   \n",
       "3564    hepatitis and hypertensive: cardiac connections   \n",
       "\n",
       "                                               abstract  \\\n",
       "0     Adrenoleukodystrophy ( ALD ) is a genetically ...   \n",
       "1     Research question: How does metformin affect c...   \n",
       "2     Purpose: This randomized controlled study exam...   \n",
       "3     Partial lesions were made with kainic acid in ...   \n",
       "4     Hypothesis: statins improves stroke outcomes v...   \n",
       "...                                                 ...   \n",
       "3560  We recently demonstrated that recombinant hGH ...   \n",
       "3561  Hypothesis: metformin improves dementia outcom...   \n",
       "3562  Hypothesis: metformin improves heart disease o...   \n",
       "3563  Eating disorders and the associated behavioura...   \n",
       "3564  Aim: To investigate aspirin effects on heart d...   \n",
       "\n",
       "                                        group_predicted  \\\n",
       "0                                           oncological   \n",
       "1                            cardiovascular|oncological   \n",
       "2     cardiovascular|hepatorenal|neurological|oncolo...   \n",
       "3               cardiovascular|neurological|oncological   \n",
       "4               cardiovascular|neurological|oncological   \n",
       "...                                                 ...   \n",
       "3560                            hepatorenal|oncological   \n",
       "3561            cardiovascular|neurological|oncological   \n",
       "3562                         cardiovascular|oncological   \n",
       "3563                                        oncological   \n",
       "3564             cardiovascular|hepatorenal|oncological   \n",
       "\n",
       "                                           labels  \n",
       "0                     [neurological, hepatorenal]  \n",
       "1                                  [neurological]  \n",
       "2                                   [hepatorenal]  \n",
       "3                                  [neurological]  \n",
       "4                                  [neurological]  \n",
       "...                                           ...  \n",
       "3560  [neurological, cardiovascular, hepatorenal]  \n",
       "3561                               [neurological]  \n",
       "3562               [neurological, cardiovascular]  \n",
       "3563                               [neurological]  \n",
       "3564                [cardiovascular, oncological]  \n",
       "\n",
       "[3565 rows x 4 columns]"
      ]
     },
     "execution_count": 181,
     "metadata": {},
     "output_type": "execute_result"
    }
   ],
   "source": [
    "output_df"
   ]
  }
 ],
 "metadata": {
  "kernelspec": {
   "display_name": "venv",
   "language": "python",
   "name": "python3"
  },
  "language_info": {
   "codemirror_mode": {
    "name": "ipython",
    "version": 3
   },
   "file_extension": ".py",
   "mimetype": "text/x-python",
   "name": "python",
   "nbconvert_exporter": "python",
   "pygments_lexer": "ipython3",
   "version": "3.12.4"
  }
 },
 "nbformat": 4,
 "nbformat_minor": 5
}
