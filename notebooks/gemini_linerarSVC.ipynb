{
 "cells": [
  {
   "cell_type": "markdown",
   "id": "e5907c95",
   "metadata": {},
   "source": [
    "## Importaciones"
   ]
  },
  {
   "cell_type": "code",
   "execution_count": null,
   "id": "305e77d8",
   "metadata": {},
   "outputs": [],
   "source": [
    "\n",
    "from dotenv import load_dotenv\n",
    "import google.generativeai as genai\n",
    "import pandas as pd\n",
    "import warnings\n",
    "import os\n",
    "import ast\n",
    "import numpy as np\n",
    "import matplotlib.pyplot as plt\n",
    "import seaborn as sns\n",
    "from sklearn.metrics import (\n",
    "    f1_score,\n",
    "    classification_report,\n",
    "    multilabel_confusion_matrix,\n",
    "    accuracy_score,\n",
    ")\n",
    "from sklearn.preprocessing import MultiLabelBinarizer\n",
    "from sklearn.model_selection import train_test_split\n",
    "from sklearn.linear_model import LogisticRegression\n",
    "from sklearn.svm import LinearSVC\n",
    "from sklearn.multiclass import OneVsRestClassifier\n",
    "warnings.filterwarnings(\"ignore\")"
   ]
  },
  {
   "cell_type": "markdown",
   "id": "7cfa9201",
   "metadata": {},
   "source": [
    "## Carga de datos"
   ]
  },
  {
   "cell_type": "markdown",
   "id": "973bc084",
   "metadata": {},
   "source": [
    "En este apartado se realiza la carga de datos de la competencia se crea una nueva columna `labels` donde se estructuran los valores de la columna `group`\n",
    "por ejemplo:  neurologial|hepatorenal en forma de lista como ['neurological','hepatorenal']\n",
    "esto con el objetivo que sea mucho mas facil hacer la clasificación multietiquetas mas adelante."
   ]
  },
  {
   "cell_type": "code",
   "execution_count": 2,
   "id": "3f4c12d4",
   "metadata": {},
   "outputs": [
    {
     "name": "stdout",
     "output_type": "stream",
     "text": [
      "['cardiovascular', 'hepatorenal', 'neurological', 'oncological']\n"
     ]
    }
   ],
   "source": [
    "# Cargar CSV (usa sep=';' porque tu dataset está separado por punto y coma)\n",
    "df = pd.read_csv(\"../data/dataset.csv\", sep=\";\")\n",
    "\n",
    "# Crear columna de etiquetas como listas\n",
    "df[\"labels\"] = df[\"group\"].str.split(\"|\")\n",
    "\n",
    "# Lista de todas las clases únicas\n",
    "all_labels = sorted(set(label for labels in df[\"labels\"] for label in labels))\n",
    "print(all_labels)"
   ]
  },
  {
   "cell_type": "markdown",
   "id": "8364d961",
   "metadata": {},
   "source": [
    "## Generacion de embbedings"
   ]
  },
  {
   "cell_type": "markdown",
   "id": "00788f7f",
   "metadata": {},
   "source": [
    "Utilizando la API de Gemini, se emplea el modelo especializado **text-embedding-004** para generar embeddings. Con la clave de API previamente generada y configurada, se implementa una función que recibe como parámetro un texto. Este texto se construye concatenando los valores de las columnas `title` y `abstract` de cada registro.\n",
    "\n",
    "La función envía este texto al modelo **text-embedding-004**, el cual devuelve un embedding optimizado para tareas de clasificación. Este proceso se repite para cada registro del conjunto de datos y los embeddings generados se almacenan en una nueva columna llamada embedding."
   ]
  },
  {
   "cell_type": "code",
   "execution_count": 19,
   "id": "5e4740aa",
   "metadata": {},
   "outputs": [],
   "source": [
    "# Cargar variables desde .env\n",
    "load_dotenv()\n",
    "\n",
    "# Configurar Gemini con la API Key\n",
    "genai.configure(api_key=os.getenv(\"GEMINI_API_KEY\"))"
   ]
  },
  {
   "cell_type": "code",
   "execution_count": 20,
   "id": "a6611731",
   "metadata": {},
   "outputs": [],
   "source": [
    "# Función para generar embeddings con Gemini\n",
    "def get_gemini_embedding(text):\n",
    "    model = \"models/text-embedding-004\"\n",
    "    if not text or not isinstance(text, str):\n",
    "        return [0.0] * 768  # Tamaño del embedding para este modelo\n",
    "    try:\n",
    "        response = genai.embed_content(\n",
    "            model=model, content=text, task_type=\"classification\"\n",
    "        )\n",
    "        return response[\"embedding\"]\n",
    "    except Exception as e:\n",
    "        print(f\"Error generando embedding para el texto: {text[:50]}... Error: {e}\")\n",
    "        return [0.0] * 768"
   ]
  },
  {
   "cell_type": "code",
   "execution_count": 6,
   "id": "b6c62f86",
   "metadata": {
    "lines_to_next_cell": 2
   },
   "outputs": [],
   "source": [
    "# Convertir a minúsculas para consistencia\n",
    "label_embeddings = {label: get_gemini_embedding(label) for label in all_labels}\n",
    "\n",
    "# Crear texto una nueva columa desde la cual se construiran los embeddings\n",
    "df[\"text\"] = df[\"title\"].fillna(\"\") + \" \" + df[\"abstract\"].fillna(\"\")\n",
    "\n",
    "# construir de los embeddings de cada texto\n",
    "df[\"embedding\"] = df[\"text\"].apply(get_gemini_embedding)"
   ]
  },
  {
   "cell_type": "markdown",
   "id": "9d4817b9",
   "metadata": {},
   "source": [
    "## Modelos"
   ]
  },
  {
   "cell_type": "markdown",
   "id": "3b3bb40f",
   "metadata": {},
   "source": [
    "Una vez generados los embeddings, estos se emplean para entrenar modelos de clasificación. Tras realizar diversas pruebas, los algoritmos que obtuvieron mejores resultados fueron **LogisticRegression** y **LinearSVC**.\n",
    "\n",
    "Para manejar el problema de clasificación multietiqueta, se utilizó **MultiLabelBinarizer**, una herramienta que transforma las etiquetas de cada texto en una representación binaria (matriz de ceros y unos), donde cada columna corresponde a una clase. Esta transformación permite que los modelos trabajen de manera eficiente con múltiples etiquetas por registro.\n",
    "\n",
    "Posteriormente, se aplicó **OneVsRestClassifier**, que entrena un clasificador independiente por cada clase. En este esquema, cada clasificador funciona como un modelo binario encargado de predecir si un texto pertenece o no a una categoría específica."
   ]
  },
  {
   "cell_type": "code",
   "execution_count": 24,
   "id": "ceb33622",
   "metadata": {},
   "outputs": [],
   "source": [
    "X = np.array(df[\"embedding\"].to_list(), dtype=float)\n",
    "\n",
    "# Crear un binarizador multietiqueta usando una lista de todas las clases posibles.\n",
    "mlb = MultiLabelBinarizer(classes=all_labels)\n",
    "\n",
    "# Transformar la columna 'labels' del DataFrame en una matriz binaria.\n",
    "y = mlb.fit_transform(df[\"labels\"])\n",
    "X_train, X_test, y_train, y_test = train_test_split(\n",
    "    X, y, test_size=0.3, random_state=42\n",
    ")"
   ]
  },
  {
   "cell_type": "code",
   "execution_count": null,
   "id": "9b8c6326",
   "metadata": {},
   "outputs": [],
   "source": [
    "\n",
    "# Usar un clasificador que soporte multietiqueta, como OneVsRest con LogisticRegression\n",
    "# OneVsRest entrena un clasificador binario para cada clase, lo cual es ideal para resolver el problema\n",
    "clf = OneVsRestClassifier(\n",
    "    LogisticRegression(solver=\"liblinear\", class_weight=\"balanced\", C=150)\n",
    ")\n",
    "\n",
    "# Entrenar el modelo\n",
    "clf.fit(X_train, y_train)\n",
    "\n",
    "# Hacer predicciones en el conjunto de prueba\n",
    "y_pred = clf.predict(X_test)"
   ]
  },
  {
   "cell_type": "code",
   "execution_count": 25,
   "id": "0e3d8cea",
   "metadata": {
    "lines_to_next_cell": 2
   },
   "outputs": [],
   "source": [
    "# LinearSVC es inherentemente binario, por lo que necesita el wrapper OneVsRest\n",
    "svc_clf = OneVsRestClassifier(\n",
    "    LinearSVC(\n",
    "        dual=True,\n",
    "        random_state=42,\n",
    "        max_iter=2000,\n",
    "        C=16,\n",
    "        tol=0.2,\n",
    "        multi_class=\"crammer_singer\",\n",
    "    )\n",
    ")\n",
    "# Entrenar el modelo\n",
    "svc_clf.fit(X_train, y_train)\n",
    "# Hacer predicciones en el conjunto de prueba\n",
    "y_pred = svc_clf.predict(X_test)"
   ]
  },
  {
   "cell_type": "markdown",
   "id": "0a19af3e",
   "metadata": {},
   "source": [
    "## Evaluacion de resultado"
   ]
  },
  {
   "cell_type": "markdown",
   "id": "cbce2e2b",
   "metadata": {},
   "source": [
    "Una vez entrenado el modelo, se evaluó su desempeño utilizando las métricas **accuracy_score**, **f1_score (weighted)** y la **matriz de confusión**. Dado que el problema es de clasificación multietiqueta, la predicción de una etiqueta correcta no garantiza que el ejemplo esté clasificado de manera adecuada, ya que es necesario identificar correctamente todas las etiquetas correspondientes a cada muestra.  \n",
    "\n",
    "Los resultados mostraron que, tanto con **LinearSVC** como con **LogisticRegression**, el modelo presenta indicios de **sobreajuste (overfitting)**. El análisis del **f1_score ponderado** revela un buen rendimiento en **clases mayoritarias**, mientras que las **clases minoritarias** son más difíciles de predecir. Esta tendencia se confirma en la **matriz de confusión**, donde se observa que los errores suelen presentarse cuando el modelo no logra predecir todas las etiquetas de una muestra, afectando la exactitud global.  \n",
    "\n",
    "Entre los modelos evaluados, **LinearSVC** obtuvo el mejor desempeño general, mostrando una mayor capacidad de clasificación frente a **LogisticRegression**.  \n"
   ]
  },
  {
   "cell_type": "code",
   "execution_count": 10,
   "id": "efa8822b",
   "metadata": {},
   "outputs": [
    {
     "name": "stdout",
     "output_type": "stream",
     "text": [
      "el modelo presenta un accuracy de 0.8369% en train\n"
     ]
    }
   ],
   "source": [
    "# Calculo de acurracy en train\n",
    "predict = svc_clf.predict(X_train)\n",
    "accuracy = accuracy_score(y_train, predict)\n",
    "print(f\"el modelo presenta un accuracy de {accuracy:.4f}% en train\")"
   ]
  },
  {
   "cell_type": "code",
   "execution_count": 11,
   "id": "acab22ee",
   "metadata": {},
   "outputs": [
    {
     "name": "stdout",
     "output_type": "stream",
     "text": [
      "el modelo presenta un accuracy de 0.6813% en test\n"
     ]
    }
   ],
   "source": [
    "# Calculo de acurracy en test\n",
    "accuracy = accuracy_score(y_pred, y_test)\n",
    "print(f\"el modelo presenta un accuracy de {accuracy:.4f}% en test\")"
   ]
  },
  {
   "cell_type": "code",
   "execution_count": 26,
   "id": "c209edef",
   "metadata": {
    "lines_to_next_cell": 2
   },
   "outputs": [
    {
     "name": "stdout",
     "output_type": "stream",
     "text": [
      "Métrica Principal - F1 Score Ponderado (Weighted): 0.8502\n",
      "\n",
      "Reporte de Clasificación Detallado (por clase):\n",
      "                precision    recall  f1-score   support\n",
      "\n",
      "cardiovascular       0.89      0.85      0.87       375\n",
      "   hepatorenal       0.90      0.80      0.84       346\n",
      "  neurological       0.85      0.86      0.85       514\n",
      "   oncological       0.93      0.73      0.81       204\n",
      "\n",
      "     micro avg       0.88      0.82      0.85      1439\n",
      "     macro avg       0.89      0.81      0.85      1439\n",
      "  weighted avg       0.88      0.82      0.85      1439\n",
      "   samples avg       0.90      0.87      0.86      1439\n",
      "\n"
     ]
    }
   ],
   "source": [
    "# Calcular F1-Score Ponderado (\n",
    "weighted_f1 = f1_score(y_test, y_pred, average=\"weighted\")\n",
    "print(f\"Métrica Principal - F1 Score Ponderado (Weighted): {weighted_f1:.4f}\\n\")\n",
    "\n",
    "# Reporte de clasificación completo (muestra métricas por cada clase)\n",
    "print(\"Reporte de Clasificación Detallado (por clase):\")\n",
    "# Usamos `target_names` para que el reporte muestre los nombres de las clases\n",
    "print(classification_report(y_test, y_pred, target_names=all_labels))"
   ]
  },
  {
   "cell_type": "code",
   "execution_count": 13,
   "id": "484c00db",
   "metadata": {},
   "outputs": [
    {
     "data": {
      "image/png": "[encoded data removed]",
      "text/plain": [
       "<Figure size 400x300 with 2 Axes>"
      ]
     },
     "metadata": {},
     "output_type": "display_data"
    },
    {
     "data": {
      "image/png": "[encoded data removed]",
      "text/plain": [
       "<Figure size 400x300 with 2 Axes>"
      ]
     },
     "metadata": {},
     "output_type": "display_data"
    },
    {
     "data": {
      "image/png": "[encoded data removed]",
      "text/plain": [
       "<Figure size 400x300 with 2 Axes>"
      ]
     },
     "metadata": {},
     "output_type": "display_data"
    },
    {
     "data": {
      "image/png": "[encoded data removed]",
      "text/plain": [
       "<Figure size 400x300 with 2 Axes>"
      ]
     },
     "metadata": {},
     "output_type": "display_data"
    }
   ],
   "source": [
    "mcm = multilabel_confusion_matrix(y_test, y_pred)\n",
    "for i, label in enumerate(all_labels):\n",
    "    cm = mcm[i]\n",
    "    plt.figure(figsize=(4, 3))\n",
    "    sns.heatmap(\n",
    "        cm,\n",
    "        annot=True,\n",
    "        fmt=\"d\",\n",
    "        cmap=\"Blues\",\n",
    "        xticklabels=[\"No\", \"Yes\"],\n",
    "        yticklabels=[\"No\", \"Yes\"],\n",
    "    )\n",
    "    plt.title(f\"Confusion Matrix for {label}\")\n",
    "    plt.ylabel(\"True\")\n",
    "    plt.xlabel(\"Predicted\")\n",
    "    plt.show()"
   ]
  },
  {
   "cell_type": "code",
   "execution_count": null,
   "id": "5ee68d29",
   "metadata": {},
   "outputs": [],
   "source": [
    "y_pred=svc_clf.predict(X)\n",
    "#Convertir predicciones binarias a tuplas de texto\n",
    "predicted_labels_tuples = mlb.inverse_transform(y_pred)\n",
    "\n",
    "#Unir las tuplas en un solo string separado por '|'\n",
    "predicted_labels_strings = [\"|\".join(labels) for labels in predicted_labels_tuples]\n",
    "\n",
    "#Crear el DataFrame de salida final\n",
    "output_df = pd.DataFrame(predicted_labels_strings)\n",
    "output_df = df[[\"title\", \"abstract\"]].copy()\n",
    "output_df[\"group_predicted\"] = predicted_labels_strings"
   ]
  },
  {
   "cell_type": "code",
   "execution_count": 21,
   "id": "41fda5f4",
   "metadata": {},
   "outputs": [
    {
     "data": {
      "text/plain": [
       "group_predicted\n",
       "neurological                               1184\n",
       "cardiovascular                              686\n",
       "hepatorenal                                 539\n",
       "cardiovascular|neurological                 282\n",
       "oncological                                 217\n",
       "hepatorenal|neurological                    168\n",
       "cardiovascular|hepatorenal                  146\n",
       "neurological|oncological                    111\n",
       "hepatorenal|oncological                      86\n",
       "cardiovascular|oncological                   52\n",
       "                                             41\n",
       "hepatorenal|neurological|oncological         22\n",
       "cardiovascular|hepatorenal|neurological      13\n",
       "cardiovascular|neurological|oncological      12\n",
       "cardiovascular|hepatorenal|oncological        6\n",
       "Name: count, dtype: int64"
      ]
     },
     "execution_count": 21,
     "metadata": {},
     "output_type": "execute_result"
    }
   ],
   "source": [
    "output_df[\"group_predicted\"].value_counts()"
   ]
  },
  {
   "cell_type": "code",
   "execution_count": 18,
   "id": "bdcead4f",
   "metadata": {},
   "outputs": [
    {
     "data": {
      "text/html": [
       "<div>\n",
       "<style scoped>\n",
       "    .dataframe tbody tr th:only-of-type {\n",
       "        vertical-align: middle;\n",
       "    }\n",
       "\n",
       "    .dataframe tbody tr th {\n",
       "        vertical-align: top;\n",
       "    }\n",
       "\n",
       "    .dataframe thead th {\n",
       "        text-align: right;\n",
       "    }\n",
       "</style>\n",
       "<table border=\"1\" class=\"dataframe\">\n",
       "  <thead>\n",
       "    <tr style=\"text-align: right;\">\n",
       "      <th></th>\n",
       "      <th>title</th>\n",
       "      <th>abstract</th>\n",
       "      <th>group_predicted</th>\n",
       "    </tr>\n",
       "  </thead>\n",
       "  <tbody>\n",
       "    <tr>\n",
       "      <th>0</th>\n",
       "      <td>Adrenoleukodystrophy: survey of 303 cases: bio...</td>\n",
       "      <td>Adrenoleukodystrophy ( ALD ) is a genetically ...</td>\n",
       "      <td>hepatorenal|neurological</td>\n",
       "    </tr>\n",
       "    <tr>\n",
       "      <th>1</th>\n",
       "      <td>endoscopy reveals ventricular tachycardia secrets</td>\n",
       "      <td>Research question: How does metformin affect c...</td>\n",
       "      <td>neurological</td>\n",
       "    </tr>\n",
       "    <tr>\n",
       "      <th>2</th>\n",
       "      <td>dementia and cholecystitis: organ interplay</td>\n",
       "      <td>Purpose: This randomized controlled study exam...</td>\n",
       "      <td>hepatorenal</td>\n",
       "    </tr>\n",
       "    <tr>\n",
       "      <th>3</th>\n",
       "      <td>The interpeduncular nucleus regulates nicotine...</td>\n",
       "      <td>Partial lesions were made with kainic acid in ...</td>\n",
       "      <td>neurological</td>\n",
       "    </tr>\n",
       "    <tr>\n",
       "      <th>4</th>\n",
       "      <td>guillain-barre syndrome pathways in leukemia</td>\n",
       "      <td>Hypothesis: statins improves stroke outcomes v...</td>\n",
       "      <td>neurological</td>\n",
       "    </tr>\n",
       "    <tr>\n",
       "      <th>...</th>\n",
       "      <td>...</td>\n",
       "      <td>...</td>\n",
       "      <td>...</td>\n",
       "    </tr>\n",
       "    <tr>\n",
       "      <th>3560</th>\n",
       "      <td>The effect of recombinant human insulin-like g...</td>\n",
       "      <td>We recently demonstrated that recombinant hGH ...</td>\n",
       "      <td>hepatorenal</td>\n",
       "    </tr>\n",
       "    <tr>\n",
       "      <th>3561</th>\n",
       "      <td>EEG reveals leukemia secrets</td>\n",
       "      <td>Hypothesis: metformin improves dementia outcom...</td>\n",
       "      <td>neurological</td>\n",
       "    </tr>\n",
       "    <tr>\n",
       "      <th>3562</th>\n",
       "      <td>venous pathways in angina pectoris</td>\n",
       "      <td>Hypothesis: metformin improves heart disease o...</td>\n",
       "      <td>cardiovascular|neurological</td>\n",
       "    </tr>\n",
       "    <tr>\n",
       "      <th>3563</th>\n",
       "      <td>Thyroxine abuse: an unusual case of thyrotoxic...</td>\n",
       "      <td>Eating disorders and the associated behavioura...</td>\n",
       "      <td>neurological</td>\n",
       "    </tr>\n",
       "    <tr>\n",
       "      <th>3564</th>\n",
       "      <td>hepatitis and hypertensive: cardiac connections</td>\n",
       "      <td>Aim: To investigate aspirin effects on heart d...</td>\n",
       "      <td>cardiovascular</td>\n",
       "    </tr>\n",
       "  </tbody>\n",
       "</table>\n",
       "<p>3565 rows × 3 columns</p>\n",
       "</div>"
      ],
      "text/plain": [
       "                                                  title  \\\n",
       "0     Adrenoleukodystrophy: survey of 303 cases: bio...   \n",
       "1     endoscopy reveals ventricular tachycardia secrets   \n",
       "2           dementia and cholecystitis: organ interplay   \n",
       "3     The interpeduncular nucleus regulates nicotine...   \n",
       "4          guillain-barre syndrome pathways in leukemia   \n",
       "...                                                 ...   \n",
       "3560  The effect of recombinant human insulin-like g...   \n",
       "3561                       EEG reveals leukemia secrets   \n",
       "3562                 venous pathways in angina pectoris   \n",
       "3563  Thyroxine abuse: an unusual case of thyrotoxic...   \n",
       "3564    hepatitis and hypertensive: cardiac connections   \n",
       "\n",
       "                                               abstract  \\\n",
       "0     Adrenoleukodystrophy ( ALD ) is a genetically ...   \n",
       "1     Research question: How does metformin affect c...   \n",
       "2     Purpose: This randomized controlled study exam...   \n",
       "3     Partial lesions were made with kainic acid in ...   \n",
       "4     Hypothesis: statins improves stroke outcomes v...   \n",
       "...                                                 ...   \n",
       "3560  We recently demonstrated that recombinant hGH ...   \n",
       "3561  Hypothesis: metformin improves dementia outcom...   \n",
       "3562  Hypothesis: metformin improves heart disease o...   \n",
       "3563  Eating disorders and the associated behavioura...   \n",
       "3564  Aim: To investigate aspirin effects on heart d...   \n",
       "\n",
       "                  group_predicted  \n",
       "0        hepatorenal|neurological  \n",
       "1                    neurological  \n",
       "2                     hepatorenal  \n",
       "3                    neurological  \n",
       "4                    neurological  \n",
       "...                           ...  \n",
       "3560                  hepatorenal  \n",
       "3561                 neurological  \n",
       "3562  cardiovascular|neurological  \n",
       "3563                 neurological  \n",
       "3564               cardiovascular  \n",
       "\n",
       "[3565 rows x 3 columns]"
      ]
     },
     "execution_count": 18,
     "metadata": {},
     "output_type": "execute_result"
    }
   ],
   "source": [
    "output_df"
   ]
  }
 ],
 "metadata": {
  "kernelspec": {
   "display_name": "venv",
   "language": "python",
   "name": "python3"
  },
  "language_info": {
   "codemirror_mode": {
    "name": "ipython",
    "version": 3
   },
   "file_extension": ".py",
   "mimetype": "text/x-python",
   "name": "python",
   "nbconvert_exporter": "python",
   "pygments_lexer": "ipython3",
   "version": "3.12.4"
  }
 },
 "nbformat": 4,
 "nbformat_minor": 5
}
